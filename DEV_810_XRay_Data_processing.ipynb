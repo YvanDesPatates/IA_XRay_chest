{
 "cells": [
  {
   "cell_type": "code",
   "execution_count": 1,
   "metadata": {
    "ExecuteTime": {
     "end_time": "2024-06-03T11:55:04.486110Z",
     "start_time": "2024-06-03T11:55:04.254466Z"
    }
   },
   "outputs": [],
   "source": [
    "import os \n",
    "import cv2\n",
    "import numpy as np \n",
    "import matplotlib.pyplot as plt\n",
    "import seaborn as sns\n",
    "import pandas as pd\n",
    "from IPython.display import display\n",
    "\n",
    "from sklearn.pipeline import make_pipeline\n",
    "from sklearn.model_selection import train_test_split\n",
    "from sklearn.model_selection import cross_validate\n",
    "from sklearn.metrics import make_scorer, recall_score, precision_score, f1_score, confusion_matrix\n",
    "\n",
    "\n",
    "from sklearn.dummy import DummyClassifier\n",
    "from sklearn.neighbors import KNeighborsClassifier\n"
   ]
  },
  {
   "cell_type": "code",
   "execution_count": 2,
   "metadata": {
    "ExecuteTime": {
     "end_time": "2024-06-03T11:55:04.494309Z",
     "start_time": "2024-06-03T11:55:04.487258Z"
    }
   },
   "outputs": [],
   "source": [
    "common_path = \"./chest_Xray\"\n",
    "images_files = os.listdir(common_path)\n",
    "subfolders = [\"train\",\"val\",\"test\"]\n",
    "categories = [\"NORMAL\",\"PNEUMONIA\"]\n",
    "\n",
    "# Permet de parcourir les images, et pour chaque image, on applique une fonction de callback\n",
    "# On peut optionnellement appeler une fonction de callback pour chaque dossier\n",
    "def browse_imgs(img_callback, path_folder_callback = None, limit_size = None):\n",
    "    for subfolder in subfolders:\n",
    "        for category in categories:\n",
    "            # pour avoir tous les chemins des 6 dossiers\n",
    "            folder_path = os.path.join(common_path, subfolder, category)\n",
    "            # liste de toutes les images\n",
    "            images_files = os.listdir(folder_path)\n",
    "            if path_folder_callback is not None:\n",
    "                path_folder_callback(folder_path, images_files)\n",
    "            array_limit = limit_size if limit_size is not None else len(images_files)\n",
    "            #récupération de toutes les (ou des 'limit_size' premières) images du dossier.\n",
    "            for file_name in images_files[:array_limit]:\n",
    "                if not file_name.endswith(\".jpeg\"):\n",
    "                    continue\n",
    "                image_path = os.path.join(folder_path,file_name)\n",
    "                img = cv2.imread(image_path,cv2.IMREAD_GRAYSCALE)\n",
    "                img_callback(img, category)\n",
    "                \n",
    "                \n",
    "def display_imgs(imgs, titles = [], plot_size = (1,1), figsize = (10,8)):\n",
    "    fig = plt.figure(figsize=figsize)\n",
    "    index = 0\n",
    "    for image, title in zip(imgs, titles):\n",
    "        index += 1\n",
    "        ax = fig.add_subplot(plot_size[0], plot_size[1], index) \n",
    "        ax.imshow(image, cmap=\"gray\")\n",
    "        ax.axis(\"off\")\n",
    "        if titles is not None:\n",
    "            ax.set_title(title)\n",
    "\n",
    "    plt.tight_layout()\n",
    "    plt.show()"
   ]
  },
  {
   "cell_type": "code",
   "execution_count": 3,
   "metadata": {
    "collapsed": false,
    "ExecuteTime": {
     "end_time": "2024-06-03T11:55:04.498944Z",
     "start_time": "2024-06-03T11:55:04.495455Z"
    }
   },
   "outputs": [],
   "source": [
    "def img_is_in_ratio(img, min_ratio = 1, max_ratio = 1.5):\n",
    "    height, width = img.shape\n",
    "    ratio = width / height\n",
    "    if min_ratio <= ratio <= max_ratio:\n",
    "        return True\n",
    "    else:\n",
    "        return False"
   ]
  },
  {
   "cell_type": "code",
   "execution_count": 4,
   "metadata": {
    "collapsed": false,
    "ExecuteTime": {
     "end_time": "2024-06-03T11:55:04.503295Z",
     "start_time": "2024-06-03T11:55:04.500655Z"
    }
   },
   "outputs": [],
   "source": [
    "grey_scale_limit = 10\n",
    "\n",
    "def img_has_atleast_black_pixels(img, threshold = 5):\n",
    "    height, width = img.shape\n",
    "    percent = (np.sum(img <= grey_scale_limit)*100)/(width*height)\n",
    "    return percent >= threshold"
   ]
  },
  {
   "cell_type": "code",
   "execution_count": 5,
   "metadata": {
    "collapsed": false,
    "ExecuteTime": {
     "end_time": "2024-06-03T11:55:48.178594Z",
     "start_time": "2024-06-03T11:55:04.504643Z"
    }
   },
   "outputs": [
    {
     "name": "stdout",
     "output_type": "stream",
     "text": [
      "Dataset all shape :  (5856, 800, 800)\n",
      "Dataset bp shape :  (3178, 800, 800)\n",
      "Dataset ration shape :  (4431, 800, 800)\n",
      "Dataset bp+ratio shape :  (2502, 800, 800)\n"
     ]
    }
   ],
   "source": [
    "all_images = []\n",
    "all_categories = []\n",
    "\n",
    "max_ratio_threshold = 1.6\n",
    "all_images_index_ratio = []\n",
    "\n",
    "min_black_pixels_threshold = 5\n",
    "all_images_indexes_black_pixels = []\n",
    "\n",
    "all_images_index_ratio_and_black_pixels = []\n",
    "\n",
    "datasetX = []\n",
    "datasetY = []\n",
    "\n",
    "image_size = (800, 800)\n",
    "\n",
    "def load_datasets(img, category):\n",
    "    new_img = cv2.resize(img, image_size)\n",
    "    all_images.append(new_img)\n",
    "    all_categories.append(category)\n",
    "\n",
    "    if img_is_in_ratio(img, max_ratio=max_ratio_threshold):\n",
    "        all_images_index_ratio.append(len(all_images)-1)\n",
    "\n",
    "    if img_has_atleast_black_pixels(img, threshold=min_black_pixels_threshold):\n",
    "        all_images_indexes_black_pixels.append(len(all_images)-1)\n",
    "\n",
    "    if img_has_atleast_black_pixels(img, threshold=min_black_pixels_threshold) and img_is_in_ratio(img, max_ratio=max_ratio_threshold):\n",
    "        all_images_index_ratio_and_black_pixels.append(len(all_images)-1)\n",
    "\n",
    "    \n",
    "browse_imgs(load_datasets)\n",
    "\n",
    "def use_all_dataset():\n",
    "    global datasetX, datasetY\n",
    "    datasetX = np.array(all_images)\n",
    "    datasetY = np.array(all_categories)\n",
    " \n",
    "def use_ratio_dataset():\n",
    "    global datasetX, datasetY\n",
    "    datasetX = np.array([all_images[i] for i in all_images_index_ratio])\n",
    "    datasetY = np.array([all_categories[i] for i in all_images_index_ratio])\n",
    "\n",
    "def use_black_pixel_dataset():\n",
    "    global datasetX, datasetY\n",
    "    datasetX = np.array([all_images[i] for i in all_images_indexes_black_pixels])\n",
    "    datasetY = np.array([all_categories[i] for i in all_images_indexes_black_pixels])\n",
    "\n",
    "def use_ratio_black_pixel_dataset():\n",
    "    global datasetX, datasetY\n",
    "    datasetX = np.array([all_images[i] for i in all_images_index_ratio_and_black_pixels])\n",
    "    datasetY = np.array([all_categories[i] for i in all_images_index_ratio_and_black_pixels])\n",
    "\n",
    "use_all_dataset()\n",
    "print(\"Dataset all shape : \", datasetX.shape)\n",
    "use_black_pixel_dataset()\n",
    "print(\"Dataset bp shape : \", datasetX.shape)\n",
    "use_ratio_dataset()\n",
    "print(\"Dataset ration shape : \", datasetX.shape)\n",
    "use_ratio_black_pixel_dataset()\n",
    "print(\"Dataset bp+ratio shape : \", datasetX.shape)\n"
   ]
  },
  {
   "cell_type": "code",
   "execution_count": 6,
   "metadata": {
    "ExecuteTime": {
     "end_time": "2024-06-03T11:55:48.184063Z",
     "start_time": "2024-06-03T11:55:48.180135Z"
    }
   },
   "outputs": [],
   "source": [
    "from sklearn.metrics import make_scorer, f1_score\n",
    "\n",
    "def cross_val(model, load_dataset_function, scoring, nb_folds=5):\n",
    "    load_dataset_function()\n",
    "    res = cross_validate(model, datasetX, datasetY, cv=nb_folds, scoring=scoring, return_train_score=True)\n",
    "    res.pop(\"fit_time\")\n",
    "    res.pop(\"score_time\")\n",
    "    for dataset_key in res:\n",
    "        mean = res[dataset_key].mean()\n",
    "        std = res[dataset_key].std()\n",
    "        res[dataset_key] = {\"mean\": mean, \"std\": std}\n",
    "    return pd.DataFrame(res)    \n",
    "\n",
    "def fit_and_score_each_dataset(model, scoring):\n",
    "    res = {}\n",
    "    \n",
    "    res[\"all\"] = (cross_val(model, use_all_dataset, scoring))\n",
    "    res[\"ratio\"] = (cross_val(model, use_ratio_dataset, scoring))\n",
    "    res[\"black_pixel\"] = (cross_val(model, use_black_pixel_dataset, scoring))\n",
    "    res[\"ratio_black_pixel\"] = (cross_val(model, use_ratio_black_pixel_dataset, scoring))\n",
    "    \n",
    "    return res"
   ]
  },
  {
   "cell_type": "code",
   "outputs": [],
   "source": [
    "class ResizeImageTransformer():\n",
    "    def __init__(self, size):\n",
    "        self.size = size\n",
    "        \n",
    "    def fit(self, X, y=None):\n",
    "        return self\n",
    "\n",
    "    def transform(self, X, y=None):\n",
    "        X = np.array([cv2.resize(img, self.size) for img in X])\n",
    "        return X\n",
    "\n",
    "class FlattenTransformer():    \n",
    "    def fit(self, X, y=None):\n",
    "        return self\n",
    "\n",
    "    def transform(self, X, y=None):\n",
    "        X = X.reshape(len(X), -1)\n",
    "        return X"
   ],
   "metadata": {
    "collapsed": false,
    "ExecuteTime": {
     "end_time": "2024-06-03T11:55:48.189024Z",
     "start_time": "2024-06-03T11:55:48.185007Z"
    }
   },
   "execution_count": 7
  },
  {
   "cell_type": "code",
   "outputs": [],
   "source": [
    "general_scoring = {\n",
    "    \"recall\": make_scorer(recall_score, pos_label=\"PNEUMONIA\"),\n",
    "    \"precision\": make_scorer(precision_score, pos_label=\"PNEUMONIA\"),\n",
    "    \"f1\": make_scorer(f1_score, pos_label=\"PNEUMONIA\")\n",
    "}"
   ],
   "metadata": {
    "collapsed": false,
    "ExecuteTime": {
     "end_time": "2024-06-03T11:55:48.195124Z",
     "start_time": "2024-06-03T11:55:48.191398Z"
    }
   },
   "execution_count": 8
  },
  {
   "cell_type": "code",
   "outputs": [],
   "source": [
    "model = make_pipeline(\n",
    "    FlattenTransformer(),\n",
    "    DummyClassifier(strategy=\"most_frequent\")\n",
    ")\n",
    "\n",
    "scores = fit_and_score_each_dataset(model, general_scoring)\n",
    "df = pd.DataFrame(scores)\n",
    "df"
   ],
   "metadata": {
    "collapsed": false,
    "is_executing": true,
    "ExecuteTime": {
     "start_time": "2024-05-28T14:30:59.303207Z"
    }
   },
   "execution_count": null
  },
  {
   "cell_type": "code",
   "outputs": [
    {
     "name": "stdout",
     "output_type": "stream",
     "text": [
      "recall :  1.0\n",
      "precision :  0.7440273037542662\n",
      "f1score :  0.8532289628180039\n"
     ]
    },
    {
     "data": {
      "text/plain": "<Figure size 640x480 with 2 Axes>",
      "image/png": "[encoded data removed]"
     },
     "metadata": {},
     "output_type": "display_data"
    }
   ],
   "source": [
    "use_all_dataset()\n",
    "\n",
    "trainx, testx, trainy, testy = train_test_split(datasetX, datasetY, test_size=0.2, random_state=1)\n",
    "model.fit(trainx, trainy)\n",
    "\n",
    "y_pred = model.predict(testx)\n",
    "recall = recall_score(testy, y_pred, pos_label=\"PNEUMONIA\")\n",
    "precision = precision_score(testy, y_pred, pos_label=\"PNEUMONIA\")\n",
    "f1score = f1_score(testy, y_pred, pos_label=\"PNEUMONIA\")\n",
    "print(\"recall : \", recall)\n",
    "print(\"precision : \", precision)\n",
    "print(\"f1score : \", f1score)\n",
    "\n",
    "cm = confusion_matrix(testy, y_pred)\n",
    "sns.heatmap(cm, annot=True, fmt=\"d\")\n",
    "plt.title(\"Dummy Classifier Confusion Matrix\")\n",
    "plt.show()"
   ],
   "metadata": {
    "collapsed": false,
    "ExecuteTime": {
     "end_time": "2024-05-28T10:16:26.012871Z",
     "start_time": "2024-05-28T10:16:24.306643Z"
    }
   },
   "execution_count": 10
  },
  {
   "cell_type": "code",
   "outputs": [
    {
     "ename": "ValueError",
     "evalue": "If using all scalar values, you must pass an index",
     "output_type": "error",
     "traceback": [
      "\u001B[0;31m---------------------------------------------------------------------------\u001B[0m",
      "\u001B[0;31mValueError\u001B[0m                                Traceback (most recent call last)",
      "Cell \u001B[0;32mIn[9], line 9\u001B[0m\n\u001B[1;32m      2\u001B[0m model \u001B[38;5;241m=\u001B[39m make_pipeline(\n\u001B[1;32m      3\u001B[0m     ResizeImageTransformer(size\u001B[38;5;241m=\u001B[39m(\u001B[38;5;241m200\u001B[39m,\u001B[38;5;241m200\u001B[39m)),\n\u001B[1;32m      4\u001B[0m     FlattenTransformer(),\n\u001B[1;32m      5\u001B[0m     KNeighborsClassifier(n_neighbors\u001B[38;5;241m=\u001B[39m\u001B[38;5;241m11\u001B[39m)\n\u001B[1;32m      6\u001B[0m )\n\u001B[1;32m      8\u001B[0m scores \u001B[38;5;241m=\u001B[39m fit_and_score_each_dataset(model, general_scoring)\n\u001B[0;32m----> 9\u001B[0m df \u001B[38;5;241m=\u001B[39m \u001B[43mpd\u001B[49m\u001B[38;5;241;43m.\u001B[39;49m\u001B[43mDataFrame\u001B[49m\u001B[43m(\u001B[49m\u001B[43mscores\u001B[49m\u001B[43m)\u001B[49m\n\u001B[1;32m     10\u001B[0m df\n",
      "File \u001B[0;32m/usr/local/lib/python3.10/dist-packages/pandas/core/frame.py:767\u001B[0m, in \u001B[0;36mDataFrame.__init__\u001B[0;34m(self, data, index, columns, dtype, copy)\u001B[0m\n\u001B[1;32m    761\u001B[0m     mgr \u001B[38;5;241m=\u001B[39m \u001B[38;5;28mself\u001B[39m\u001B[38;5;241m.\u001B[39m_init_mgr(\n\u001B[1;32m    762\u001B[0m         data, axes\u001B[38;5;241m=\u001B[39m{\u001B[38;5;124m\"\u001B[39m\u001B[38;5;124mindex\u001B[39m\u001B[38;5;124m\"\u001B[39m: index, \u001B[38;5;124m\"\u001B[39m\u001B[38;5;124mcolumns\u001B[39m\u001B[38;5;124m\"\u001B[39m: columns}, dtype\u001B[38;5;241m=\u001B[39mdtype, copy\u001B[38;5;241m=\u001B[39mcopy\n\u001B[1;32m    763\u001B[0m     )\n\u001B[1;32m    765\u001B[0m \u001B[38;5;28;01melif\u001B[39;00m \u001B[38;5;28misinstance\u001B[39m(data, \u001B[38;5;28mdict\u001B[39m):\n\u001B[1;32m    766\u001B[0m     \u001B[38;5;66;03m# GH#38939 de facto copy defaults to False only in non-dict cases\u001B[39;00m\n\u001B[0;32m--> 767\u001B[0m     mgr \u001B[38;5;241m=\u001B[39m \u001B[43mdict_to_mgr\u001B[49m\u001B[43m(\u001B[49m\u001B[43mdata\u001B[49m\u001B[43m,\u001B[49m\u001B[43m \u001B[49m\u001B[43mindex\u001B[49m\u001B[43m,\u001B[49m\u001B[43m \u001B[49m\u001B[43mcolumns\u001B[49m\u001B[43m,\u001B[49m\u001B[43m \u001B[49m\u001B[43mdtype\u001B[49m\u001B[38;5;241;43m=\u001B[39;49m\u001B[43mdtype\u001B[49m\u001B[43m,\u001B[49m\u001B[43m \u001B[49m\u001B[43mcopy\u001B[49m\u001B[38;5;241;43m=\u001B[39;49m\u001B[43mcopy\u001B[49m\u001B[43m,\u001B[49m\u001B[43m \u001B[49m\u001B[43mtyp\u001B[49m\u001B[38;5;241;43m=\u001B[39;49m\u001B[43mmanager\u001B[49m\u001B[43m)\u001B[49m\n\u001B[1;32m    768\u001B[0m \u001B[38;5;28;01melif\u001B[39;00m \u001B[38;5;28misinstance\u001B[39m(data, ma\u001B[38;5;241m.\u001B[39mMaskedArray):\n\u001B[1;32m    769\u001B[0m     \u001B[38;5;28;01mfrom\u001B[39;00m \u001B[38;5;21;01mnumpy\u001B[39;00m\u001B[38;5;21;01m.\u001B[39;00m\u001B[38;5;21;01mma\u001B[39;00m \u001B[38;5;28;01mimport\u001B[39;00m mrecords\n",
      "File \u001B[0;32m/usr/local/lib/python3.10/dist-packages/pandas/core/internals/construction.py:503\u001B[0m, in \u001B[0;36mdict_to_mgr\u001B[0;34m(data, index, columns, dtype, typ, copy)\u001B[0m\n\u001B[1;32m    499\u001B[0m     \u001B[38;5;28;01melse\u001B[39;00m:\n\u001B[1;32m    500\u001B[0m         \u001B[38;5;66;03m# dtype check to exclude e.g. range objects, scalars\u001B[39;00m\n\u001B[1;32m    501\u001B[0m         arrays \u001B[38;5;241m=\u001B[39m [x\u001B[38;5;241m.\u001B[39mcopy() \u001B[38;5;28;01mif\u001B[39;00m \u001B[38;5;28mhasattr\u001B[39m(x, \u001B[38;5;124m\"\u001B[39m\u001B[38;5;124mdtype\u001B[39m\u001B[38;5;124m\"\u001B[39m) \u001B[38;5;28;01melse\u001B[39;00m x \u001B[38;5;28;01mfor\u001B[39;00m x \u001B[38;5;129;01min\u001B[39;00m arrays]\n\u001B[0;32m--> 503\u001B[0m \u001B[38;5;28;01mreturn\u001B[39;00m \u001B[43marrays_to_mgr\u001B[49m\u001B[43m(\u001B[49m\u001B[43marrays\u001B[49m\u001B[43m,\u001B[49m\u001B[43m \u001B[49m\u001B[43mcolumns\u001B[49m\u001B[43m,\u001B[49m\u001B[43m \u001B[49m\u001B[43mindex\u001B[49m\u001B[43m,\u001B[49m\u001B[43m \u001B[49m\u001B[43mdtype\u001B[49m\u001B[38;5;241;43m=\u001B[39;49m\u001B[43mdtype\u001B[49m\u001B[43m,\u001B[49m\u001B[43m \u001B[49m\u001B[43mtyp\u001B[49m\u001B[38;5;241;43m=\u001B[39;49m\u001B[43mtyp\u001B[49m\u001B[43m,\u001B[49m\u001B[43m \u001B[49m\u001B[43mconsolidate\u001B[49m\u001B[38;5;241;43m=\u001B[39;49m\u001B[43mcopy\u001B[49m\u001B[43m)\u001B[49m\n",
      "File \u001B[0;32m/usr/local/lib/python3.10/dist-packages/pandas/core/internals/construction.py:114\u001B[0m, in \u001B[0;36marrays_to_mgr\u001B[0;34m(arrays, columns, index, dtype, verify_integrity, typ, consolidate)\u001B[0m\n\u001B[1;32m    111\u001B[0m \u001B[38;5;28;01mif\u001B[39;00m verify_integrity:\n\u001B[1;32m    112\u001B[0m     \u001B[38;5;66;03m# figure out the index, if necessary\u001B[39;00m\n\u001B[1;32m    113\u001B[0m     \u001B[38;5;28;01mif\u001B[39;00m index \u001B[38;5;129;01mis\u001B[39;00m \u001B[38;5;28;01mNone\u001B[39;00m:\n\u001B[0;32m--> 114\u001B[0m         index \u001B[38;5;241m=\u001B[39m \u001B[43m_extract_index\u001B[49m\u001B[43m(\u001B[49m\u001B[43marrays\u001B[49m\u001B[43m)\u001B[49m\n\u001B[1;32m    115\u001B[0m     \u001B[38;5;28;01melse\u001B[39;00m:\n\u001B[1;32m    116\u001B[0m         index \u001B[38;5;241m=\u001B[39m ensure_index(index)\n",
      "File \u001B[0;32m/usr/local/lib/python3.10/dist-packages/pandas/core/internals/construction.py:667\u001B[0m, in \u001B[0;36m_extract_index\u001B[0;34m(data)\u001B[0m\n\u001B[1;32m    664\u001B[0m         \u001B[38;5;28;01mraise\u001B[39;00m \u001B[38;5;167;01mValueError\u001B[39;00m(\u001B[38;5;124m\"\u001B[39m\u001B[38;5;124mPer-column arrays must each be 1-dimensional\u001B[39m\u001B[38;5;124m\"\u001B[39m)\n\u001B[1;32m    666\u001B[0m \u001B[38;5;28;01mif\u001B[39;00m \u001B[38;5;129;01mnot\u001B[39;00m indexes \u001B[38;5;129;01mand\u001B[39;00m \u001B[38;5;129;01mnot\u001B[39;00m raw_lengths:\n\u001B[0;32m--> 667\u001B[0m     \u001B[38;5;28;01mraise\u001B[39;00m \u001B[38;5;167;01mValueError\u001B[39;00m(\u001B[38;5;124m\"\u001B[39m\u001B[38;5;124mIf using all scalar values, you must pass an index\u001B[39m\u001B[38;5;124m\"\u001B[39m)\n\u001B[1;32m    669\u001B[0m \u001B[38;5;28;01mif\u001B[39;00m have_series:\n\u001B[1;32m    670\u001B[0m     index \u001B[38;5;241m=\u001B[39m union_indexes(indexes)\n",
      "\u001B[0;31mValueError\u001B[0m: If using all scalar values, you must pass an index"
     ]
    }
   ],
   "source": [
    "#test du 03/06\n",
    "model = make_pipeline(\n",
    "    ResizeImageTransformer(size=(200,200)),\n",
    "    FlattenTransformer(),\n",
    "    KNeighborsClassifier(n_neighbors=11)\n",
    ")\n",
    "\n",
    "scores = fit_and_score_each_dataset(model, general_scoring)"
   ],
   "metadata": {
    "collapsed": false,
    "ExecuteTime": {
     "end_time": "2024-06-03T09:18:46.722982Z",
     "start_time": "2024-06-03T09:16:42.883458Z"
    }
   },
   "execution_count": 9
  },
  {
   "cell_type": "code",
   "outputs": [
    {
     "data": {
      "text/plain": "{'all':       test_recall  train_recall  test_precision  train_precision   test_f1  \\\n mean     0.985021      0.987713        0.900864         0.918536  0.940488   \n std      0.003808      0.001624        0.043411         0.009123  0.024391   \n \n       train_f1  \n mean  0.951847  \n std   0.005066  ,\n 'ratio':       test_recall  train_recall  test_precision  train_precision   test_f1  \\\n mean     0.968619       0.97604        0.891351         0.917500  0.927431   \n std      0.007135       0.00287        0.051977         0.007623  0.027863   \n \n       train_f1  \n mean  0.945853  \n std   0.004923  ,\n 'black_pixel':       test_recall  train_recall  test_precision  train_precision   test_f1  \\\n mean     0.958160      0.969279        0.868192         0.885556  0.909826   \n std      0.006105      0.001712        0.057242         0.017249  0.031823   \n \n       train_f1  \n mean  0.925443  \n std   0.009434  ,\n 'ratio_black_pixel':       test_recall  train_recall  test_precision  train_precision   test_f1  \\\n mean     0.903125      0.929102        0.880683         0.904529  0.889792   \n std      0.020876      0.005406        0.068521         0.013705  0.033897   \n \n       train_f1  \n mean  0.916615  \n std   0.008851  }"
     },
     "metadata": {},
     "output_type": "display_data"
    }
   ],
   "source": [
    "scores"
   ],
   "metadata": {
    "collapsed": false,
    "ExecuteTime": {
     "end_time": "2024-06-03T09:23:09.288682Z",
     "start_time": "2024-06-03T09:23:09.276823Z"
    }
   },
   "execution_count": 13
  },
  {
   "cell_type": "code",
   "outputs": [],
   "source": [
    "#test du 03/06\n",
    "model = make_pipeline(\n",
    "    ResizeImageTransformer(size=(200,200)),\n",
    "    FlattenTransformer(),\n",
    "    KNeighborsClassifier(n_neighbors=3)\n",
    ")\n",
    "\n",
    "scores = fit_and_score_each_dataset(model, general_scoring)\n",
    "scores"
   ],
   "metadata": {
    "collapsed": false,
    "is_executing": true,
    "ExecuteTime": {
     "start_time": "2024-06-03T09:25:13.402795Z"
    }
   },
   "execution_count": null
  },
  {
   "cell_type": "code",
   "outputs": [
    {
     "data": {
      "text/plain": "                                                               all  \\\ntest_recall      [0.9777777777777777, 0.9730679156908665, 0.974...   \ntrain_recall     [0.9856641310708016, 0.9897630886224043, 0.986...   \ntest_precision   [0.9278579356270811, 0.9101861993428259, 0.925...   \ntrain_precision  [0.9332409972299169, 0.9306930693069307, 0.933...   \ntest_f1          [0.9521640091116174, 0.9405772495755518, 0.949...   \ntrain_f1         [0.9587364826408651, 0.9593196314670447, 0.959...   \n\n                                                             ratio  \\\ntest_recall      [0.959114139693356, 0.9556313993174061, 0.9556...   \ntrain_recall     [0.9748400852878465, 0.9803921568627451, 0.976...   \ntest_precision   [0.9229508196721311, 0.9061488673139159, 0.912...   \ntrain_precision  [0.9288906948394962, 0.9319286871961102, 0.932...   \ntest_f1          [0.9406850459482038, 0.9302325581395349, 0.933...   \ntrain_f1         [0.951310861423221, 0.9555463232239302, 0.9537...   \n\n                                                       black_pixel  \\\ntest_recall      [0.9470899470899471, 0.9338624338624338, 0.947...   \ntrain_recall     [0.9668874172185431, 0.9728476821192052, 0.968...   \ntest_precision   [0.8839506172839506, 0.863080684596577, 0.895,...   \ntrain_precision  [0.9045848822800495, 0.8957317073170732, 0.895...   \ntest_f1          [0.9144316730523627, 0.8970775095298602, 0.920...   \ntrain_f1         [0.9346991037131882, 0.9326984126984127, 0.930...   \n\n                                                 ratio_black_pixel  \ntest_recall      [0.8671875, 0.89453125, 0.91796875, 0.88671875...  \ntrain_recall     [0.93359375, 0.9375, 0.9375, 0.94140625, 0.948...  \ntest_precision   [0.8809523809523809, 0.8841698841698842, 0.876...  \ntrain_precision  [0.9122137404580153, 0.9065155807365439, 0.909...  \ntest_f1          [0.8740157480314961, 0.8893203883495145, 0.896...  \ntrain_f1         [0.9227799227799228, 0.9217474795967355, 0.923...  ",
      "text/html": "<div>\n<style scoped>\n    .dataframe tbody tr th:only-of-type {\n        vertical-align: middle;\n    }\n\n    .dataframe tbody tr th {\n        vertical-align: top;\n    }\n\n    .dataframe thead th {\n        text-align: right;\n    }\n</style>\n<table border=\"1\" class=\"dataframe\">\n  <thead>\n    <tr style=\"text-align: right;\">\n      <th></th>\n      <th>all</th>\n      <th>ratio</th>\n      <th>black_pixel</th>\n      <th>ratio_black_pixel</th>\n    </tr>\n  </thead>\n  <tbody>\n    <tr>\n      <th>test_recall</th>\n      <td>[0.9777777777777777, 0.9730679156908665, 0.974...</td>\n      <td>[0.959114139693356, 0.9556313993174061, 0.9556...</td>\n      <td>[0.9470899470899471, 0.9338624338624338, 0.947...</td>\n      <td>[0.8671875, 0.89453125, 0.91796875, 0.88671875...</td>\n    </tr>\n    <tr>\n      <th>train_recall</th>\n      <td>[0.9856641310708016, 0.9897630886224043, 0.986...</td>\n      <td>[0.9748400852878465, 0.9803921568627451, 0.976...</td>\n      <td>[0.9668874172185431, 0.9728476821192052, 0.968...</td>\n      <td>[0.93359375, 0.9375, 0.9375, 0.94140625, 0.948...</td>\n    </tr>\n    <tr>\n      <th>test_precision</th>\n      <td>[0.9278579356270811, 0.9101861993428259, 0.925...</td>\n      <td>[0.9229508196721311, 0.9061488673139159, 0.912...</td>\n      <td>[0.8839506172839506, 0.863080684596577, 0.895,...</td>\n      <td>[0.8809523809523809, 0.8841698841698842, 0.876...</td>\n    </tr>\n    <tr>\n      <th>train_precision</th>\n      <td>[0.9332409972299169, 0.9306930693069307, 0.933...</td>\n      <td>[0.9288906948394962, 0.9319286871961102, 0.932...</td>\n      <td>[0.9045848822800495, 0.8957317073170732, 0.895...</td>\n      <td>[0.9122137404580153, 0.9065155807365439, 0.909...</td>\n    </tr>\n    <tr>\n      <th>test_f1</th>\n      <td>[0.9521640091116174, 0.9405772495755518, 0.949...</td>\n      <td>[0.9406850459482038, 0.9302325581395349, 0.933...</td>\n      <td>[0.9144316730523627, 0.8970775095298602, 0.920...</td>\n      <td>[0.8740157480314961, 0.8893203883495145, 0.896...</td>\n    </tr>\n    <tr>\n      <th>train_f1</th>\n      <td>[0.9587364826408651, 0.9593196314670447, 0.959...</td>\n      <td>[0.951310861423221, 0.9555463232239302, 0.9537...</td>\n      <td>[0.9346991037131882, 0.9326984126984127, 0.930...</td>\n      <td>[0.9227799227799228, 0.9217474795967355, 0.923...</td>\n    </tr>\n  </tbody>\n</table>\n</div>"
     },
     "execution_count": 15,
     "metadata": {},
     "output_type": "execute_result"
    }
   ],
   "source": [
    "model = make_pipeline(\n",
    "    ResizeImageTransformer(size=(200,200)),\n",
    "    FlattenTransformer(),\n",
    "    KNeighborsClassifier(n_neighbors=5)\n",
    ")\n",
    "\n",
    "scores = fit_and_score_each_dataset(model, general_scoring)\n",
    "df = pd.DataFrame(scores)\n",
    "df"
   ],
   "metadata": {
    "collapsed": false,
    "ExecuteTime": {
     "end_time": "2024-05-28T15:00:48.731546Z",
     "start_time": "2024-05-28T14:58:42.117403Z"
    }
   },
   "execution_count": 15
  },
  {
   "cell_type": "code",
   "outputs": [
    {
     "ename": "KeyError",
     "evalue": "'testrecall'",
     "output_type": "error",
     "traceback": [
      "\u001B[0;31m---------------------------------------------------------------------------\u001B[0m",
      "\u001B[0;31mKeyError\u001B[0m                                  Traceback (most recent call last)",
      "File \u001B[0;32m/usr/local/lib/python3.10/dist-packages/pandas/core/indexes/base.py:3805\u001B[0m, in \u001B[0;36mIndex.get_loc\u001B[0;34m(self, key)\u001B[0m\n\u001B[1;32m   3804\u001B[0m \u001B[38;5;28;01mtry\u001B[39;00m:\n\u001B[0;32m-> 3805\u001B[0m     \u001B[38;5;28;01mreturn\u001B[39;00m \u001B[38;5;28;43mself\u001B[39;49m\u001B[38;5;241;43m.\u001B[39;49m\u001B[43m_engine\u001B[49m\u001B[38;5;241;43m.\u001B[39;49m\u001B[43mget_loc\u001B[49m\u001B[43m(\u001B[49m\u001B[43mcasted_key\u001B[49m\u001B[43m)\u001B[49m\n\u001B[1;32m   3806\u001B[0m \u001B[38;5;28;01mexcept\u001B[39;00m \u001B[38;5;167;01mKeyError\u001B[39;00m \u001B[38;5;28;01mas\u001B[39;00m err:\n",
      "File \u001B[0;32mindex.pyx:167\u001B[0m, in \u001B[0;36mpandas._libs.index.IndexEngine.get_loc\u001B[0;34m()\u001B[0m\n",
      "File \u001B[0;32mindex.pyx:196\u001B[0m, in \u001B[0;36mpandas._libs.index.IndexEngine.get_loc\u001B[0;34m()\u001B[0m\n",
      "File \u001B[0;32mpandas/_libs/hashtable_class_helper.pxi:7081\u001B[0m, in \u001B[0;36mpandas._libs.hashtable.PyObjectHashTable.get_item\u001B[0;34m()\u001B[0m\n",
      "File \u001B[0;32mpandas/_libs/hashtable_class_helper.pxi:7089\u001B[0m, in \u001B[0;36mpandas._libs.hashtable.PyObjectHashTable.get_item\u001B[0;34m()\u001B[0m\n",
      "\u001B[0;31mKeyError\u001B[0m: 'testrecall'",
      "\nThe above exception was the direct cause of the following exception:\n",
      "\u001B[0;31mKeyError\u001B[0m                                  Traceback (most recent call last)",
      "Cell \u001B[0;32mIn[21], line 3\u001B[0m\n\u001B[1;32m      1\u001B[0m df[\u001B[38;5;124m\"\u001B[39m\u001B[38;5;124mall\u001B[39m\u001B[38;5;124m\"\u001B[39m][\u001B[38;5;124m\"\u001B[39m\u001B[38;5;124mtest_recall\u001B[39m\u001B[38;5;124m\"\u001B[39m]\u001B[38;5;241m.\u001B[39mmean()\n\u001B[1;32m      2\u001B[0m bla \u001B[38;5;241m=\u001B[39m \u001B[38;5;124m\"\u001B[39m\u001B[38;5;124mtest\u001B[39m\u001B[38;5;124m\"\u001B[39m\u001B[38;5;241m+\u001B[39m\u001B[38;5;124m\"\u001B[39m\u001B[38;5;124mrecall\u001B[39m\u001B[38;5;124m\"\u001B[39m\n\u001B[0;32m----> 3\u001B[0m \u001B[43mdf\u001B[49m\u001B[43m[\u001B[49m\u001B[38;5;124;43m\"\u001B[39;49m\u001B[38;5;124;43mall\u001B[39;49m\u001B[38;5;124;43m\"\u001B[39;49m\u001B[43m]\u001B[49m\u001B[43m[\u001B[49m\u001B[43mbla\u001B[49m\u001B[43m]\u001B[49m\u001B[38;5;241m.\u001B[39mmean()\n",
      "File \u001B[0;32m/usr/local/lib/python3.10/dist-packages/pandas/core/series.py:1112\u001B[0m, in \u001B[0;36mSeries.__getitem__\u001B[0;34m(self, key)\u001B[0m\n\u001B[1;32m   1109\u001B[0m     \u001B[38;5;28;01mreturn\u001B[39;00m \u001B[38;5;28mself\u001B[39m\u001B[38;5;241m.\u001B[39m_values[key]\n\u001B[1;32m   1111\u001B[0m \u001B[38;5;28;01melif\u001B[39;00m key_is_scalar:\n\u001B[0;32m-> 1112\u001B[0m     \u001B[38;5;28;01mreturn\u001B[39;00m \u001B[38;5;28;43mself\u001B[39;49m\u001B[38;5;241;43m.\u001B[39;49m\u001B[43m_get_value\u001B[49m\u001B[43m(\u001B[49m\u001B[43mkey\u001B[49m\u001B[43m)\u001B[49m\n\u001B[1;32m   1114\u001B[0m \u001B[38;5;66;03m# Convert generator to list before going through hashable part\u001B[39;00m\n\u001B[1;32m   1115\u001B[0m \u001B[38;5;66;03m# (We will iterate through the generator there to check for slices)\u001B[39;00m\n\u001B[1;32m   1116\u001B[0m \u001B[38;5;28;01mif\u001B[39;00m is_iterator(key):\n",
      "File \u001B[0;32m/usr/local/lib/python3.10/dist-packages/pandas/core/series.py:1228\u001B[0m, in \u001B[0;36mSeries._get_value\u001B[0;34m(self, label, takeable)\u001B[0m\n\u001B[1;32m   1225\u001B[0m     \u001B[38;5;28;01mreturn\u001B[39;00m \u001B[38;5;28mself\u001B[39m\u001B[38;5;241m.\u001B[39m_values[label]\n\u001B[1;32m   1227\u001B[0m \u001B[38;5;66;03m# Similar to Index.get_value, but we do not fall back to positional\u001B[39;00m\n\u001B[0;32m-> 1228\u001B[0m loc \u001B[38;5;241m=\u001B[39m \u001B[38;5;28;43mself\u001B[39;49m\u001B[38;5;241;43m.\u001B[39;49m\u001B[43mindex\u001B[49m\u001B[38;5;241;43m.\u001B[39;49m\u001B[43mget_loc\u001B[49m\u001B[43m(\u001B[49m\u001B[43mlabel\u001B[49m\u001B[43m)\u001B[49m\n\u001B[1;32m   1230\u001B[0m \u001B[38;5;28;01mif\u001B[39;00m is_integer(loc):\n\u001B[1;32m   1231\u001B[0m     \u001B[38;5;28;01mreturn\u001B[39;00m \u001B[38;5;28mself\u001B[39m\u001B[38;5;241m.\u001B[39m_values[loc]\n",
      "File \u001B[0;32m/usr/local/lib/python3.10/dist-packages/pandas/core/indexes/base.py:3812\u001B[0m, in \u001B[0;36mIndex.get_loc\u001B[0;34m(self, key)\u001B[0m\n\u001B[1;32m   3807\u001B[0m     \u001B[38;5;28;01mif\u001B[39;00m \u001B[38;5;28misinstance\u001B[39m(casted_key, \u001B[38;5;28mslice\u001B[39m) \u001B[38;5;129;01mor\u001B[39;00m (\n\u001B[1;32m   3808\u001B[0m         \u001B[38;5;28misinstance\u001B[39m(casted_key, abc\u001B[38;5;241m.\u001B[39mIterable)\n\u001B[1;32m   3809\u001B[0m         \u001B[38;5;129;01mand\u001B[39;00m \u001B[38;5;28many\u001B[39m(\u001B[38;5;28misinstance\u001B[39m(x, \u001B[38;5;28mslice\u001B[39m) \u001B[38;5;28;01mfor\u001B[39;00m x \u001B[38;5;129;01min\u001B[39;00m casted_key)\n\u001B[1;32m   3810\u001B[0m     ):\n\u001B[1;32m   3811\u001B[0m         \u001B[38;5;28;01mraise\u001B[39;00m InvalidIndexError(key)\n\u001B[0;32m-> 3812\u001B[0m     \u001B[38;5;28;01mraise\u001B[39;00m \u001B[38;5;167;01mKeyError\u001B[39;00m(key) \u001B[38;5;28;01mfrom\u001B[39;00m \u001B[38;5;21;01merr\u001B[39;00m\n\u001B[1;32m   3813\u001B[0m \u001B[38;5;28;01mexcept\u001B[39;00m \u001B[38;5;167;01mTypeError\u001B[39;00m:\n\u001B[1;32m   3814\u001B[0m     \u001B[38;5;66;03m# If we have a listlike key, _check_indexing_error will raise\u001B[39;00m\n\u001B[1;32m   3815\u001B[0m     \u001B[38;5;66;03m#  InvalidIndexError. Otherwise we fall through and re-raise\u001B[39;00m\n\u001B[1;32m   3816\u001B[0m     \u001B[38;5;66;03m#  the TypeError.\u001B[39;00m\n\u001B[1;32m   3817\u001B[0m     \u001B[38;5;28mself\u001B[39m\u001B[38;5;241m.\u001B[39m_check_indexing_error(key)\n",
      "\u001B[0;31mKeyError\u001B[0m: 'testrecall'"
     ]
    }
   ],
   "source": [
    "df[\"all\"][\"test_recall\"].mean()\n",
    "bla = \"test_\"+\"recall\"\n",
    "df[\"all\"][bla].mean()"
   ],
   "metadata": {
    "collapsed": false,
    "ExecuteTime": {
     "end_time": "2024-05-28T15:02:00.638128Z",
     "start_time": "2024-05-28T15:01:59.357101Z"
    }
   },
   "execution_count": 21
  },
  {
   "cell_type": "code",
   "outputs": [
    {
     "name": "stdout",
     "output_type": "stream",
     "text": [
      "recall :  0.9850917431192661\n",
      "precision :  0.9177350427350427\n",
      "f1score :  0.9502212389380531\n"
     ]
    },
    {
     "data": {
      "text/plain": "<Figure size 640x480 with 2 Axes>",
      "image/png": "[encoded data removed]"
     },
     "metadata": {},
     "output_type": "display_data"
    }
   ],
   "source": [
    "use_all_dataset()\n",
    "\n",
    "trainx, testx, trainy, testy = train_test_split(datasetX, datasetY, test_size=0.2, random_state=1)\n",
    "model.fit(trainx, trainy)\n",
    "\n",
    "y_pred = model.predict(testx)\n",
    "recall = recall_score(testy, y_pred, pos_label=\"PNEUMONIA\")\n",
    "precision = precision_score(testy, y_pred, pos_label=\"PNEUMONIA\")\n",
    "f1score = f1_score(testy, y_pred, pos_label=\"PNEUMONIA\")\n",
    "print(\"recall : \", recall)\n",
    "print(\"precision : \", precision)\n",
    "print(\"f1score : \", f1score)\n",
    "\n",
    "cm = confusion_matrix(testy, y_pred)\n",
    "sns.heatmap(cm, annot=True, fmt=\"d\")\n",
    "plt.show()"
   ],
   "metadata": {
    "collapsed": false,
    "ExecuteTime": {
     "end_time": "2024-05-28T10:24:44.193013Z",
     "start_time": "2024-05-28T10:24:37.827457Z"
    }
   },
   "execution_count": 10
  },
  {
   "cell_type": "code",
   "outputs": [
    {
     "name": "stdout",
     "output_type": "stream",
     "text": [
      "   test_recall  train_recall  test_precision  train_precision   test_f1  \\\n",
      "0     0.985021      0.987713        0.900864         0.918536  0.940488   \n",
      "1     0.985021      0.987713        0.900864         0.918536  0.940488   \n",
      "2     0.985021      0.987713        0.900864         0.918536  0.940488   \n",
      "3     0.985021      0.987713        0.900864         0.918536  0.940488   \n",
      "4     0.985021      0.987713        0.900864         0.918536  0.940488   \n",
      "\n",
      "   train_f1  \n",
      "0  0.951847  \n",
      "1  0.951847  \n",
      "2  0.951847  \n",
      "3  0.951847  \n",
      "4  0.951847  \n",
      "   test_recall  train_recall  test_precision  train_precision   test_f1  \\\n",
      "0     0.968619       0.97604        0.891351           0.9175  0.927431   \n",
      "1     0.968619       0.97604        0.891351           0.9175  0.927431   \n",
      "2     0.968619       0.97604        0.891351           0.9175  0.927431   \n",
      "3     0.968619       0.97604        0.891351           0.9175  0.927431   \n",
      "4     0.968619       0.97604        0.891351           0.9175  0.927431   \n",
      "\n",
      "   train_f1  \n",
      "0  0.945853  \n",
      "1  0.945853  \n",
      "2  0.945853  \n",
      "3  0.945853  \n",
      "4  0.945853  \n",
      "   test_recall  train_recall  test_precision  train_precision   test_f1  \\\n",
      "0      0.95816      0.969279        0.868192         0.885556  0.909826   \n",
      "1      0.95816      0.969279        0.868192         0.885556  0.909826   \n",
      "2      0.95816      0.969279        0.868192         0.885556  0.909826   \n",
      "3      0.95816      0.969279        0.868192         0.885556  0.909826   \n",
      "4      0.95816      0.969279        0.868192         0.885556  0.909826   \n",
      "\n",
      "   train_f1  \n",
      "0  0.925443  \n",
      "1  0.925443  \n",
      "2  0.925443  \n",
      "3  0.925443  \n",
      "4  0.925443  \n",
      "   test_recall  train_recall  test_precision  train_precision   test_f1  \\\n",
      "0     0.903125      0.929102        0.880683         0.904529  0.889792   \n",
      "1     0.903125      0.929102        0.880683         0.904529  0.889792   \n",
      "2     0.903125      0.929102        0.880683         0.904529  0.889792   \n",
      "3     0.903125      0.929102        0.880683         0.904529  0.889792   \n",
      "4     0.903125      0.929102        0.880683         0.904529  0.889792   \n",
      "\n",
      "   train_f1  \n",
      "0  0.916615  \n",
      "1  0.916615  \n",
      "2  0.916615  \n",
      "3  0.916615  \n",
      "4  0.916615  \n"
     ]
    },
    {
     "ename": "ValueError",
     "evalue": "If using all scalar values, you must pass an index",
     "output_type": "error",
     "traceback": [
      "\u001B[0;31m---------------------------------------------------------------------------\u001B[0m",
      "\u001B[0;31mValueError\u001B[0m                                Traceback (most recent call last)",
      "Cell \u001B[0;32mIn[11], line 8\u001B[0m\n\u001B[1;32m      1\u001B[0m model \u001B[38;5;241m=\u001B[39m make_pipeline(\n\u001B[1;32m      2\u001B[0m     ResizeImageTransformer(size\u001B[38;5;241m=\u001B[39m(\u001B[38;5;241m200\u001B[39m,\u001B[38;5;241m200\u001B[39m)),\n\u001B[1;32m      3\u001B[0m     FlattenTransformer(),\n\u001B[1;32m      4\u001B[0m     KNeighborsClassifier(n_neighbors\u001B[38;5;241m=\u001B[39m\u001B[38;5;241m11\u001B[39m)\n\u001B[1;32m      5\u001B[0m )\n\u001B[1;32m      7\u001B[0m scores \u001B[38;5;241m=\u001B[39m fit_and_score_each_dataset(model, general_scoring)\n\u001B[0;32m----> 8\u001B[0m df \u001B[38;5;241m=\u001B[39m \u001B[43mpd\u001B[49m\u001B[38;5;241;43m.\u001B[39;49m\u001B[43mDataFrame\u001B[49m\u001B[43m(\u001B[49m\u001B[43mscores\u001B[49m\u001B[43m)\u001B[49m\n",
      "File \u001B[0;32m/usr/local/lib/python3.10/dist-packages/pandas/core/frame.py:767\u001B[0m, in \u001B[0;36mDataFrame.__init__\u001B[0;34m(self, data, index, columns, dtype, copy)\u001B[0m\n\u001B[1;32m    761\u001B[0m     mgr \u001B[38;5;241m=\u001B[39m \u001B[38;5;28mself\u001B[39m\u001B[38;5;241m.\u001B[39m_init_mgr(\n\u001B[1;32m    762\u001B[0m         data, axes\u001B[38;5;241m=\u001B[39m{\u001B[38;5;124m\"\u001B[39m\u001B[38;5;124mindex\u001B[39m\u001B[38;5;124m\"\u001B[39m: index, \u001B[38;5;124m\"\u001B[39m\u001B[38;5;124mcolumns\u001B[39m\u001B[38;5;124m\"\u001B[39m: columns}, dtype\u001B[38;5;241m=\u001B[39mdtype, copy\u001B[38;5;241m=\u001B[39mcopy\n\u001B[1;32m    763\u001B[0m     )\n\u001B[1;32m    765\u001B[0m \u001B[38;5;28;01melif\u001B[39;00m \u001B[38;5;28misinstance\u001B[39m(data, \u001B[38;5;28mdict\u001B[39m):\n\u001B[1;32m    766\u001B[0m     \u001B[38;5;66;03m# GH#38939 de facto copy defaults to False only in non-dict cases\u001B[39;00m\n\u001B[0;32m--> 767\u001B[0m     mgr \u001B[38;5;241m=\u001B[39m \u001B[43mdict_to_mgr\u001B[49m\u001B[43m(\u001B[49m\u001B[43mdata\u001B[49m\u001B[43m,\u001B[49m\u001B[43m \u001B[49m\u001B[43mindex\u001B[49m\u001B[43m,\u001B[49m\u001B[43m \u001B[49m\u001B[43mcolumns\u001B[49m\u001B[43m,\u001B[49m\u001B[43m \u001B[49m\u001B[43mdtype\u001B[49m\u001B[38;5;241;43m=\u001B[39;49m\u001B[43mdtype\u001B[49m\u001B[43m,\u001B[49m\u001B[43m \u001B[49m\u001B[43mcopy\u001B[49m\u001B[38;5;241;43m=\u001B[39;49m\u001B[43mcopy\u001B[49m\u001B[43m,\u001B[49m\u001B[43m \u001B[49m\u001B[43mtyp\u001B[49m\u001B[38;5;241;43m=\u001B[39;49m\u001B[43mmanager\u001B[49m\u001B[43m)\u001B[49m\n\u001B[1;32m    768\u001B[0m \u001B[38;5;28;01melif\u001B[39;00m \u001B[38;5;28misinstance\u001B[39m(data, ma\u001B[38;5;241m.\u001B[39mMaskedArray):\n\u001B[1;32m    769\u001B[0m     \u001B[38;5;28;01mfrom\u001B[39;00m \u001B[38;5;21;01mnumpy\u001B[39;00m\u001B[38;5;21;01m.\u001B[39;00m\u001B[38;5;21;01mma\u001B[39;00m \u001B[38;5;28;01mimport\u001B[39;00m mrecords\n",
      "File \u001B[0;32m/usr/local/lib/python3.10/dist-packages/pandas/core/internals/construction.py:503\u001B[0m, in \u001B[0;36mdict_to_mgr\u001B[0;34m(data, index, columns, dtype, typ, copy)\u001B[0m\n\u001B[1;32m    499\u001B[0m     \u001B[38;5;28;01melse\u001B[39;00m:\n\u001B[1;32m    500\u001B[0m         \u001B[38;5;66;03m# dtype check to exclude e.g. range objects, scalars\u001B[39;00m\n\u001B[1;32m    501\u001B[0m         arrays \u001B[38;5;241m=\u001B[39m [x\u001B[38;5;241m.\u001B[39mcopy() \u001B[38;5;28;01mif\u001B[39;00m \u001B[38;5;28mhasattr\u001B[39m(x, \u001B[38;5;124m\"\u001B[39m\u001B[38;5;124mdtype\u001B[39m\u001B[38;5;124m\"\u001B[39m) \u001B[38;5;28;01melse\u001B[39;00m x \u001B[38;5;28;01mfor\u001B[39;00m x \u001B[38;5;129;01min\u001B[39;00m arrays]\n\u001B[0;32m--> 503\u001B[0m \u001B[38;5;28;01mreturn\u001B[39;00m \u001B[43marrays_to_mgr\u001B[49m\u001B[43m(\u001B[49m\u001B[43marrays\u001B[49m\u001B[43m,\u001B[49m\u001B[43m \u001B[49m\u001B[43mcolumns\u001B[49m\u001B[43m,\u001B[49m\u001B[43m \u001B[49m\u001B[43mindex\u001B[49m\u001B[43m,\u001B[49m\u001B[43m \u001B[49m\u001B[43mdtype\u001B[49m\u001B[38;5;241;43m=\u001B[39;49m\u001B[43mdtype\u001B[49m\u001B[43m,\u001B[49m\u001B[43m \u001B[49m\u001B[43mtyp\u001B[49m\u001B[38;5;241;43m=\u001B[39;49m\u001B[43mtyp\u001B[49m\u001B[43m,\u001B[49m\u001B[43m \u001B[49m\u001B[43mconsolidate\u001B[49m\u001B[38;5;241;43m=\u001B[39;49m\u001B[43mcopy\u001B[49m\u001B[43m)\u001B[49m\n",
      "File \u001B[0;32m/usr/local/lib/python3.10/dist-packages/pandas/core/internals/construction.py:114\u001B[0m, in \u001B[0;36marrays_to_mgr\u001B[0;34m(arrays, columns, index, dtype, verify_integrity, typ, consolidate)\u001B[0m\n\u001B[1;32m    111\u001B[0m \u001B[38;5;28;01mif\u001B[39;00m verify_integrity:\n\u001B[1;32m    112\u001B[0m     \u001B[38;5;66;03m# figure out the index, if necessary\u001B[39;00m\n\u001B[1;32m    113\u001B[0m     \u001B[38;5;28;01mif\u001B[39;00m index \u001B[38;5;129;01mis\u001B[39;00m \u001B[38;5;28;01mNone\u001B[39;00m:\n\u001B[0;32m--> 114\u001B[0m         index \u001B[38;5;241m=\u001B[39m \u001B[43m_extract_index\u001B[49m\u001B[43m(\u001B[49m\u001B[43marrays\u001B[49m\u001B[43m)\u001B[49m\n\u001B[1;32m    115\u001B[0m     \u001B[38;5;28;01melse\u001B[39;00m:\n\u001B[1;32m    116\u001B[0m         index \u001B[38;5;241m=\u001B[39m ensure_index(index)\n",
      "File \u001B[0;32m/usr/local/lib/python3.10/dist-packages/pandas/core/internals/construction.py:667\u001B[0m, in \u001B[0;36m_extract_index\u001B[0;34m(data)\u001B[0m\n\u001B[1;32m    664\u001B[0m         \u001B[38;5;28;01mraise\u001B[39;00m \u001B[38;5;167;01mValueError\u001B[39;00m(\u001B[38;5;124m\"\u001B[39m\u001B[38;5;124mPer-column arrays must each be 1-dimensional\u001B[39m\u001B[38;5;124m\"\u001B[39m)\n\u001B[1;32m    666\u001B[0m \u001B[38;5;28;01mif\u001B[39;00m \u001B[38;5;129;01mnot\u001B[39;00m indexes \u001B[38;5;129;01mand\u001B[39;00m \u001B[38;5;129;01mnot\u001B[39;00m raw_lengths:\n\u001B[0;32m--> 667\u001B[0m     \u001B[38;5;28;01mraise\u001B[39;00m \u001B[38;5;167;01mValueError\u001B[39;00m(\u001B[38;5;124m\"\u001B[39m\u001B[38;5;124mIf using all scalar values, you must pass an index\u001B[39m\u001B[38;5;124m\"\u001B[39m)\n\u001B[1;32m    669\u001B[0m \u001B[38;5;28;01mif\u001B[39;00m have_series:\n\u001B[1;32m    670\u001B[0m     index \u001B[38;5;241m=\u001B[39m union_indexes(indexes)\n",
      "\u001B[0;31mValueError\u001B[0m: If using all scalar values, you must pass an index"
     ]
    }
   ],
   "source": [
    "model = make_pipeline(\n",
    "    ResizeImageTransformer(size=(200,200)),\n",
    "    FlattenTransformer(),\n",
    "    KNeighborsClassifier(n_neighbors=11)\n",
    ")\n",
    "\n",
    "scores = fit_and_score_each_dataset(model, general_scoring)\n",
    "df = pd.DataFrame(scores)\n"
   ],
   "metadata": {
    "collapsed": false,
    "ExecuteTime": {
     "end_time": "2024-05-28T15:27:52.399937Z",
     "start_time": "2024-05-28T15:25:47.019251Z"
    }
   },
   "execution_count": 11
  },
  {
   "cell_type": "code",
   "outputs": [
    {
     "name": "stdout",
     "output_type": "stream",
     "text": [
      "{'all':    test_recall  train_recall  test_precision  train_precision   test_f1  \\\n",
      "0     0.985021      0.987713        0.900864         0.918536  0.940488   \n",
      "1     0.985021      0.987713        0.900864         0.918536  0.940488   \n",
      "2     0.985021      0.987713        0.900864         0.918536  0.940488   \n",
      "3     0.985021      0.987713        0.900864         0.918536  0.940488   \n",
      "4     0.985021      0.987713        0.900864         0.918536  0.940488   \n",
      "\n",
      "   train_f1  \n",
      "0  0.951847  \n",
      "1  0.951847  \n",
      "2  0.951847  \n",
      "3  0.951847  \n",
      "4  0.951847  , 'ratio':    test_recall  train_recall  test_precision  train_precision   test_f1  \\\n",
      "0     0.968619       0.97604        0.891351           0.9175  0.927431   \n",
      "1     0.968619       0.97604        0.891351           0.9175  0.927431   \n",
      "2     0.968619       0.97604        0.891351           0.9175  0.927431   \n",
      "3     0.968619       0.97604        0.891351           0.9175  0.927431   \n",
      "4     0.968619       0.97604        0.891351           0.9175  0.927431   \n",
      "\n",
      "   train_f1  \n",
      "0  0.945853  \n",
      "1  0.945853  \n",
      "2  0.945853  \n",
      "3  0.945853  \n",
      "4  0.945853  , 'black_pixel':    test_recall  train_recall  test_precision  train_precision   test_f1  \\\n",
      "0      0.95816      0.969279        0.868192         0.885556  0.909826   \n",
      "1      0.95816      0.969279        0.868192         0.885556  0.909826   \n",
      "2      0.95816      0.969279        0.868192         0.885556  0.909826   \n",
      "3      0.95816      0.969279        0.868192         0.885556  0.909826   \n",
      "4      0.95816      0.969279        0.868192         0.885556  0.909826   \n",
      "\n",
      "   train_f1  \n",
      "0  0.925443  \n",
      "1  0.925443  \n",
      "2  0.925443  \n",
      "3  0.925443  \n",
      "4  0.925443  , 'ratio_black_pixel':    test_recall  train_recall  test_precision  train_precision   test_f1  \\\n",
      "0     0.903125      0.929102        0.880683         0.904529  0.889792   \n",
      "1     0.903125      0.929102        0.880683         0.904529  0.889792   \n",
      "2     0.903125      0.929102        0.880683         0.904529  0.889792   \n",
      "3     0.903125      0.929102        0.880683         0.904529  0.889792   \n",
      "4     0.903125      0.929102        0.880683         0.904529  0.889792   \n",
      "\n",
      "   train_f1  \n",
      "0  0.916615  \n",
      "1  0.916615  \n",
      "2  0.916615  \n",
      "3  0.916615  \n",
      "4  0.916615  }\n"
     ]
    }
   ],
   "source": [
    "print(scores)"
   ],
   "metadata": {
    "collapsed": false,
    "ExecuteTime": {
     "end_time": "2024-05-28T15:29:20.638630Z",
     "start_time": "2024-05-28T15:29:20.631255Z"
    }
   },
   "execution_count": 14
  },
  {
   "cell_type": "code",
   "outputs": [
    {
     "name": "stdout",
     "output_type": "stream",
     "text": [
      "recall :  0.9908256880733946\n",
      "precision :  0.9152542372881356\n",
      "f1score :  0.9515418502202643\n"
     ]
    },
    {
     "data": {
      "text/plain": "<Figure size 640x480 with 2 Axes>",
      "image/png": "[encoded data removed]"
     },
     "metadata": {},
     "output_type": "display_data"
    }
   ],
   "source": [
    "use_all_dataset()\n",
    "\n",
    "trainx, testx, trainy, testy = train_test_split(datasetX, datasetY, test_size=0.2, random_state=1)\n",
    "model.fit(trainx, trainy)\n",
    "\n",
    "y_pred = model.predict(testx)\n",
    "recall = recall_score(testy, y_pred, pos_label=\"PNEUMONIA\")\n",
    "precision = precision_score(testy, y_pred, pos_label=\"PNEUMONIA\")\n",
    "f1score = f1_score(testy, y_pred, pos_label=\"PNEUMONIA\")\n",
    "print(\"recall : \", recall)\n",
    "print(\"precision : \", precision)\n",
    "print(\"f1score : \", f1score)\n",
    "\n",
    "cm = confusion_matrix(testy, y_pred)\n",
    "sns.heatmap(cm, annot=True, fmt=\"d\")\n",
    "plt.show()"
   ],
   "metadata": {
    "collapsed": false,
    "ExecuteTime": {
     "end_time": "2024-05-28T14:19:12.815256Z",
     "start_time": "2024-05-28T14:19:03.096382Z"
    }
   },
   "execution_count": 11
  }
 ],
 "metadata": {
  "kernelspec": {
   "display_name": "Python 3",
   "language": "python",
   "name": "python3"
  },
  "language_info": {
   "codemirror_mode": {
    "name": "ipython",
    "version": 3
   },
   "file_extension": ".py",
   "mimetype": "text/x-python",
   "name": "python",
   "nbconvert_exporter": "python",
   "pygments_lexer": "ipython3",
   "version": "3.12.2"
  }
 },
 "nbformat": 4,
 "nbformat_minor": 2
}
