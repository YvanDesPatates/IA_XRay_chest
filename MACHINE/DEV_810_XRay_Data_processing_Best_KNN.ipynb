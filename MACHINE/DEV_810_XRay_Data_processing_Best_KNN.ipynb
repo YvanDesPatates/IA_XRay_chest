{
 "cells": [
  {
   "cell_type": "markdown",
   "metadata": {},
   "source": [
    "#### Imports"
   ]
  },
  {
   "cell_type": "code",
   "execution_count": 7,
   "metadata": {
    "ExecuteTime": {
     "end_time": "2024-05-28T10:21:23.122791Z",
     "start_time": "2024-05-28T10:21:22.808327Z"
    }
   },
   "outputs": [],
   "source": [
    "import os \n",
    "import cv2\n",
    "import numpy as np \n",
    "import matplotlib.pyplot as plt\n",
    "import seaborn as sns\n",
    "import pandas as pd\n",
    "\n",
    "from sklearn.pipeline import make_pipeline\n",
    "from sklearn.model_selection import train_test_split\n",
    "from sklearn.model_selection import cross_validate\n",
    "from sklearn.metrics import make_scorer, recall_score, precision_score, f1_score, confusion_matrix\n",
    "\n",
    "\n",
    "from sklearn.dummy import DummyClassifier\n",
    "from sklearn.neighbors import KNeighborsClassifier\n",
    "from sklearn.model_selection import GridSearchCV\n"
   ]
  },
  {
   "cell_type": "markdown",
   "metadata": {},
   "source": [
    "#### Fonctions utilitaires pour parcourir les images"
   ]
  },
  {
   "cell_type": "code",
   "execution_count": 8,
   "metadata": {
    "ExecuteTime": {
     "end_time": "2024-05-28T10:21:23.129519Z",
     "start_time": "2024-05-28T10:21:23.123955Z"
    }
   },
   "outputs": [],
   "source": [
    "common_path = \"./chest_Xray\"\n",
    "images_files = os.listdir(common_path)\n",
    "subfolders = [\"train\",\"val\",\"test\"]\n",
    "categories = [\"NORMAL\",\"PNEUMONIA\"]\n",
    "\n",
    "# Permet de parcourir les images, et pour chaque image, on applique une fonction de callback\n",
    "# On peut optionnellement appeler une fonction de callback pour chaque dossier\n",
    "def browse_imgs(img_callback, path_folder_callback = None, limit_size = None):\n",
    "    for subfolder in subfolders:\n",
    "        for category in categories:\n",
    "            # pour avoir tous les chemins des 6 dossiers\n",
    "            folder_path = os.path.join(common_path, subfolder, category)\n",
    "            # liste de toutes les images\n",
    "            images_files = os.listdir(folder_path)\n",
    "            if path_folder_callback is not None:\n",
    "                path_folder_callback(folder_path, images_files)\n",
    "            array_limit = limit_size if limit_size is not None else len(images_files)\n",
    "            #récupération de toutes les (ou des 'limit_size' premières) images du dossier.\n",
    "            for file_name in images_files[:array_limit]:\n",
    "                if not file_name.endswith(\".jpeg\"):\n",
    "                    continue\n",
    "                image_path = os.path.join(folder_path,file_name)\n",
    "                img = cv2.imread(image_path,cv2.IMREAD_GRAYSCALE)\n",
    "                img_callback(img, category)\n",
    "                \n",
    "                \n",
    "def display_imgs(imgs, titles = [], plot_size = (1,1), figsize = (10,8)):\n",
    "    fig = plt.figure(figsize=figsize)\n",
    "    index = 0\n",
    "    for image, title in zip(imgs, titles):\n",
    "        index += 1\n",
    "        ax = fig.add_subplot(plot_size[0], plot_size[1], index) \n",
    "        ax.imshow(image, cmap=\"gray\")\n",
    "        ax.axis(\"off\")\n",
    "        if titles is not None:\n",
    "            ax.set_title(title)\n",
    "\n",
    "    plt.tight_layout()\n",
    "    plt.show()"
   ]
  },
  {
   "cell_type": "code",
   "execution_count": 9,
   "metadata": {
    "ExecuteTime": {
     "end_time": "2024-05-28T10:21:23.132639Z",
     "start_time": "2024-05-28T10:21:23.130402Z"
    },
    "collapsed": false
   },
   "outputs": [],
   "source": [
    "def img_is_in_ratio(img, min_ratio = 1, max_ratio = 1.5):\n",
    "    height, width = img.shape\n",
    "    ratio = width / height\n",
    "    if min_ratio <= ratio <= max_ratio:\n",
    "        return True\n",
    "    else:\n",
    "        return False"
   ]
  },
  {
   "cell_type": "code",
   "execution_count": 10,
   "metadata": {
    "ExecuteTime": {
     "end_time": "2024-05-28T10:21:23.135806Z",
     "start_time": "2024-05-28T10:21:23.133528Z"
    },
    "collapsed": false
   },
   "outputs": [],
   "source": [
    "grey_scale_limit = 10\n",
    "\n",
    "def img_has_atleast_black_pixels(img, threshold = 5):\n",
    "    height, width = img.shape\n",
    "    percent = (np.sum(img <= grey_scale_limit)*100)/(width*height)\n",
    "    return percent >= threshold"
   ]
  },
  {
   "cell_type": "code",
   "execution_count": 11,
   "metadata": {
    "ExecuteTime": {
     "end_time": "2024-05-28T10:22:02.593104Z",
     "start_time": "2024-05-28T10:21:23.778416Z"
    },
    "collapsed": false
   },
   "outputs": [
    {
     "name": "stdout",
     "output_type": "stream",
     "text": [
      "Dataset all shape :  (5856, 800, 800)\n",
      "Dataset bp shape :  (3178, 800, 800)\n",
      "Dataset ration shape :  (4431, 800, 800)\n",
      "Dataset bp+ratio shape :  (2502, 800, 800)\n"
     ]
    }
   ],
   "source": [
    "all_images = []\n",
    "all_categories = []\n",
    "\n",
    "max_ratio_threshold = 1.6\n",
    "all_images_index_ratio = []\n",
    "\n",
    "min_black_pixels_threshold = 5\n",
    "all_images_indexes_black_pixels = []\n",
    "\n",
    "all_images_index_ratio_and_black_pixels = []\n",
    "\n",
    "datasetX = []\n",
    "datasetY = []\n",
    "\n",
    "image_size = (800, 800)\n",
    "\n",
    "def load_datasets(img, category):\n",
    "    new_img = cv2.resize(img, image_size)\n",
    "    all_images.append(new_img)\n",
    "    all_categories.append(category)\n",
    "\n",
    "    if img_is_in_ratio(img, max_ratio=max_ratio_threshold):\n",
    "        all_images_index_ratio.append(len(all_images)-1)\n",
    "\n",
    "    if img_has_atleast_black_pixels(img, threshold=min_black_pixels_threshold):\n",
    "        all_images_indexes_black_pixels.append(len(all_images)-1)\n",
    "\n",
    "    if img_has_atleast_black_pixels(img, threshold=min_black_pixels_threshold) and img_is_in_ratio(img, max_ratio=max_ratio_threshold):\n",
    "        all_images_index_ratio_and_black_pixels.append(len(all_images)-1)\n",
    "\n",
    "    \n",
    "browse_imgs(load_datasets)\n",
    "\n",
    "def use_all_dataset():\n",
    "    global datasetX, datasetY\n",
    "    datasetX = np.array(all_images)\n",
    "    datasetY = np.array(all_categories)\n",
    " \n",
    "def use_ratio_dataset():\n",
    "    global datasetX, datasetY\n",
    "    datasetX = np.array([all_images[i] for i in all_images_index_ratio])\n",
    "    datasetY = np.array([all_categories[i] for i in all_images_index_ratio])\n",
    "\n",
    "def use_black_pixel_dataset():\n",
    "    global datasetX, datasetY\n",
    "    datasetX = np.array([all_images[i] for i in all_images_indexes_black_pixels])\n",
    "    datasetY = np.array([all_categories[i] for i in all_images_indexes_black_pixels])\n",
    "\n",
    "def use_ratio_black_pixel_dataset():\n",
    "    global datasetX, datasetY\n",
    "    datasetX = np.array([all_images[i] for i in all_images_index_ratio_and_black_pixels])\n",
    "    datasetY = np.array([all_categories[i] for i in all_images_index_ratio_and_black_pixels])\n",
    "\n",
    "use_all_dataset()\n",
    "print(\"Dataset all shape : \", datasetX.shape)\n",
    "use_black_pixel_dataset()\n",
    "print(\"Dataset bp shape : \", datasetX.shape)\n",
    "use_ratio_dataset()\n",
    "print(\"Dataset ration shape : \", datasetX.shape)\n",
    "use_ratio_black_pixel_dataset()\n",
    "print(\"Dataset bp+ratio shape : \", datasetX.shape)\n"
   ]
  },
  {
   "cell_type": "markdown",
   "metadata": {},
   "source": [
    "#### Cross validation"
   ]
  },
  {
   "cell_type": "code",
   "execution_count": 12,
   "metadata": {
    "ExecuteTime": {
     "end_time": "2024-05-28T10:22:02.604381Z",
     "start_time": "2024-05-28T10:22:02.594358Z"
    }
   },
   "outputs": [],
   "source": [
    "def cross_val(model, load_dataset_function, scoring, nb_folds=5):\n",
    "    load_dataset_function()\n",
    "    res = cross_validate(model, datasetX, datasetY, cv=nb_folds, scoring=scoring, error_score=\"raise\", return_train_score=True)\n",
    "    res.pop(\"fit_time\")\n",
    "    res.pop(\"score_time\")\n",
    "    return res\n",
    "    \n",
    "\n",
    "def fit_and_score_each_dataset(model, scoring):\n",
    "    res = {}\n",
    "    \n",
    "    res[\"all\"] = (cross_val(model, use_all_dataset, scoring))\n",
    "    res[\"ratio\"] = (cross_val(model, use_ratio_dataset, scoring))\n",
    "    res[\"black_pixel\"] = (cross_val(model, use_black_pixel_dataset, scoring))\n",
    "    res[\"ratio_black_pixel\"] = (cross_val(model, use_ratio_black_pixel_dataset, scoring))\n",
    "    \n",
    "    return res"
   ]
  },
  {
   "cell_type": "markdown",
   "metadata": {},
   "source": [
    "#### Resize and Flatten Transformers"
   ]
  },
  {
   "cell_type": "code",
   "execution_count": 13,
   "metadata": {
    "ExecuteTime": {
     "end_time": "2024-05-28T10:22:02.608195Z",
     "start_time": "2024-05-28T10:22:02.605206Z"
    },
    "collapsed": false
   },
   "outputs": [],
   "source": [
    "class ResizeImageTransformer():\n",
    "    def __init__(self, size):\n",
    "        self.size = size\n",
    "        \n",
    "    def fit(self, X, y=None):\n",
    "        return self\n",
    "\n",
    "    def transform(self, X, y=None):\n",
    "        X = np.array([cv2.resize(img, self.size) for img in X])\n",
    "        return X\n",
    "\n",
    "class FlattenTransformer():    \n",
    "    def fit(self, X, y=None):\n",
    "        return self\n",
    "\n",
    "    def transform(self, X, y=None):\n",
    "        X = X.reshape(len(X), -1)\n",
    "        return X"
   ]
  },
  {
   "cell_type": "markdown",
   "metadata": {},
   "source": [
    "#### Définition des différentes metrics"
   ]
  },
  {
   "cell_type": "code",
   "execution_count": 14,
   "metadata": {
    "ExecuteTime": {
     "end_time": "2024-05-28T10:22:02.611334Z",
     "start_time": "2024-05-28T10:22:02.609119Z"
    },
    "collapsed": false
   },
   "outputs": [],
   "source": [
    "general_scoring = {\n",
    "    \"recall\": make_scorer(recall_score, pos_label=\"PNEUMONIA\"),\n",
    "    \"precision\": make_scorer(precision_score, pos_label=\"PNEUMONIA\"),\n",
    "    \"f1\": make_scorer(f1_score, pos_label=\"PNEUMONIA\")\n",
    "}"
   ]
  },
  {
   "cell_type": "markdown",
   "metadata": {},
   "source": [
    "#### Dummy Classifier"
   ]
  },
  {
   "cell_type": "code",
   "execution_count": 15,
   "metadata": {
    "ExecuteTime": {
     "end_time": "2024-05-28T10:16:24.305981Z",
     "start_time": "2024-05-28T10:16:11.913754Z"
    },
    "collapsed": false
   },
   "outputs": [
    {
     "data": {
      "text/html": [
       "<div>\n",
       "<style scoped>\n",
       "    .dataframe tbody tr th:only-of-type {\n",
       "        vertical-align: middle;\n",
       "    }\n",
       "\n",
       "    .dataframe tbody tr th {\n",
       "        vertical-align: top;\n",
       "    }\n",
       "\n",
       "    .dataframe thead th {\n",
       "        text-align: right;\n",
       "    }\n",
       "</style>\n",
       "<table border=\"1\" class=\"dataframe\">\n",
       "  <thead>\n",
       "    <tr style=\"text-align: right;\">\n",
       "      <th></th>\n",
       "      <th>all</th>\n",
       "      <th>ratio</th>\n",
       "      <th>black_pixel</th>\n",
       "      <th>ratio_black_pixel</th>\n",
       "    </tr>\n",
       "  </thead>\n",
       "  <tbody>\n",
       "    <tr>\n",
       "      <th>test_recall</th>\n",
       "      <td>[1.0, 1.0, 1.0, 1.0, 1.0]</td>\n",
       "      <td>[1.0, 1.0, 1.0, 1.0, 1.0]</td>\n",
       "      <td>[1.0, 1.0, 1.0, 1.0, 1.0]</td>\n",
       "      <td>[1.0, 1.0, 1.0, 1.0, 1.0]</td>\n",
       "    </tr>\n",
       "    <tr>\n",
       "      <th>train_recall</th>\n",
       "      <td>[1.0, 1.0, 1.0, 1.0, 1.0]</td>\n",
       "      <td>[1.0, 1.0, 1.0, 1.0, 1.0]</td>\n",
       "      <td>[1.0, 1.0, 1.0, 1.0, 1.0]</td>\n",
       "      <td>[1.0, 1.0, 1.0, 1.0, 1.0]</td>\n",
       "    </tr>\n",
       "    <tr>\n",
       "      <th>test_precision</th>\n",
       "      <td>[0.7295221843003413, 0.7292912040990607, 0.729...</td>\n",
       "      <td>[0.6617812852311161, 0.6613995485327314, 0.661...</td>\n",
       "      <td>[0.5943396226415094, 0.5943396226415094, 0.594...</td>\n",
       "      <td>[0.5109780439121756, 0.5109780439121756, 0.512...</td>\n",
       "    </tr>\n",
       "    <tr>\n",
       "      <th>train_precision</th>\n",
       "      <td>[0.7297181895815542, 0.7297758804695837, 0.729...</td>\n",
       "      <td>[0.6616817155756207, 0.6617771509167842, 0.661...</td>\n",
       "      <td>[0.5940204563335956, 0.5940204563335956, 0.594...</td>\n",
       "      <td>[0.511744127936032, 0.511744127936032, 0.51148...</td>\n",
       "    </tr>\n",
       "    <tr>\n",
       "      <th>test_f1</th>\n",
       "      <td>[0.8436112481499753, 0.8434567901234568, 0.843...</td>\n",
       "      <td>[0.7964721845318861, 0.7961956521739131, 0.796...</td>\n",
       "      <td>[0.7455621301775148, 0.7455621301775148, 0.745...</td>\n",
       "      <td>[0.6763540290620872, 0.6763540290620872, 0.677...</td>\n",
       "    </tr>\n",
       "    <tr>\n",
       "      <th>train_f1</th>\n",
       "      <td>[0.8437422858553444, 0.8437808489634748, 0.843...</td>\n",
       "      <td>[0.7964000679232467, 0.7964691902902733, 0.796...</td>\n",
       "      <td>[0.7453109575518263, 0.7453109575518263, 0.745...</td>\n",
       "      <td>[0.6770247933884298, 0.6770247933884298, 0.676...</td>\n",
       "    </tr>\n",
       "  </tbody>\n",
       "</table>\n",
       "</div>"
      ],
      "text/plain": [
       "                                                               all  \\\n",
       "test_recall                              [1.0, 1.0, 1.0, 1.0, 1.0]   \n",
       "train_recall                             [1.0, 1.0, 1.0, 1.0, 1.0]   \n",
       "test_precision   [0.7295221843003413, 0.7292912040990607, 0.729...   \n",
       "train_precision  [0.7297181895815542, 0.7297758804695837, 0.729...   \n",
       "test_f1          [0.8436112481499753, 0.8434567901234568, 0.843...   \n",
       "train_f1         [0.8437422858553444, 0.8437808489634748, 0.843...   \n",
       "\n",
       "                                                             ratio  \\\n",
       "test_recall                              [1.0, 1.0, 1.0, 1.0, 1.0]   \n",
       "train_recall                             [1.0, 1.0, 1.0, 1.0, 1.0]   \n",
       "test_precision   [0.6617812852311161, 0.6613995485327314, 0.661...   \n",
       "train_precision  [0.6616817155756207, 0.6617771509167842, 0.661...   \n",
       "test_f1          [0.7964721845318861, 0.7961956521739131, 0.796...   \n",
       "train_f1         [0.7964000679232467, 0.7964691902902733, 0.796...   \n",
       "\n",
       "                                                       black_pixel  \\\n",
       "test_recall                              [1.0, 1.0, 1.0, 1.0, 1.0]   \n",
       "train_recall                             [1.0, 1.0, 1.0, 1.0, 1.0]   \n",
       "test_precision   [0.5943396226415094, 0.5943396226415094, 0.594...   \n",
       "train_precision  [0.5940204563335956, 0.5940204563335956, 0.594...   \n",
       "test_f1          [0.7455621301775148, 0.7455621301775148, 0.745...   \n",
       "train_f1         [0.7453109575518263, 0.7453109575518263, 0.745...   \n",
       "\n",
       "                                                 ratio_black_pixel  \n",
       "test_recall                              [1.0, 1.0, 1.0, 1.0, 1.0]  \n",
       "train_recall                             [1.0, 1.0, 1.0, 1.0, 1.0]  \n",
       "test_precision   [0.5109780439121756, 0.5109780439121756, 0.512...  \n",
       "train_precision  [0.511744127936032, 0.511744127936032, 0.51148...  \n",
       "test_f1          [0.6763540290620872, 0.6763540290620872, 0.677...  \n",
       "train_f1         [0.6770247933884298, 0.6770247933884298, 0.676...  "
      ]
     },
     "execution_count": 15,
     "metadata": {},
     "output_type": "execute_result"
    }
   ],
   "source": [
    "model = make_pipeline(\n",
    "    FlattenTransformer(),\n",
    "    DummyClassifier(strategy=\"most_frequent\")\n",
    ")\n",
    "\n",
    "scores = fit_and_score_each_dataset(model, general_scoring)\n",
    "df = pd.DataFrame(scores)\n",
    "df"
   ]
  },
  {
   "cell_type": "code",
   "execution_count": 16,
   "metadata": {
    "ExecuteTime": {
     "end_time": "2024-05-28T10:16:26.012871Z",
     "start_time": "2024-05-28T10:16:24.306643Z"
    },
    "collapsed": false
   },
   "outputs": [
    {
     "name": "stdout",
     "output_type": "stream",
     "text": [
      "recall :  1.0\n",
      "precision :  0.7440273037542662\n",
      "f1score :  0.8532289628180039\n"
     ]
    },
    {
     "data": {
      "image/png": "[encoded data removed]",
      "text/plain": [
       "<Figure size 640x480 with 2 Axes>"
      ]
     },
     "metadata": {},
     "output_type": "display_data"
    }
   ],
   "source": [
    "use_all_dataset()\n",
    "\n",
    "trainx, testx, trainy, testy = train_test_split(datasetX, datasetY, test_size=0.2, random_state=1)\n",
    "model.fit(trainx, trainy)\n",
    "\n",
    "y_pred = model.predict(testx)\n",
    "recall = recall_score(testy, y_pred, pos_label=\"PNEUMONIA\")\n",
    "precision = precision_score(testy, y_pred, pos_label=\"PNEUMONIA\")\n",
    "f1score = f1_score(testy, y_pred, pos_label=\"PNEUMONIA\")\n",
    "print(\"recall : \", recall)\n",
    "print(\"precision : \", precision)\n",
    "print(\"f1score : \", f1score)\n",
    "\n",
    "cm = confusion_matrix(testy, y_pred)\n",
    "sns.heatmap(cm, annot=True, fmt=\"d\")\n",
    "plt.title(\"Dummy Classifier Confusion Matrix\")\n",
    "plt.show()"
   ]
  },
  {
   "cell_type": "markdown",
   "metadata": {},
   "source": [
    "#### KNeighborsClassifier"
   ]
  },
  {
   "cell_type": "code",
   "execution_count": 18,
   "metadata": {
    "ExecuteTime": {
     "end_time": "2024-05-28T10:24:37.815327Z",
     "start_time": "2024-05-28T10:22:32.368906Z"
    },
    "collapsed": false
   },
   "outputs": [
    {
     "data": {
      "text/html": [
       "<div>\n",
       "<style scoped>\n",
       "    .dataframe tbody tr th:only-of-type {\n",
       "        vertical-align: middle;\n",
       "    }\n",
       "\n",
       "    .dataframe tbody tr th {\n",
       "        vertical-align: top;\n",
       "    }\n",
       "\n",
       "    .dataframe thead th {\n",
       "        text-align: right;\n",
       "    }\n",
       "</style>\n",
       "<table border=\"1\" class=\"dataframe\">\n",
       "  <thead>\n",
       "    <tr style=\"text-align: right;\">\n",
       "      <th></th>\n",
       "      <th>all</th>\n",
       "      <th>ratio</th>\n",
       "      <th>black_pixel</th>\n",
       "      <th>ratio_black_pixel</th>\n",
       "    </tr>\n",
       "  </thead>\n",
       "  <tbody>\n",
       "    <tr>\n",
       "      <th>test_recall</th>\n",
       "      <td>[0.9719298245614035, 0.9754098360655737, 0.977...</td>\n",
       "      <td>[0.9522998296422487, 0.947098976109215, 0.9573...</td>\n",
       "      <td>[0.9470899470899471, 0.9497354497354498, 0.957...</td>\n",
       "      <td>[0.890625, 0.88671875, 0.90234375, 0.8359375, ...</td>\n",
       "    </tr>\n",
       "    <tr>\n",
       "      <th>train_recall</th>\n",
       "      <td>[0.9894675248683441, 0.9880081895291021, 0.986...</td>\n",
       "      <td>[0.9769722814498933, 0.9786871270247229, 0.972...</td>\n",
       "      <td>[0.971523178807947, 0.9735099337748344, 0.9649...</td>\n",
       "      <td>[0.935546875, 0.9453125, 0.9287109375, 0.93359...</td>\n",
       "    </tr>\n",
       "    <tr>\n",
       "      <th>test_precision</th>\n",
       "      <td>[0.9111842105263158, 0.9214601769911505, 0.920...</td>\n",
       "      <td>[0.9119086460032626, 0.9173553719008265, 0.910...</td>\n",
       "      <td>[0.8626506024096385, 0.8842364532019704, 0.902...</td>\n",
       "      <td>[0.8837209302325582, 0.8972332015810277, 0.898...</td>\n",
       "    </tr>\n",
       "    <tr>\n",
       "      <th>train_precision</th>\n",
       "      <td>[0.9324510614833196, 0.9328914664457332, 0.930...</td>\n",
       "      <td>[0.9294117647058824, 0.9314401622718053, 0.931...</td>\n",
       "      <td>[0.8939670932358318, 0.8941605839416058, 0.902...</td>\n",
       "      <td>[0.8978444236176195, 0.9063670411985019, 0.911...</td>\n",
       "    </tr>\n",
       "    <tr>\n",
       "      <th>test_f1</th>\n",
       "      <td>[0.9405772495755518, 0.9476678043230944, 0.948...</td>\n",
       "      <td>[0.9316666666666666, 0.9319899244332494, 0.933...</td>\n",
       "      <td>[0.9029003783102144, 0.9158163265306123, 0.929...</td>\n",
       "      <td>[0.8871595330739299, 0.8919449901768173, 0.900...</td>\n",
       "    </tr>\n",
       "    <tr>\n",
       "      <th>train_f1</th>\n",
       "      <td>[0.9601135557132718, 0.959659090909091, 0.9576...</td>\n",
       "      <td>[0.9525987525987526, 0.9544793182290584, 0.951...</td>\n",
       "      <td>[0.9311329736591558, 0.932149651236525, 0.9324...</td>\n",
       "      <td>[0.9163079866092778, 0.9254302103250478, 0.920...</td>\n",
       "    </tr>\n",
       "  </tbody>\n",
       "</table>\n",
       "</div>"
      ],
      "text/plain": [
       "                                                               all  \\\n",
       "test_recall      [0.9719298245614035, 0.9754098360655737, 0.977...   \n",
       "train_recall     [0.9894675248683441, 0.9880081895291021, 0.986...   \n",
       "test_precision   [0.9111842105263158, 0.9214601769911505, 0.920...   \n",
       "train_precision  [0.9324510614833196, 0.9328914664457332, 0.930...   \n",
       "test_f1          [0.9405772495755518, 0.9476678043230944, 0.948...   \n",
       "train_f1         [0.9601135557132718, 0.959659090909091, 0.9576...   \n",
       "\n",
       "                                                             ratio  \\\n",
       "test_recall      [0.9522998296422487, 0.947098976109215, 0.9573...   \n",
       "train_recall     [0.9769722814498933, 0.9786871270247229, 0.972...   \n",
       "test_precision   [0.9119086460032626, 0.9173553719008265, 0.910...   \n",
       "train_precision  [0.9294117647058824, 0.9314401622718053, 0.931...   \n",
       "test_f1          [0.9316666666666666, 0.9319899244332494, 0.933...   \n",
       "train_f1         [0.9525987525987526, 0.9544793182290584, 0.951...   \n",
       "\n",
       "                                                       black_pixel  \\\n",
       "test_recall      [0.9470899470899471, 0.9497354497354498, 0.957...   \n",
       "train_recall     [0.971523178807947, 0.9735099337748344, 0.9649...   \n",
       "test_precision   [0.8626506024096385, 0.8842364532019704, 0.902...   \n",
       "train_precision  [0.8939670932358318, 0.8941605839416058, 0.902...   \n",
       "test_f1          [0.9029003783102144, 0.9158163265306123, 0.929...   \n",
       "train_f1         [0.9311329736591558, 0.932149651236525, 0.9324...   \n",
       "\n",
       "                                                 ratio_black_pixel  \n",
       "test_recall      [0.890625, 0.88671875, 0.90234375, 0.8359375, ...  \n",
       "train_recall     [0.935546875, 0.9453125, 0.9287109375, 0.93359...  \n",
       "test_precision   [0.8837209302325582, 0.8972332015810277, 0.898...  \n",
       "train_precision  [0.8978444236176195, 0.9063670411985019, 0.911...  \n",
       "test_f1          [0.8871595330739299, 0.8919449901768173, 0.900...  \n",
       "train_f1         [0.9163079866092778, 0.9254302103250478, 0.920...  "
      ]
     },
     "execution_count": 18,
     "metadata": {},
     "output_type": "execute_result"
    }
   ],
   "source": [
    "model = make_pipeline(\n",
    "    ResizeImageTransformer(size=(200,200)),\n",
    "    FlattenTransformer(),\n",
    "    KNeighborsClassifier(n_neighbors=5)\n",
    ")\n",
    "\n",
    "scores = fit_and_score_each_dataset(model, general_scoring)\n",
    "df = pd.DataFrame(scores)\n",
    "df"
   ]
  },
  {
   "cell_type": "code",
   "execution_count": 19,
   "metadata": {
    "ExecuteTime": {
     "end_time": "2024-05-28T10:24:44.193013Z",
     "start_time": "2024-05-28T10:24:37.827457Z"
    },
    "collapsed": false
   },
   "outputs": [
    {
     "name": "stdout",
     "output_type": "stream",
     "text": [
      "recall :  0.9793577981651376\n",
      "precision :  0.9133689839572192\n",
      "f1score :  0.945213060320974\n"
     ]
    },
    {
     "data": {
      "image/png": "[encoded data removed]",
      "text/plain": [
       "<Figure size 640x480 with 2 Axes>"
      ]
     },
     "metadata": {},
     "output_type": "display_data"
    }
   ],
   "source": [
    "use_all_dataset()\n",
    "\n",
    "trainx, testx, trainy, testy = train_test_split(datasetX, datasetY, test_size=0.2, random_state=1)\n",
    "model.fit(trainx, trainy)\n",
    "\n",
    "y_pred = model.predict(testx)\n",
    "recall = recall_score(testy, y_pred, pos_label=\"PNEUMONIA\")\n",
    "precision = precision_score(testy, y_pred, pos_label=\"PNEUMONIA\")\n",
    "f1score = f1_score(testy, y_pred, pos_label=\"PNEUMONIA\")\n",
    "print(\"recall : \", recall)\n",
    "print(\"precision : \", precision)\n",
    "print(\"f1score : \", f1score)\n",
    "\n",
    "cm = confusion_matrix(testy, y_pred)\n",
    "sns.heatmap(cm, annot=True, fmt=\"d\")\n",
    "plt.show()"
   ]
  },
  {
   "cell_type": "markdown",
   "metadata": {},
   "source": [
    "#### Affichage des différents params disponibles sur le modèle KNN"
   ]
  },
  {
   "cell_type": "code",
   "execution_count": 20,
   "metadata": {},
   "outputs": [
    {
     "data": {
      "text/plain": [
       "{'memory': None,\n",
       " 'steps': [('resizeimagetransformer',\n",
       "   <__main__.ResizeImageTransformer at 0x1dd6a5f3da0>),\n",
       "  ('flattentransformer', <__main__.FlattenTransformer at 0x1dd0af2aae0>),\n",
       "  ('kneighborsclassifier', KNeighborsClassifier())],\n",
       " 'verbose': False,\n",
       " 'resizeimagetransformer': <__main__.ResizeImageTransformer at 0x1dd6a5f3da0>,\n",
       " 'flattentransformer': <__main__.FlattenTransformer at 0x1dd0af2aae0>,\n",
       " 'kneighborsclassifier': KNeighborsClassifier(),\n",
       " 'kneighborsclassifier__algorithm': 'auto',\n",
       " 'kneighborsclassifier__leaf_size': 30,\n",
       " 'kneighborsclassifier__metric': 'minkowski',\n",
       " 'kneighborsclassifier__metric_params': None,\n",
       " 'kneighborsclassifier__n_jobs': None,\n",
       " 'kneighborsclassifier__n_neighbors': 5,\n",
       " 'kneighborsclassifier__p': 2,\n",
       " 'kneighborsclassifier__weights': 'uniform'}"
      ]
     },
     "execution_count": 20,
     "metadata": {},
     "output_type": "execute_result"
    }
   ],
   "source": [
    "model.get_params()"
   ]
  },
  {
   "cell_type": "markdown",
   "metadata": {},
   "source": [
    "#### GridSearchCV pour le Recall Score -> Recherche du best paramètre pour kneighborsclassifier__n_neighbors"
   ]
  },
  {
   "cell_type": "code",
   "execution_count": null,
   "metadata": {},
   "outputs": [],
   "source": [
    "param_grid = {\n",
    "    'kneighborsclassifier__n_neighbors': np.arange(1, 50, 2),\n",
    "    'kneighborsclassifier__weights': ['uniform', 'distance'],\n",
    "    'kneighborsclassifier__algorithm': ['auto', 'ball_tree', 'kd_tree', 'brute']\n",
    "}"
   ]
  },
  {
   "cell_type": "code",
   "execution_count": null,
   "metadata": {},
   "outputs": [
    {
     "data": {
      "text/plain": [
       "{'kneighborsclassifier__n_neighbors': 49}"
      ]
     },
     "execution_count": 20,
     "metadata": {},
     "output_type": "execute_result"
    }
   ],
   "source": [
    "model_grid_search = GridSearchCV(\n",
    "    model,\n",
    "    param_grid=param_grid,\n",
    "    cv=4, scoring=make_scorer(recall_score, pos_label=\"PNEUMONIA\"))\n",
    "use_all_dataset()\n",
    "model_grid_search.fit(datasetX, datasetY)\n",
    "model_grid_search.best_params_"
   ]
  },
  {
   "cell_type": "code",
   "execution_count": null,
   "metadata": {},
   "outputs": [
    {
     "name": "stdout",
     "output_type": "stream",
     "text": [
      "recall :  0.9885321100917431\n",
      "precision :  0.8969823100936525\n",
      "f1score :  0.9405346426623022\n"
     ]
    },
    {
     "data": {
      "image/png": "[encoded data removed]",
      "text/plain": [
       "<Figure size 640x480 with 2 Axes>"
      ]
     },
     "metadata": {},
     "output_type": "display_data"
    }
   ],
   "source": [
    "y_pred = model_grid_search.predict(testx)\n",
    "recall = recall_score(testy, y_pred, pos_label=\"PNEUMONIA\")\n",
    "precision = precision_score(testy, y_pred, pos_label=\"PNEUMONIA\")\n",
    "f1score = f1_score(testy, y_pred, pos_label=\"PNEUMONIA\")\n",
    "print(\"recall : \", recall)\n",
    "print(\"precision : \", precision)\n",
    "print(\"f1score : \", f1score)\n",
    "\n",
    "cm = confusion_matrix(testy, y_pred)\n",
    "sns.heatmap(cm, annot=True, fmt=\"d\")\n",
    "plt.show()"
   ]
  },
  {
   "cell_type": "markdown",
   "metadata": {},
   "source": [
    "#### GridSearchCV pour le Precision Score -> Recherche du best paramètre pour kneighborsclassifier__n_neighbors TO DO"
   ]
  },
  {
   "cell_type": "code",
   "execution_count": 22,
   "metadata": {},
   "outputs": [
    {
     "data": {
      "text/plain": [
       "{'kneighborsclassifier__n_neighbors': 3}"
      ]
     },
     "execution_count": 22,
     "metadata": {},
     "output_type": "execute_result"
    }
   ],
   "source": [
    "model = make_pipeline(\n",
    "    ResizeImageTransformer(size=(200,200)),\n",
    "    FlattenTransformer(),\n",
    "    KNeighborsClassifier()\n",
    ")\n",
    "\n",
    "param_grid = {\n",
    "    'kneighborsclassifier__n_neighbors': np.arange(1, 50, 2),\n",
    "}\n",
    "\n",
    "model_grid_search = GridSearchCV(\n",
    "    model,\n",
    "    param_grid=param_grid,\n",
    "    cv=4, scoring=make_scorer(precision_score, pos_label=\"PNEUMONIA\"))\n",
    "use_all_dataset()\n",
    "model_grid_search.fit(datasetX, datasetY)\n",
    "model_grid_search.best_params_"
   ]
  },
  {
   "cell_type": "code",
   "execution_count": 23,
   "metadata": {},
   "outputs": [
    {
     "name": "stdout",
     "output_type": "stream",
     "text": [
      "recall :  0.9908256880733946\n",
      "precision :  0.9515418502202643\n",
      "f1score :  0.9707865168539326\n"
     ]
    },
    {
     "data": {
      "image/png": "[encoded data removed]",
      "text/plain": [
       "<Figure size 640x480 with 2 Axes>"
      ]
     },
     "metadata": {},
     "output_type": "display_data"
    }
   ],
   "source": [
    "y_pred = model_grid_search.predict(testx)\n",
    "recall = recall_score(testy, y_pred, pos_label=\"PNEUMONIA\")\n",
    "precision = precision_score(testy, y_pred, pos_label=\"PNEUMONIA\")\n",
    "f1score = f1_score(testy, y_pred, pos_label=\"PNEUMONIA\")\n",
    "print(\"recall : \", recall)\n",
    "print(\"precision : \", precision)\n",
    "print(\"f1score : \", f1score)\n",
    "\n",
    "cm = confusion_matrix(testy, y_pred)\n",
    "sns.heatmap(cm, annot=True, fmt=\"d\")\n",
    "plt.show()"
   ]
  },
  {
   "cell_type": "markdown",
   "metadata": {},
   "source": [
    "#### GridSearchCV pour le F1 Score -> Recherche du best paramètre pour kneighborsclassifier__n_neighbors"
   ]
  },
  {
   "cell_type": "code",
   "execution_count": null,
   "metadata": {},
   "outputs": [
    {
     "data": {
      "text/plain": [
       "{'kneighborsclassifier__n_neighbors': 11}"
      ]
     },
     "execution_count": 25,
     "metadata": {},
     "output_type": "execute_result"
    }
   ],
   "source": [
    "model_grid_search = GridSearchCV(\n",
    "    model,\n",
    "    param_grid=param_grid,\n",
    "    cv=4, scoring=make_scorer(f1_score, pos_label=\"PNEUMONIA\"))\n",
    "use_all_dataset()\n",
    "model_grid_search.fit(datasetX, datasetY)\n",
    "model_grid_search.best_params_"
   ]
  },
  {
   "cell_type": "code",
   "execution_count": null,
   "metadata": {},
   "outputs": [
    {
     "name": "stdout",
     "output_type": "stream",
     "text": [
      "recall :  0.9896788990825688\n",
      "precision :  0.9180851063829787\n",
      "f1score :  0.9525386313465783\n"
     ]
    },
    {
     "data": {
      "image/png": "[encoded data removed]",
      "text/plain": [
       "<Figure size 640x480 with 2 Axes>"
      ]
     },
     "metadata": {},
     "output_type": "display_data"
    }
   ],
   "source": [
    "y_pred = model_grid_search.predict(testx)\n",
    "recall = recall_score(testy, y_pred, pos_label=\"PNEUMONIA\")\n",
    "precision = precision_score(testy, y_pred, pos_label=\"PNEUMONIA\")\n",
    "f1score = f1_score(testy, y_pred, pos_label=\"PNEUMONIA\")\n",
    "print(\"recall : \", recall)\n",
    "print(\"precision : \", precision)\n",
    "print(\"f1score : \", f1score)\n",
    "\n",
    "cm = confusion_matrix(testy, y_pred)\n",
    "sns.heatmap(cm, annot=True, fmt=\"d\")\n",
    "plt.show()"
   ]
  },
  {
   "cell_type": "code",
   "execution_count": null,
   "metadata": {},
   "outputs": [],
   "source": [
    "y_pred = model_grid_search.predict(testx)\n",
    "recall = recall_score(testy, y_pred, pos_label=\"PNEUMONIA\")\n",
    "precision = precision_score(testy, y_pred, pos_label=\"PNEUMONIA\")\n",
    "f1score = f1_score(testy, y_pred, pos_label=\"PNEUMONIA\")\n",
    "print(\"recall : \", recall)\n",
    "print(\"precision : \", precision)\n",
    "print(\"f1score : \", f1score)\n",
    "\n",
    "cm = confusion_matrix(testy, y_pred)\n",
    "sns.heatmap(cm, annot=True, fmt=\"d\")\n",
    "plt.show()"
   ]
  },
  {
   "cell_type": "code",
   "execution_count": null,
   "metadata": {},
   "outputs": [],
   "source": [
    "model = make_pipeline(\n",
    "    ResizeImageTransformer(size=(200,200)),\n",
    "    FlattenTransformer(),\n",
    "    KNeighborsClassifier(n_neighbors=5)\n",
    ")\n",
    "\n",
    "scores = fit_and_score_each_dataset(model, general_scoring)\n",
    "df = pd.DataFrame(scores)\n",
    "df"
   ]
  },
  {
   "cell_type": "markdown",
   "metadata": {},
   "source": [
    "#### GridSearchCV pour le F1 Score -> Recherche du best paramètre pour kneighborsclassifier__weights"
   ]
  },
  {
   "cell_type": "code",
   "execution_count": null,
   "metadata": {},
   "outputs": [
    {
     "data": {
      "text/html": [
       "<div>\n",
       "<style scoped>\n",
       "    .dataframe tbody tr th:only-of-type {\n",
       "        vertical-align: middle;\n",
       "    }\n",
       "\n",
       "    .dataframe tbody tr th {\n",
       "        vertical-align: top;\n",
       "    }\n",
       "\n",
       "    .dataframe thead th {\n",
       "        text-align: right;\n",
       "    }\n",
       "</style>\n",
       "<table border=\"1\" class=\"dataframe\">\n",
       "  <thead>\n",
       "    <tr style=\"text-align: right;\">\n",
       "      <th></th>\n",
       "      <th>all</th>\n",
       "      <th>ratio</th>\n",
       "      <th>black_pixel</th>\n",
       "      <th>ratio_black_pixel</th>\n",
       "    </tr>\n",
       "  </thead>\n",
       "  <tbody>\n",
       "    <tr>\n",
       "      <th>test_recall</th>\n",
       "      <td>[0.9836257309941521, 0.9836065573770492, 0.981...</td>\n",
       "      <td>[0.969335604770017, 0.9641638225255973, 0.9641...</td>\n",
       "      <td>[0.9576719576719577, 0.9603174603174603, 0.962...</td>\n",
       "      <td>[0.9140625, 0.90625, 0.9140625, 0.8671875, 0.9...</td>\n",
       "    </tr>\n",
       "    <tr>\n",
       "      <th>train_recall</th>\n",
       "      <td>[0.9888823873610298, 0.9880081895291021, 0.986...</td>\n",
       "      <td>[0.9752665245202559, 0.9782608695652174, 0.973...</td>\n",
       "      <td>[0.971523178807947, 0.9688741721854305, 0.9635...</td>\n",
       "      <td>[0.9208984375, 0.9345703125, 0.923828125, 0.92...</td>\n",
       "    </tr>\n",
       "    <tr>\n",
       "      <th>test_precision</th>\n",
       "      <td>[0.908207343412527, 0.9180327868852459, 0.9178...</td>\n",
       "      <td>[0.9104, 0.9216965742251223, 0.911290322580645...</td>\n",
       "      <td>[0.8743961352657005, 0.8832116788321168, 0.926...</td>\n",
       "      <td>[0.9105058365758755, 0.90625, 0.92490118577075...</td>\n",
       "    </tr>\n",
       "    <tr>\n",
       "      <th>train_precision</th>\n",
       "      <td>[0.9154929577464789, 0.9164405860010851, 0.913...</td>\n",
       "      <td>[0.9100676482292082, 0.9143426294820717, 0.916...</td>\n",
       "      <td>[0.8758208955223881, 0.875, 0.886654478976234,...</td>\n",
       "      <td>[0.890462700661001, 0.8994360902255639, 0.9087...</td>\n",
       "    </tr>\n",
       "    <tr>\n",
       "      <th>test_f1</th>\n",
       "      <td>[0.9444132509825941, 0.9496890898812889, 0.948...</td>\n",
       "      <td>[0.9389438943894389, 0.9424520433694745, 0.936...</td>\n",
       "      <td>[0.9141414141414141, 0.9201520912547528, 0.944...</td>\n",
       "      <td>[0.9122807017543859, 0.90625, 0.91944990176817...</td>\n",
       "    </tr>\n",
       "    <tr>\n",
       "      <th>train_f1</th>\n",
       "      <td>[0.9507735583684951, 0.9508796622097114, 0.948...</td>\n",
       "      <td>[0.9415397282832442, 0.9452224052718287, 0.944...</td>\n",
       "      <td>[0.921193092621664, 0.9195474544311754, 0.9235...</td>\n",
       "      <td>[0.9054248679788767, 0.9166666666666666, 0.916...</td>\n",
       "    </tr>\n",
       "  </tbody>\n",
       "</table>\n",
       "</div>"
      ],
      "text/plain": [
       "                                                               all  \\\n",
       "test_recall      [0.9836257309941521, 0.9836065573770492, 0.981...   \n",
       "train_recall     [0.9888823873610298, 0.9880081895291021, 0.986...   \n",
       "test_precision   [0.908207343412527, 0.9180327868852459, 0.9178...   \n",
       "train_precision  [0.9154929577464789, 0.9164405860010851, 0.913...   \n",
       "test_f1          [0.9444132509825941, 0.9496890898812889, 0.948...   \n",
       "train_f1         [0.9507735583684951, 0.9508796622097114, 0.948...   \n",
       "\n",
       "                                                             ratio  \\\n",
       "test_recall      [0.969335604770017, 0.9641638225255973, 0.9641...   \n",
       "train_recall     [0.9752665245202559, 0.9782608695652174, 0.973...   \n",
       "test_precision   [0.9104, 0.9216965742251223, 0.911290322580645...   \n",
       "train_precision  [0.9100676482292082, 0.9143426294820717, 0.916...   \n",
       "test_f1          [0.9389438943894389, 0.9424520433694745, 0.936...   \n",
       "train_f1         [0.9415397282832442, 0.9452224052718287, 0.944...   \n",
       "\n",
       "                                                       black_pixel  \\\n",
       "test_recall      [0.9576719576719577, 0.9603174603174603, 0.962...   \n",
       "train_recall     [0.971523178807947, 0.9688741721854305, 0.9635...   \n",
       "test_precision   [0.8743961352657005, 0.8832116788321168, 0.926...   \n",
       "train_precision  [0.8758208955223881, 0.875, 0.886654478976234,...   \n",
       "test_f1          [0.9141414141414141, 0.9201520912547528, 0.944...   \n",
       "train_f1         [0.921193092621664, 0.9195474544311754, 0.9235...   \n",
       "\n",
       "                                                 ratio_black_pixel  \n",
       "test_recall      [0.9140625, 0.90625, 0.9140625, 0.8671875, 0.9...  \n",
       "train_recall     [0.9208984375, 0.9345703125, 0.923828125, 0.92...  \n",
       "test_precision   [0.9105058365758755, 0.90625, 0.92490118577075...  \n",
       "train_precision  [0.890462700661001, 0.8994360902255639, 0.9087...  \n",
       "test_f1          [0.9122807017543859, 0.90625, 0.91944990176817...  \n",
       "train_f1         [0.9054248679788767, 0.9166666666666666, 0.916...  "
      ]
     },
     "execution_count": 28,
     "metadata": {},
     "output_type": "execute_result"
    }
   ],
   "source": [
    "model = make_pipeline(\n",
    "    ResizeImageTransformer(size=(200,200)),\n",
    "    FlattenTransformer(),\n",
    "    KNeighborsClassifier(n_neighbors=11)\n",
    ")\n",
    "\n",
    "scores = fit_and_score_each_dataset(model, general_scoring)\n",
    "df = pd.DataFrame(scores)\n",
    "df"
   ]
  },
  {
   "cell_type": "code",
   "execution_count": null,
   "metadata": {},
   "outputs": [],
   "source": [
    "param_grid = {\n",
    "    'kneighborsclassifier__weights': ['uniform', 'distance']\n",
    "    # 'kneighborsclassifier__algorithm': ['auto', 'ball_tree', 'kd_tree', 'brute']\n",
    "}"
   ]
  },
  {
   "cell_type": "code",
   "execution_count": null,
   "metadata": {},
   "outputs": [
    {
     "data": {
      "text/plain": [
       "{'kneighborsclassifier__weights': 'uniform'}"
      ]
     },
     "execution_count": 30,
     "metadata": {},
     "output_type": "execute_result"
    }
   ],
   "source": [
    "model_grid_search = GridSearchCV(\n",
    "    model,\n",
    "    param_grid=param_grid,\n",
    "    cv=4, scoring=make_scorer(f1_score, pos_label=\"PNEUMONIA\"))\n",
    "use_all_dataset()\n",
    "model_grid_search.fit(datasetX, datasetY)\n",
    "model_grid_search.best_params_"
   ]
  },
  {
   "cell_type": "code",
   "execution_count": null,
   "metadata": {},
   "outputs": [
    {
     "name": "stdout",
     "output_type": "stream",
     "text": [
      "recall :  0.9896788990825688\n",
      "precision :  0.9180851063829787\n",
      "f1score :  0.9525386313465783\n"
     ]
    },
    {
     "data": {
      "image/png": "[encoded data removed]",
      "text/plain": [
       "<Figure size 640x480 with 2 Axes>"
      ]
     },
     "metadata": {},
     "output_type": "display_data"
    }
   ],
   "source": [
    "y_pred = model_grid_search.predict(testx)\n",
    "recall = recall_score(testy, y_pred, pos_label=\"PNEUMONIA\")\n",
    "precision = precision_score(testy, y_pred, pos_label=\"PNEUMONIA\")\n",
    "f1score = f1_score(testy, y_pred, pos_label=\"PNEUMONIA\")\n",
    "print(\"recall : \", recall)\n",
    "print(\"precision : \", precision)\n",
    "print(\"f1score : \", f1score)\n",
    "\n",
    "cm = confusion_matrix(testy, y_pred)\n",
    "sns.heatmap(cm, annot=True, fmt=\"d\")\n",
    "plt.show()"
   ]
  },
  {
   "cell_type": "markdown",
   "metadata": {},
   "source": [
    "#### GridSearchCV pour le F1 Score -> Recherche du best paramètre pour kneighborsclassifier__algorithm et kneighborsclassifier__weights"
   ]
  },
  {
   "cell_type": "code",
   "execution_count": null,
   "metadata": {},
   "outputs": [],
   "source": [
    "param_grid = {\n",
    "    'kneighborsclassifier__weights': ['uniform', 'distance'],\n",
    "    'kneighborsclassifier__algorithm': ['auto', 'ball_tree', 'kd_tree', 'brute']\n",
    "}"
   ]
  },
  {
   "cell_type": "code",
   "execution_count": null,
   "metadata": {},
   "outputs": [],
   "source": [
    "model_grid_search = GridSearchCV(\n",
    "    model,\n",
    "    param_grid=param_grid,\n",
    "    cv=4, scoring=make_scorer(f1_score, pos_label=\"PNEUMONIA\"))\n",
    "use_all_dataset()\n",
    "model_grid_search.fit(datasetX, datasetY)\n",
    "model_grid_search.best_params_"
   ]
  },
  {
   "cell_type": "code",
   "execution_count": null,
   "metadata": {},
   "outputs": [],
   "source": [
    "y_pred = model_grid_search.predict(testx)\n",
    "recall = recall_score(testy, y_pred, pos_label=\"PNEUMONIA\")\n",
    "precision = precision_score(testy, y_pred, pos_label=\"PNEUMONIA\")\n",
    "f1score = f1_score(testy, y_pred, pos_label=\"PNEUMONIA\")\n",
    "print(\"recall : \", recall)\n",
    "print(\"precision : \", precision)\n",
    "print(\"f1score : \", f1score)\n",
    "\n",
    "cm = confusion_matrix(testy, y_pred)\n",
    "sns.heatmap(cm, annot=True, fmt=\"d\")\n",
    "plt.show()"
   ]
  },
  {
   "cell_type": "markdown",
   "metadata": {},
   "source": [
    "#### GridSearchCV pour le F1 Score -> Recherche du best paramètre pour kneighborsclassifier__n_neighbors, kneighborsclassifier__algorithm et kneighborsclassifier__weights TO DO"
   ]
  },
  {
   "cell_type": "code",
   "execution_count": null,
   "metadata": {},
   "outputs": [],
   "source": [
    "param_grid = {\n",
    "    'kneighborsclassifier__n_neighbors': np.arange(1, 51, 2),\n",
    "    'kneighborsclassifier__weights': ['uniform', 'distance'],\n",
    "    'kneighborsclassifier__algorithm': ['auto', 'ball_tree', 'kd_tree', 'brute']\n",
    "}\n"
   ]
  },
  {
   "cell_type": "markdown",
   "metadata": {},
   "source": [
    "#### KNeighborsClassifier avec les 3 meilleurs paramètres identifiés par GridSearchCV TO DO"
   ]
  },
  {
   "cell_type": "code",
   "execution_count": null,
   "metadata": {},
   "outputs": [],
   "source": [
    "model = make_pipeline(\n",
    "    ResizeImageTransformer(size=(200,200)),\n",
    "    FlattenTransformer(),\n",
    "    KNeighborsClassifier(n_neighbors=11, weights='uniform', algorithm='')\n",
    ")\n",
    "\n",
    "scores = fit_and_score_each_dataset(model, general_scoring)\n",
    "df = pd.DataFrame(scores)\n",
    "df"
   ]
  },
  {
   "cell_type": "code",
   "execution_count": null,
   "metadata": {},
   "outputs": [],
   "source": [
    "use_all_dataset()\n",
    "\n",
    "trainx, testx, trainy, testy = train_test_split(datasetX, datasetY, test_size=0.2, random_state=1)\n",
    "model.fit(trainx, trainy)\n",
    "\n",
    "y_pred = model.predict(testx)\n",
    "recall = recall_score(testy, y_pred, pos_label=\"PNEUMONIA\")\n",
    "precision = precision_score(testy, y_pred, pos_label=\"PNEUMONIA\")\n",
    "f1score = f1_score(testy, y_pred, pos_label=\"PNEUMONIA\")\n",
    "print(\"recall : \", recall)\n",
    "print(\"precision : \", precision)\n",
    "print(\"f1score : \", f1score)\n",
    "\n",
    "cm = confusion_matrix(testy, y_pred)\n",
    "sns.heatmap(cm, annot=True, fmt=\"d\")\n",
    "plt.show()"
   ]
  }
 ],
 "metadata": {
  "kernelspec": {
   "display_name": "Python 3",
   "language": "python",
   "name": "python3"
  },
  "language_info": {
   "codemirror_mode": {
    "name": "ipython",
    "version": 3
   },
   "file_extension": ".py",
   "mimetype": "text/x-python",
   "name": "python",
   "nbconvert_exporter": "python",
   "pygments_lexer": "ipython3",
   "version": "3.12.3"
  }
 },
 "nbformat": 4,
 "nbformat_minor": 2
}
