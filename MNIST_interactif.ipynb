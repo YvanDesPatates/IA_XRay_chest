{
 "cells": [
  {
   "cell_type": "code",
   "execution_count": 10,
   "id": "initial_id",
   "metadata": {
    "collapsed": true,
    "ExecuteTime": {
     "end_time": "2024-06-22T15:11:45.867268Z",
     "start_time": "2024-06-22T15:11:45.864725Z"
    }
   },
   "outputs": [],
   "source": [
    "# calcul matriciel\n",
    "import numpy as np\n",
    "# utilisation des modèles\n",
    "import tensorflow as tf\n",
    "from tensorflow.keras import layers\n",
    "from tensorflow.keras import Sequential\n",
    "from sklearn.model_selection import train_test_split\n",
    "\n",
    "from sklearn.model_selection import cross_val_score"
   ]
  },
  {
   "cell_type": "code",
   "outputs": [],
   "source": [
    "class MNISTLoader:\n",
    "  def __init__(self):\n",
    "    self.x_train = None\n",
    "    self.x_test = None\n",
    "    self.x_val = None\n",
    "    \n",
    "    self.x_test_normalized = None\n",
    "    self.x_train_normalized_80 = None\n",
    "    self.x_val_normalized_20 = None\n",
    "    self.y_test = None\n",
    "    self.y_train_80 = None\n",
    "    self.y_val_20 = None\n",
    "\n",
    "\n",
    "  def load_data(self):\n",
    "    (x_train, y_train), (self.x_test, self.y_test) = tf.keras.datasets.mnist.load_data()\n",
    "    x_train_normalized = x_train / 255\n",
    "    self.x_test_normalized = self.x_test / 255\n",
    "\n",
    "    self.x_train, self.x_val, self.y_train_80, self.y_val_20 = train_test_split(x_train, y_train, test_size=0.2, random_state=42)\n",
    "    self.x_train_normalized_80, self.x_val_normalized_20, self.y_train_80, self.y_val_20 = train_test_split(x_train_normalized, y_train, test_size=0.2, random_state=42)\n",
    "\n",
    "\n",
    "loader = MNISTLoader()\n",
    "loader.load_data()\n"
   ],
   "metadata": {
    "collapsed": false,
    "ExecuteTime": {
     "end_time": "2024-06-22T15:11:46.381032Z",
     "start_time": "2024-06-22T15:11:45.869294Z"
    }
   },
   "id": "c14c430918396762",
   "execution_count": 11
  },
  {
   "cell_type": "markdown",
   "source": [
    "# Convolutional model with handly data"
   ],
   "metadata": {
    "collapsed": false
   },
   "id": "953238b9ed80a7fc"
  },
  {
   "cell_type": "code",
   "outputs": [
    {
     "name": "stdout",
     "output_type": "stream",
     "text": [
      "Epoch 1/10\n",
      "\u001B[1m1500/1500\u001B[0m \u001B[32m━━━━━━━━━━━━━━━━━━━━\u001B[0m\u001B[37m\u001B[0m \u001B[1m12s\u001B[0m 7ms/step - accuracy: 0.8963 - loss: 0.3332 - val_accuracy: 0.9821 - val_loss: 0.0580\n",
      "Epoch 2/10\n",
      "\u001B[1m1500/1500\u001B[0m \u001B[32m━━━━━━━━━━━━━━━━━━━━\u001B[0m\u001B[37m\u001B[0m \u001B[1m11s\u001B[0m 7ms/step - accuracy: 0.9846 - loss: 0.0487 - val_accuracy: 0.9875 - val_loss: 0.0388\n",
      "Epoch 3/10\n",
      "\u001B[1m1500/1500\u001B[0m \u001B[32m━━━━━━━━━━━━━━━━━━━━\u001B[0m\u001B[37m\u001B[0m \u001B[1m11s\u001B[0m 7ms/step - accuracy: 0.9904 - loss: 0.0300 - val_accuracy: 0.9883 - val_loss: 0.0379\n",
      "Epoch 4/10\n",
      "\u001B[1m1500/1500\u001B[0m \u001B[32m━━━━━━━━━━━━━━━━━━━━\u001B[0m\u001B[37m\u001B[0m \u001B[1m11s\u001B[0m 7ms/step - accuracy: 0.9931 - loss: 0.0218 - val_accuracy: 0.9873 - val_loss: 0.0419\n",
      "Epoch 5/10\n",
      "\u001B[1m1500/1500\u001B[0m \u001B[32m━━━━━━━━━━━━━━━━━━━━\u001B[0m\u001B[37m\u001B[0m \u001B[1m11s\u001B[0m 7ms/step - accuracy: 0.9947 - loss: 0.0169 - val_accuracy: 0.9861 - val_loss: 0.0492\n",
      "Epoch 6/10\n",
      "\u001B[1m1500/1500\u001B[0m \u001B[32m━━━━━━━━━━━━━━━━━━━━\u001B[0m\u001B[37m\u001B[0m \u001B[1m11s\u001B[0m 7ms/step - accuracy: 0.9950 - loss: 0.0150 - val_accuracy: 0.9900 - val_loss: 0.0400\n",
      "Epoch 7/10\n",
      "\u001B[1m1500/1500\u001B[0m \u001B[32m━━━━━━━━━━━━━━━━━━━━\u001B[0m\u001B[37m\u001B[0m \u001B[1m11s\u001B[0m 7ms/step - accuracy: 0.9961 - loss: 0.0113 - val_accuracy: 0.9897 - val_loss: 0.0439\n",
      "Epoch 8/10\n",
      "\u001B[1m1500/1500\u001B[0m \u001B[32m━━━━━━━━━━━━━━━━━━━━\u001B[0m\u001B[37m\u001B[0m \u001B[1m11s\u001B[0m 7ms/step - accuracy: 0.9969 - loss: 0.0094 - val_accuracy: 0.9891 - val_loss: 0.0467\n",
      "Epoch 9/10\n",
      "\u001B[1m1500/1500\u001B[0m \u001B[32m━━━━━━━━━━━━━━━━━━━━\u001B[0m\u001B[37m\u001B[0m \u001B[1m11s\u001B[0m 7ms/step - accuracy: 0.9966 - loss: 0.0095 - val_accuracy: 0.9911 - val_loss: 0.0421\n",
      "Epoch 10/10\n",
      "\u001B[1m1500/1500\u001B[0m \u001B[32m━━━━━━━━━━━━━━━━━━━━\u001B[0m\u001B[37m\u001B[0m \u001B[1m11s\u001B[0m 7ms/step - accuracy: 0.9980 - loss: 0.0057 - val_accuracy: 0.9909 - val_loss: 0.0427\n",
      "\u001B[1m313/313\u001B[0m \u001B[32m━━━━━━━━━━━━━━━━━━━━\u001B[0m\u001B[37m\u001B[0m \u001B[1m1s\u001B[0m 2ms/step - accuracy: 0.9914 - loss: 0.0307\n"
     ]
    },
    {
     "data": {
      "text/plain": "[0.026035653427243233, 0.9930999875068665]"
     },
     "execution_count": 12,
     "metadata": {},
     "output_type": "execute_result"
    }
   ],
   "source": [
    "num_classes = 10\n",
    "core_size = 4\n",
    "model = Sequential([\n",
    "    layers.Input(shape=(28, 28, 1)),\n",
    "    layers.Conv2D(128, core_size, activation='relu'),\n",
    "    layers.MaxPooling2D(),\n",
    "    layers.Conv2D(64, core_size, activation='relu'),\n",
    "    layers.MaxPooling2D(),\n",
    "\n",
    "    layers.Flatten(),\n",
    "    layers.Dense(64, activation='relu'),\n",
    "    layers.Dense(num_classes, activation='softmax')\n",
    "])\n",
    "\n",
    "model.compile(optimizer='adam',\n",
    "              loss=tf.losses.SparseCategoricalCrossentropy(from_logits=True),\n",
    "              metrics=['accuracy'])\n",
    "\n",
    "model.fit(loader.x_train_normalized_80,\n",
    "          loader.y_train_80,\n",
    "          validation_data=(loader.x_val_normalized_20, loader.y_val_20),\n",
    "          epochs=)\n",
    "\n",
    "model.evaluate(loader.x_test_normalized, loader.y_test)"
   ],
   "metadata": {
    "collapsed": false,
    "ExecuteTime": {
     "end_time": "2024-06-22T15:13:35.746643Z",
     "start_time": "2024-06-22T15:11:46.382007Z"
    }
   },
   "id": "b2075246526be637",
   "execution_count": 12
  },
  {
   "cell_type": "code",
   "outputs": [
    {
     "name": "stdout",
     "output_type": "stream",
     "text": [
      "\u001B[1m1/1\u001B[0m \u001B[32m━━━━━━━━━━━━━━━━━━━━\u001B[0m\u001B[37m\u001B[0m \u001B[1m0s\u001B[0m 10ms/step\n",
      "\u001B[1m1/1\u001B[0m \u001B[32m━━━━━━━━━━━━━━━━━━━━\u001B[0m\u001B[37m\u001B[0m \u001B[1m0s\u001B[0m 10ms/step\n",
      "\u001B[1m1/1\u001B[0m \u001B[32m━━━━━━━━━━━━━━━━━━━━\u001B[0m\u001B[37m\u001B[0m \u001B[1m0s\u001B[0m 10ms/step\n",
      "\u001B[1m1/1\u001B[0m \u001B[32m━━━━━━━━━━━━━━━━━━━━\u001B[0m\u001B[37m\u001B[0m \u001B[1m0s\u001B[0m 10ms/step\n"
     ]
    }
   ],
   "source": [
    "import tkinter as tk\n",
    "from PIL import Image, ImageDraw\n",
    "\n",
    "# Création de la fenêtre principale\n",
    "window = tk.Tk()\n",
    "\n",
    "canvas = tk.Canvas(window, width=280, height=280, bg='white')\n",
    "canvas.pack()\n",
    "\n",
    "image = Image.new('L', (280, 280), 255)\n",
    "draw = ImageDraw.Draw(image)\n",
    "\n",
    "def clear_canvas():\n",
    "    canvas.delete('all')\n",
    "    global image, draw\n",
    "    image = Image.new('L', (280, 280), 255)\n",
    "    draw = ImageDraw.Draw(image)\n",
    "\n",
    "clear_button = tk.Button(window, text='Clear', command=clear_canvas)\n",
    "clear_button.pack()\n",
    "\n",
    "\n",
    "# Fonction appelée lors du dessin\n",
    "def draw_on_canvas(event):\n",
    "    x, y = event.x, event.y\n",
    "    canvas.create_oval(x, y, x+10, y+10, fill='black')\n",
    "    draw.rectangle([x, y, x+10, y+10], fill='black')\n",
    "\n",
    "# Fonction appelée lors de la prédiction\n",
    "def predict_digit():\n",
    "    # Redimensionner l'image à la taille attendue par le modèle (28x28)\n",
    "    resized_image = image.resize((28, 28))\n",
    "\n",
    "    # Prétraitement de l'image pour l'adapter au modèle (conversion en tableau numpy, normalisation, etc.)\n",
    "    preprocessed_image = preprocess_image(resized_image)\n",
    "\n",
    "    # Effectuer la prédiction avec le modèle\n",
    "    predictions = model.predict(np.expand_dims([preprocessed_image], axis=-1))[0]\n",
    "    prediction = np.argmax(predictions)\n",
    "\n",
    "    # Afficher la prédiction\n",
    "    prediction_label.config(text='Prediction: ' + str(prediction))\n",
    "\n",
    "# Fonction pour prétraiter l'image avant la prédiction\n",
    "def preprocess_image(image):\n",
    "    # Convertir l'image en niveaux de gris\n",
    "    image = image.convert('L')\n",
    "\n",
    "    # Convertir l'image en tableau numpy\n",
    "    image_array = np.array(image)\n",
    "    \n",
    "    # on inverse le noir et le blanc, car le dessin s'affiche mieux sur fond blanc mais notre modèle est entrainé sur fond noir\n",
    "    # en gros sur l'image 255 correspond à du vide alors que pour notre modèle 255 c'est une case dessinée par l'utilisateur\n",
    "    final_array = 255 - image_array\n",
    "    return final_array\n",
    "\n",
    "predict_button = tk.Button(window, text='Predict', command=predict_digit)\n",
    "predict_button.pack()\n",
    "\n",
    "prediction_label = tk.Label(window, text='Prediction: ')\n",
    "prediction_label.pack()\n",
    "\n",
    "# Capturer les événements de dessin sur la toile\n",
    "canvas.bind('<B1-Motion>', draw_on_canvas)\n",
    "\n",
    "# Lancer l'application\n",
    "window.mainloop()"
   ],
   "metadata": {
    "collapsed": false,
    "ExecuteTime": {
     "end_time": "2024-06-22T15:23:05.818427Z",
     "start_time": "2024-06-22T15:22:32.094861Z"
    }
   },
   "id": "cb473ab9615f71f3",
   "execution_count": 14
  }
 ],
 "metadata": {
  "kernelspec": {
   "display_name": "Python 3",
   "language": "python",
   "name": "python3"
  },
  "language_info": {
   "codemirror_mode": {
    "name": "ipython",
    "version": 2
   },
   "file_extension": ".py",
   "mimetype": "text/x-python",
   "name": "python",
   "nbconvert_exporter": "python",
   "pygments_lexer": "ipython2",
   "version": "2.7.6"
  }
 },
 "nbformat": 4,
 "nbformat_minor": 5
}
