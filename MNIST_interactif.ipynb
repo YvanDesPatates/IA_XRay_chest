{
 "cells": [
  {
   "cell_type": "code",
   "execution_count": 2,
   "id": "initial_id",
   "metadata": {
    "collapsed": true,
    "ExecuteTime": {
     "end_time": "2024-04-28T20:29:10.310325Z",
     "start_time": "2024-04-28T20:29:08.327502Z"
    }
   },
   "outputs": [
    {
     "name": "stderr",
     "output_type": "stream",
     "text": [
      "2024-04-28 22:29:08.551937: I tensorflow/core/util/port.cc:113] oneDNN custom operations are on. You may see slightly different numerical results due to floating-point round-off errors from different computation orders. To turn them off, set the environment variable `TF_ENABLE_ONEDNN_OPTS=0`.\n",
      "2024-04-28 22:29:08.552451: I external/local_tsl/tsl/cuda/cudart_stub.cc:32] Could not find cuda drivers on your machine, GPU will not be used.\n",
      "2024-04-28 22:29:08.555035: I external/local_tsl/tsl/cuda/cudart_stub.cc:32] Could not find cuda drivers on your machine, GPU will not be used.\n",
      "2024-04-28 22:29:08.593478: I tensorflow/core/platform/cpu_feature_guard.cc:210] This TensorFlow binary is optimized to use available CPU instructions in performance-critical operations.\n",
      "To enable the following instructions: AVX2 AVX512F AVX512_VNNI FMA, in other operations, rebuild TensorFlow with the appropriate compiler flags.\n",
      "2024-04-28 22:29:09.665195: W tensorflow/compiler/tf2tensorrt/utils/py_utils.cc:38] TF-TRT Warning: Could not find TensorRT\n"
     ]
    }
   ],
   "source": [
    "# calcul matriciel\n",
    "import numpy as np\n",
    "# utilisation des modèles\n",
    "import tensorflow as tf\n",
    "from tensorflow.keras import layers\n",
    "from tensorflow.keras import Sequential\n",
    "from sklearn.model_selection import train_test_split\n",
    "\n",
    "from sklearn.model_selection import cross_val_score"
   ]
  },
  {
   "cell_type": "code",
   "outputs": [],
   "source": [
    "class MNISTLoader:\n",
    "  def __init__(self):\n",
    "    self.x_train = None\n",
    "    self.x_test = None\n",
    "    self.x_val = None\n",
    "    \n",
    "    self.x_test_normalized = None\n",
    "    self.x_train_normalized_80 = None\n",
    "    self.x_val_normalized_20 = None\n",
    "    self.y_test = None\n",
    "    self.y_train_80 = None\n",
    "    self.y_val_20 = None\n",
    "\n",
    "\n",
    "  def load_data(self):\n",
    "    (x_train, y_train), (self.x_test, self.y_test) = tf.keras.datasets.mnist.load_data()\n",
    "    x_train_normalized = x_train / 255\n",
    "    self.x_test_normalized = self.x_test / 255\n",
    "\n",
    "    self.x_train, self.x_val, self.y_train_80, self.y_val_20 = train_test_split(x_train, y_train, test_size=0.2, random_state=42)\n",
    "    self.x_train_normalized_80, self.x_val_normalized_20, self.y_train_80, self.y_val_20 = train_test_split(x_train_normalized, y_train, test_size=0.2, random_state=42)\n",
    "\n",
    "\n",
    "loader = MNISTLoader()\n",
    "loader.load_data()\n"
   ],
   "metadata": {
    "collapsed": false,
    "ExecuteTime": {
     "end_time": "2024-04-28T20:29:10.736443Z",
     "start_time": "2024-04-28T20:29:10.312105Z"
    }
   },
   "id": "c14c430918396762",
   "execution_count": 3
  },
  {
   "cell_type": "code",
   "outputs": [
    {
     "name": "stdout",
     "output_type": "stream",
     "text": [
      "(48000, 28, 28)\n",
      "(28, 28)\n"
     ]
    }
   ],
   "source": [
    "print(loader.x_train_normalized_80.shape)\n",
    "print(loader.x_train_normalized_80[0].shape)"
   ],
   "metadata": {
    "collapsed": false,
    "ExecuteTime": {
     "end_time": "2024-04-28T20:29:10.740412Z",
     "start_time": "2024-04-28T20:29:10.737610Z"
    }
   },
   "id": "4a4cadb641333f84",
   "execution_count": 4
  },
  {
   "cell_type": "markdown",
   "source": [
    "# Convolutional model with raw data"
   ],
   "metadata": {
    "collapsed": false
   },
   "id": "340908c6c5beb463"
  },
  {
   "cell_type": "code",
   "outputs": [
    {
     "name": "stdout",
     "output_type": "stream",
     "text": [
      "Epoch 1/2\n"
     ]
    },
    {
     "name": "stderr",
     "output_type": "stream",
     "text": [
      "/usr/local/lib/python3.10/dist-packages/keras/src/backend/tensorflow/nn.py:599: UserWarning: \"`sparse_categorical_crossentropy` received `from_logits=True`, but the `output` argument was produced by a Softmax activation and thus does not represent logits. Was this intended?\n",
      "  output, from_logits = _get_logits(\n"
     ]
    },
    {
     "name": "stdout",
     "output_type": "stream",
     "text": [
      "\u001B[1m1500/1500\u001B[0m \u001B[32m━━━━━━━━━━━━━━━━━━━━\u001B[0m\u001B[37m\u001B[0m \u001B[1m19s\u001B[0m 12ms/step - accuracy: 0.8925 - loss: 0.3435 - val_accuracy: 0.9793 - val_loss: 0.0665\n",
      "Epoch 2/2\n",
      "\u001B[1m1500/1500\u001B[0m \u001B[32m━━━━━━━━━━━━━━━━━━━━\u001B[0m\u001B[37m\u001B[0m \u001B[1m18s\u001B[0m 12ms/step - accuracy: 0.9851 - loss: 0.0478 - val_accuracy: 0.9875 - val_loss: 0.0390\n",
      "\u001B[1m313/313\u001B[0m \u001B[32m━━━━━━━━━━━━━━━━━━━━\u001B[0m\u001B[37m\u001B[0m \u001B[1m1s\u001B[0m 3ms/step - accuracy: 0.9865 - loss: 0.0455\n"
     ]
    },
    {
     "data": {
      "text/plain": "[0.03479255363345146, 0.9890999794006348]"
     },
     "execution_count": 5,
     "metadata": {},
     "output_type": "execute_result"
    }
   ],
   "source": [
    "num_classes = 10\n",
    "core_size = 4\n",
    "model = Sequential([\n",
    "    layers.Input(shape=(28, 28, 1)),\n",
    "    layers.Conv2D(128, core_size, activation='relu'),\n",
    "    layers.MaxPooling2D(),\n",
    "    layers.Conv2D(64, core_size, activation='relu'),\n",
    "    layers.MaxPooling2D(),\n",
    "\n",
    "    layers.Flatten(),\n",
    "    layers.Dense(64, activation='relu'),\n",
    "    layers.Dense(num_classes, activation='softmax')\n",
    "])\n",
    "\n",
    "model.compile(optimizer='adam',\n",
    "              loss=tf.losses.SparseCategoricalCrossentropy(from_logits=True),\n",
    "              metrics=['accuracy'])\n",
    "\n",
    "model.fit(loader.x_train_normalized_80,\n",
    "          loader.y_train_80,\n",
    "          validation_data=(loader.x_val_normalized_20, loader.y_val_20),\n",
    "          epochs=2)\n",
    "\n",
    "model.evaluate(loader.x_test_normalized, loader.y_test)"
   ],
   "metadata": {
    "collapsed": false,
    "ExecuteTime": {
     "end_time": "2024-04-28T20:29:48.936957Z",
     "start_time": "2024-04-28T20:29:10.741890Z"
    }
   },
   "id": "6a3e0be2035eb2cb",
   "execution_count": 5
  },
  {
   "cell_type": "markdown",
   "source": [
    "# Convolutional model with handly normalized data"
   ],
   "metadata": {
    "collapsed": false
   },
   "id": "953238b9ed80a7fc"
  },
  {
   "cell_type": "code",
   "outputs": [
    {
     "name": "stdout",
     "output_type": "stream",
     "text": [
      "Epoch 1/2\n",
      "\u001B[1m1500/1500\u001B[0m \u001B[32m━━━━━━━━━━━━━━━━━━━━\u001B[0m\u001B[37m\u001B[0m \u001B[1m19s\u001B[0m 12ms/step - accuracy: 0.8958 - loss: 0.3280 - val_accuracy: 0.9738 - val_loss: 0.0873\n",
      "Epoch 2/2\n",
      "\u001B[1m1500/1500\u001B[0m \u001B[32m━━━━━━━━━━━━━━━━━━━━\u001B[0m\u001B[37m\u001B[0m \u001B[1m17s\u001B[0m 11ms/step - accuracy: 0.9848 - loss: 0.0497 - val_accuracy: 0.9839 - val_loss: 0.0501\n",
      "\u001B[1m313/313\u001B[0m \u001B[32m━━━━━━━━━━━━━━━━━━━━\u001B[0m\u001B[37m\u001B[0m \u001B[1m1s\u001B[0m 3ms/step - accuracy: 0.9855 - loss: 0.0451\n"
     ]
    },
    {
     "data": {
      "text/plain": "[0.03817664086818695, 0.9879999756813049]"
     },
     "execution_count": 6,
     "metadata": {},
     "output_type": "execute_result"
    }
   ],
   "source": [
    "num_classes = 10\n",
    "core_size = 4\n",
    "model = Sequential([\n",
    "    layers.Input(shape=(28, 28, 1)),\n",
    "    layers.Conv2D(128, core_size, activation='relu'),\n",
    "    layers.MaxPooling2D(),\n",
    "    layers.Conv2D(64, core_size, activation='relu'),\n",
    "    layers.MaxPooling2D(),\n",
    "\n",
    "    layers.Flatten(),\n",
    "    layers.Dense(64, activation='relu'),\n",
    "    layers.Dense(num_classes, activation='softmax')\n",
    "])\n",
    "\n",
    "model.compile(optimizer='adam',\n",
    "              loss=tf.losses.SparseCategoricalCrossentropy(from_logits=True),\n",
    "              metrics=['accuracy'])\n",
    "\n",
    "model.fit(loader.x_train_normalized_80,\n",
    "          loader.y_train_80,\n",
    "          validation_data=(loader.x_val_normalized_20, loader.y_val_20),\n",
    "          epochs=2)\n",
    "\n",
    "model.evaluate(loader.x_test_normalized, loader.y_test)"
   ],
   "metadata": {
    "collapsed": false,
    "ExecuteTime": {
     "end_time": "2024-04-28T20:30:26.238108Z",
     "start_time": "2024-04-28T20:29:48.938013Z"
    }
   },
   "id": "b2075246526be637",
   "execution_count": 6
  },
  {
   "cell_type": "code",
   "outputs": [
    {
     "name": "stdout",
     "output_type": "stream",
     "text": [
      "\u001B[1m1/1\u001B[0m \u001B[32m━━━━━━━━━━━━━━━━━━━━\u001B[0m\u001B[37m\u001B[0m \u001B[1m0s\u001B[0m 38ms/step\n",
      "\u001B[1m1/1\u001B[0m \u001B[32m━━━━━━━━━━━━━━━━━━━━\u001B[0m\u001B[37m\u001B[0m \u001B[1m0s\u001B[0m 31ms/step\n",
      "\u001B[1m1/1\u001B[0m \u001B[32m━━━━━━━━━━━━━━━━━━━━\u001B[0m\u001B[37m\u001B[0m \u001B[1m0s\u001B[0m 22ms/step\n",
      "\u001B[1m1/1\u001B[0m \u001B[32m━━━━━━━━━━━━━━━━━━━━\u001B[0m\u001B[37m\u001B[0m \u001B[1m0s\u001B[0m 13ms/step\n",
      "\u001B[1m1/1\u001B[0m \u001B[32m━━━━━━━━━━━━━━━━━━━━\u001B[0m\u001B[37m\u001B[0m \u001B[1m0s\u001B[0m 12ms/step\n",
      "\u001B[1m1/1\u001B[0m \u001B[32m━━━━━━━━━━━━━━━━━━━━\u001B[0m\u001B[37m\u001B[0m \u001B[1m0s\u001B[0m 13ms/step\n",
      "\u001B[1m1/1\u001B[0m \u001B[32m━━━━━━━━━━━━━━━━━━━━\u001B[0m\u001B[37m\u001B[0m \u001B[1m0s\u001B[0m 31ms/step\n",
      "\u001B[1m1/1\u001B[0m \u001B[32m━━━━━━━━━━━━━━━━━━━━\u001B[0m\u001B[37m\u001B[0m \u001B[1m0s\u001B[0m 13ms/step\n",
      "\u001B[1m1/1\u001B[0m \u001B[32m━━━━━━━━━━━━━━━━━━━━\u001B[0m\u001B[37m\u001B[0m \u001B[1m0s\u001B[0m 30ms/step\n",
      "\u001B[1m1/1\u001B[0m \u001B[32m━━━━━━━━━━━━━━━━━━━━\u001B[0m\u001B[37m\u001B[0m \u001B[1m0s\u001B[0m 13ms/step\n",
      "\u001B[1m1/1\u001B[0m \u001B[32m━━━━━━━━━━━━━━━━━━━━\u001B[0m\u001B[37m\u001B[0m \u001B[1m0s\u001B[0m 12ms/step\n",
      "\u001B[1m1/1\u001B[0m \u001B[32m━━━━━━━━━━━━━━━━━━━━\u001B[0m\u001B[37m\u001B[0m \u001B[1m0s\u001B[0m 12ms/step\n",
      "\u001B[1m1/1\u001B[0m \u001B[32m━━━━━━━━━━━━━━━━━━━━\u001B[0m\u001B[37m\u001B[0m \u001B[1m0s\u001B[0m 13ms/step\n",
      "\u001B[1m1/1\u001B[0m \u001B[32m━━━━━━━━━━━━━━━━━━━━\u001B[0m\u001B[37m\u001B[0m \u001B[1m0s\u001B[0m 26ms/step\n",
      "\u001B[1m1/1\u001B[0m \u001B[32m━━━━━━━━━━━━━━━━━━━━\u001B[0m\u001B[37m\u001B[0m \u001B[1m0s\u001B[0m 12ms/step\n",
      "\u001B[1m1/1\u001B[0m \u001B[32m━━━━━━━━━━━━━━━━━━━━\u001B[0m\u001B[37m\u001B[0m \u001B[1m0s\u001B[0m 31ms/step\n",
      "\u001B[1m1/1\u001B[0m \u001B[32m━━━━━━━━━━━━━━━━━━━━\u001B[0m\u001B[37m\u001B[0m \u001B[1m0s\u001B[0m 12ms/step\n",
      "\u001B[1m1/1\u001B[0m \u001B[32m━━━━━━━━━━━━━━━━━━━━\u001B[0m\u001B[37m\u001B[0m \u001B[1m0s\u001B[0m 12ms/step\n",
      "\u001B[1m1/1\u001B[0m \u001B[32m━━━━━━━━━━━━━━━━━━━━\u001B[0m\u001B[37m\u001B[0m \u001B[1m0s\u001B[0m 13ms/step\n",
      "\u001B[1m1/1\u001B[0m \u001B[32m━━━━━━━━━━━━━━━━━━━━\u001B[0m\u001B[37m\u001B[0m \u001B[1m0s\u001B[0m 14ms/step\n",
      "\u001B[1m1/1\u001B[0m \u001B[32m━━━━━━━━━━━━━━━━━━━━\u001B[0m\u001B[37m\u001B[0m \u001B[1m0s\u001B[0m 13ms/step\n",
      "\u001B[1m1/1\u001B[0m \u001B[32m━━━━━━━━━━━━━━━━━━━━\u001B[0m\u001B[37m\u001B[0m \u001B[1m0s\u001B[0m 32ms/step\n",
      "\u001B[1m1/1\u001B[0m \u001B[32m━━━━━━━━━━━━━━━━━━━━\u001B[0m\u001B[37m\u001B[0m \u001B[1m0s\u001B[0m 32ms/step\n"
     ]
    }
   ],
   "source": [
    "import tkinter as tk\n",
    "from PIL import Image, ImageDraw\n",
    "\n",
    "# Création de la fenêtre principale\n",
    "window = tk.Tk()\n",
    "\n",
    "canvas = tk.Canvas(window, width=280, height=280, bg='white')\n",
    "canvas.pack()\n",
    "\n",
    "image = Image.new('L', (280, 280), 255)\n",
    "draw = ImageDraw.Draw(image)\n",
    "\n",
    "def clear_canvas():\n",
    "    canvas.delete('all')\n",
    "    global image, draw\n",
    "    image = Image.new('L', (280, 280), 255)\n",
    "    draw = ImageDraw.Draw(image)\n",
    "\n",
    "clear_button = tk.Button(window, text='Clear', command=clear_canvas)\n",
    "clear_button.pack()\n",
    "\n",
    "\n",
    "# Fonction appelée lors du dessin\n",
    "def draw_on_canvas(event):\n",
    "    x, y = event.x, event.y\n",
    "    canvas.create_oval(x, y, x+10, y+10, fill='black')\n",
    "    draw.rectangle([x, y, x+10, y+10], fill='black')\n",
    "\n",
    "# Fonction appelée lors de la prédiction\n",
    "def predict_digit():\n",
    "    # Redimensionner l'image à la taille attendue par le modèle (28x28)\n",
    "    resized_image = image.resize((28, 28))\n",
    "\n",
    "    # Prétraitement de l'image pour l'adapter au modèle (conversion en tableau numpy, normalisation, etc.)\n",
    "    preprocessed_image = preprocess_image(resized_image)\n",
    "\n",
    "    # Effectuer la prédiction avec le modèle\n",
    "    predictions = model.predict(np.expand_dims([preprocessed_image], axis=-1))[0]\n",
    "    prediction = np.argmax(predictions)\n",
    "\n",
    "    # Afficher la prédiction\n",
    "    prediction_label.config(text='Prediction: ' + str(prediction))\n",
    "\n",
    "# Fonction pour prétraiter l'image avant la prédiction\n",
    "def preprocess_image(image):\n",
    "    # Convertir l'image en niveaux de gris\n",
    "    image = image.convert('L')\n",
    "\n",
    "    # Convertir l'image en tableau numpy\n",
    "    image_array = np.array(image)\n",
    "    \n",
    "    # on inverse le noir et le blanc, car le dessin s'affiche mieux sur fond blanc mais notre modèle est entrainé sur fond noir\n",
    "    # en gros sur l'image 255 correspond à du vide alors que pour notre modèle 255 c'est une case dessinée par l'utilisateur\n",
    "    final_array = 255 - image_array\n",
    "    return final_array\n",
    "\n",
    "predict_button = tk.Button(window, text='Predict', command=predict_digit)\n",
    "predict_button.pack()\n",
    "\n",
    "prediction_label = tk.Label(window, text='Prediction: ')\n",
    "prediction_label.pack()\n",
    "\n",
    "# Capturer les événements de dessin sur la toile\n",
    "canvas.bind('<B1-Motion>', draw_on_canvas)\n",
    "\n",
    "# Lancer l'application\n",
    "window.mainloop()"
   ],
   "metadata": {
    "collapsed": false,
    "ExecuteTime": {
     "end_time": "2024-04-28T20:32:55.868617Z",
     "start_time": "2024-04-28T20:30:26.239642Z"
    }
   },
   "id": "cb473ab9615f71f3",
   "execution_count": 7
  }
 ],
 "metadata": {
  "kernelspec": {
   "display_name": "Python 3",
   "language": "python",
   "name": "python3"
  },
  "language_info": {
   "codemirror_mode": {
    "name": "ipython",
    "version": 2
   },
   "file_extension": ".py",
   "mimetype": "text/x-python",
   "name": "python",
   "nbconvert_exporter": "python",
   "pygments_lexer": "ipython2",
   "version": "2.7.6"
  }
 },
 "nbformat": 4,
 "nbformat_minor": 5
}
