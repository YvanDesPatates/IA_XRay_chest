{
 "cells": [
  {
   "cell_type": "code",
   "execution_count": 156,
   "id": "initial_id",
   "metadata": {
    "collapsed": true,
    "ExecuteTime": {
     "end_time": "2024-04-02T20:43:51.537138Z",
     "start_time": "2024-04-02T20:43:51.533648Z"
    }
   },
   "outputs": [],
   "source": [
    "# calcul matriciel\n",
    "import numpy as np\n",
    "from sklearn.metrics import accuracy_score\n",
    "# utilisation des modèles\n",
    "import tensorflow as tf\n",
    "# visualisation statistique et images\n",
    "import matplotlib.pyplot as plt\n"
   ]
  },
  {
   "cell_type": "code",
   "outputs": [],
   "source": [
    "class MNISTLoader:\n",
    "  def __init__(self):\n",
    "    self.x_train = None\n",
    "    self.y_train = None\n",
    "    self.x_test = None\n",
    "    self.y_test = None\n",
    "    self.x_train_reshaped = None\n",
    "    self.x_test_reshaped = None\n",
    "    self.x_test_normalized = None\n",
    "    self.x_train_normalized = None\n",
    "\n",
    "  def load_data(self):\n",
    "    (self.x_train, self.y_train), (self.x_test, self.y_test) = tf.keras.datasets.mnist.load_data()\n",
    "    self.x_test_reshaped = self.x_test.reshape(-1, 28*28)\n",
    "    self.x_train_reshaped = self.x_train.reshape(-1, 28*28)\n",
    "    self.x_test_normalized = self.x_test_reshaped / 255\n",
    "    self.x_train_normalized = self.x_train_reshaped / 255\n",
    "\n",
    "  def display_digit_distribution(self):\n",
    "    # Calculer la distribution des chiffres dans l'ensemble d'apprentissage\n",
    "    train_counts = np.bincount(self.y_train)\n",
    "    train_digits = np.nonzero(train_counts)[0]\n",
    "\n",
    "    # Calculer la distribution des chiffres dans l'ensemble de test\n",
    "    test_counts = np.bincount(self.y_test)\n",
    "    test_digits = np.nonzero(test_counts)[0]\n",
    "\n",
    "    # Tracer les graphiques de distribution\n",
    "    fig, (ax1, ax2) = plt.subplots(1, 2, figsize=(12, 6))\n",
    "\n",
    "    ax1.bar(train_digits, train_counts[train_digits])\n",
    "    ax1.set_title('Distribution des chiffres - Entraînement')\n",
    "    ax1.set_xlabel('Chiffre')\n",
    "    ax1.set_ylabel('Nombre d\\'occurrences')\n",
    "\n",
    "    ax2.bar(test_digits, test_counts[test_digits])\n",
    "    ax2.set_title('Distribution des chiffres - Test')\n",
    "    ax2.set_xlabel('Chiffre')\n",
    "    ax2.set_ylabel('Nombre d\\'occurrences')\n",
    "\n",
    "    plt.show()\n",
    "\n",
    "\n",
    "  def display_image(self, dataset, index):\n",
    "    if dataset == 'train':\n",
    "      image = self.x_train[index]\n",
    "      label = self.y_train[index]\n",
    "    elif dataset == 'test':\n",
    "      image = self.x_test[index]\n",
    "      label = self.y_test[index]\n",
    "    else:\n",
    "      raise ValueError('invalid argument dataset')\n",
    "\n",
    "    plt.imshow(image, cmap='gray')\n",
    "    plt.title(f'Image {index} - Chiffre: {label}')\n",
    "    plt.axis('off')\n",
    "    plt.show()\n",
    "\n",
    "\n",
    "  def display_digit_means(self):\n",
    "    digit_means_train = []\n",
    "    digit_means_test = []\n",
    "\n",
    "# pour chaque digit on fait la moyenne de la valeur de chaque pixel pour créer une nouvelle image\n",
    "    for digit in range(10):\n",
    "    # on prends toutes les images pour lesquelles le label = à l'index (0 sur le premier tour de loop)\n",
    "      digit_images_train = self.x_train[self.y_train == digit]\n",
    "      digit_images_test = self.x_test[self.y_test == digit]\n",
    "\n",
    "      digit_mean_train = np.mean(digit_images_train, axis=0)\n",
    "      digit_mean_test = np.mean(digit_images_test, axis=0)\n",
    "\n",
    "      digit_means_train.append(digit_mean_train)\n",
    "      digit_means_test.append(digit_mean_test)\n",
    "\n",
    "    # Affichage des moyennes des chiffres\n",
    "    fig, axs = plt.subplots(2, 10, figsize=(20, 6))\n",
    "\n",
    "    for i in range(10):\n",
    "      axs[0, i].imshow(digit_means_train[i], cmap='gray')\n",
    "      axs[0, i].set_title(f'Moyenne - Chiffre {i}')\n",
    "      axs[0, i].axis('off')\n",
    "\n",
    "      axs[1, i].imshow(digit_means_test[i], cmap='gray')\n",
    "      axs[1, i].set_title(f'Moyenne - Chiffre {i}')\n",
    "      axs[1, i].axis('off')\n",
    "\n",
    "    plt.tight_layout()\n",
    "    plt.show()"
   ],
   "metadata": {
    "collapsed": false,
    "ExecuteTime": {
     "end_time": "2024-04-02T20:43:51.554617Z",
     "start_time": "2024-04-02T20:43:51.540346Z"
    }
   },
   "id": "5594ddda57c60e5e",
   "execution_count": 157
  },
  {
   "cell_type": "code",
   "outputs": [],
   "source": [
    "loader = MNISTLoader()\n",
    "loader.load_data()"
   ],
   "metadata": {
    "collapsed": false,
    "ExecuteTime": {
     "end_time": "2024-04-02T20:43:51.806354Z",
     "start_time": "2024-04-02T20:43:51.556420Z"
    }
   },
   "id": "92c1c35f3e11bc8e",
   "execution_count": 158
  },
  {
   "cell_type": "code",
   "outputs": [],
   "source": [
    "class my_model:\n",
    "  def __init__(self):\n",
    "    # tableau de type (label, mean_value)\n",
    "    self.mean_label_array = None\n",
    "    self.y = []\n",
    "      \n",
    "  # on transforme toutes les valeurs en 0 ou 1 car ce qui compte c'est pas les nuances mais bien les pixels avec et sans traits\n",
    "  def binarize(self, x):\n",
    "    # init an array of size x.size\n",
    "    res = np.zeros(x.size)\n",
    "    \n",
    "    for i in range(x.size):\n",
    "      if x[i] > 0.4:\n",
    "        res[i] = 1\n",
    "      else:\n",
    "        res[i] = 0\n",
    "    return res\n",
    "    \n",
    "  def train(self, x_dataset, y_dataset):\n",
    "    unique_labels = np.unique(y_dataset)\n",
    "    # init a np array of size unique_labels.size\n",
    "    self.mean_label_array = np.array([])\n",
    "    \n",
    "    for i in range(unique_labels.size):\n",
    "      label_values = x_dataset[y_dataset == unique_labels[i]]\n",
    "      label_mean = np.mean(label_values, axis=0)\n",
    "      binarized_label_mean = self.binarize(label_mean)\n",
    "      print(unique_labels[i])\n",
    "      self.mean_label_array = np.append(self.mean_label_array, [unique_labels[i], binarized_label_mean])\n",
    "        \n",
    "  def predict(self, x):\n",
    "    self.y = []\n",
    "    for i in range(x.size):\n",
    "      binarized_x = self.binarize(x[i])\n",
    "      self.y[i] = (self.predict_one(binarized_x))\n",
    "    \n",
    "    return self.y\n",
    "\n",
    "  def predict_one(self, x):\n",
    "    # on initialise la distance minimale à la première valeur du tableau\n",
    "    print(self.mean_label_array[0])\n",
    "    min_distance = x - self.mean_label_array[0][1]\n",
    "    min_label = self.mean_label_array[0][0]\n",
    "    \n",
    "    for label, mean in self.mean_label_array:\n",
    "        distance = x - mean\n",
    "        if distance < min_distance:\n",
    "            min_distance = distance\n",
    "            min_label = label\n",
    "    \n",
    "    return min_label\n",
    "      \n",
    "      "
   ],
   "metadata": {
    "collapsed": false,
    "ExecuteTime": {
     "end_time": "2024-04-02T20:43:51.814178Z",
     "start_time": "2024-04-02T20:43:51.807558Z"
    }
   },
   "id": "1acbddc32df41681",
   "execution_count": 159
  },
  {
   "cell_type": "code",
   "outputs": [
    {
     "name": "stdout",
     "output_type": "stream",
     "text": [
      "0\n"
     ]
    },
    {
     "ename": "ValueError",
     "evalue": "setting an array element with a sequence. The requested array has an inhomogeneous shape after 1 dimensions. The detected shape was (2,) + inhomogeneous part.",
     "output_type": "error",
     "traceback": [
      "\u001B[0;31m---------------------------------------------------------------------------\u001B[0m",
      "\u001B[0;31mValueError\u001B[0m                                Traceback (most recent call last)",
      "Cell \u001B[0;32mIn[160], line 2\u001B[0m\n\u001B[1;32m      1\u001B[0m model \u001B[38;5;241m=\u001B[39m my_model()\n\u001B[0;32m----> 2\u001B[0m \u001B[43mmodel\u001B[49m\u001B[38;5;241;43m.\u001B[39;49m\u001B[43mtrain\u001B[49m\u001B[43m(\u001B[49m\u001B[43mloader\u001B[49m\u001B[38;5;241;43m.\u001B[39;49m\u001B[43mx_train_reshaped\u001B[49m\u001B[43m,\u001B[49m\u001B[43m \u001B[49m\u001B[43mloader\u001B[49m\u001B[38;5;241;43m.\u001B[39;49m\u001B[43my_train\u001B[49m\u001B[43m)\u001B[49m\n\u001B[1;32m      3\u001B[0m y_pred \u001B[38;5;241m=\u001B[39m model\u001B[38;5;241m.\u001B[39mpredict(loader\u001B[38;5;241m.\u001B[39mx_test_normalized)\n\u001B[1;32m      5\u001B[0m accuracy \u001B[38;5;241m=\u001B[39m accuracy_score(loader\u001B[38;5;241m.\u001B[39my_test, y_pred)\n",
      "Cell \u001B[0;32mIn[159], line 29\u001B[0m, in \u001B[0;36mmy_model.train\u001B[0;34m(self, x_dataset, y_dataset)\u001B[0m\n\u001B[1;32m     27\u001B[0m binarized_label_mean \u001B[38;5;241m=\u001B[39m \u001B[38;5;28mself\u001B[39m\u001B[38;5;241m.\u001B[39mbinarize(label_mean)\n\u001B[1;32m     28\u001B[0m \u001B[38;5;28mprint\u001B[39m(unique_labels[i])\n\u001B[0;32m---> 29\u001B[0m \u001B[38;5;28mself\u001B[39m\u001B[38;5;241m.\u001B[39mmean_label_array \u001B[38;5;241m=\u001B[39m \u001B[43mnp\u001B[49m\u001B[38;5;241;43m.\u001B[39;49m\u001B[43mappend\u001B[49m\u001B[43m(\u001B[49m\u001B[38;5;28;43mself\u001B[39;49m\u001B[38;5;241;43m.\u001B[39;49m\u001B[43mmean_label_array\u001B[49m\u001B[43m,\u001B[49m\u001B[43m \u001B[49m\u001B[43m[\u001B[49m\u001B[43munique_labels\u001B[49m\u001B[43m[\u001B[49m\u001B[43mi\u001B[49m\u001B[43m]\u001B[49m\u001B[43m,\u001B[49m\u001B[43m \u001B[49m\u001B[43mbinarized_label_mean\u001B[49m\u001B[43m]\u001B[49m\u001B[43m)\u001B[49m\n",
      "File \u001B[0;32m/usr/local/lib/python3.10/dist-packages/numpy/lib/function_base.py:5616\u001B[0m, in \u001B[0;36mappend\u001B[0;34m(arr, values, axis)\u001B[0m\n\u001B[1;32m   5614\u001B[0m     \u001B[38;5;28;01mif\u001B[39;00m arr\u001B[38;5;241m.\u001B[39mndim \u001B[38;5;241m!=\u001B[39m \u001B[38;5;241m1\u001B[39m:\n\u001B[1;32m   5615\u001B[0m         arr \u001B[38;5;241m=\u001B[39m arr\u001B[38;5;241m.\u001B[39mravel()\n\u001B[0;32m-> 5616\u001B[0m     values \u001B[38;5;241m=\u001B[39m \u001B[43mravel\u001B[49m\u001B[43m(\u001B[49m\u001B[43mvalues\u001B[49m\u001B[43m)\u001B[49m\n\u001B[1;32m   5617\u001B[0m     axis \u001B[38;5;241m=\u001B[39m arr\u001B[38;5;241m.\u001B[39mndim\u001B[38;5;241m-\u001B[39m\u001B[38;5;241m1\u001B[39m\n\u001B[1;32m   5618\u001B[0m \u001B[38;5;28;01mreturn\u001B[39;00m concatenate((arr, values), axis\u001B[38;5;241m=\u001B[39maxis)\n",
      "File \u001B[0;32m/usr/local/lib/python3.10/dist-packages/numpy/core/fromnumeric.py:1874\u001B[0m, in \u001B[0;36mravel\u001B[0;34m(a, order)\u001B[0m\n\u001B[1;32m   1872\u001B[0m     \u001B[38;5;28;01mreturn\u001B[39;00m asarray(a)\u001B[38;5;241m.\u001B[39mravel(order\u001B[38;5;241m=\u001B[39morder)\n\u001B[1;32m   1873\u001B[0m \u001B[38;5;28;01melse\u001B[39;00m:\n\u001B[0;32m-> 1874\u001B[0m     \u001B[38;5;28;01mreturn\u001B[39;00m \u001B[43masanyarray\u001B[49m\u001B[43m(\u001B[49m\u001B[43ma\u001B[49m\u001B[43m)\u001B[49m\u001B[38;5;241m.\u001B[39mravel(order\u001B[38;5;241m=\u001B[39morder)\n",
      "\u001B[0;31mValueError\u001B[0m: setting an array element with a sequence. The requested array has an inhomogeneous shape after 1 dimensions. The detected shape was (2,) + inhomogeneous part."
     ]
    }
   ],
   "source": [
    "model = my_model()\n",
    "model.train(loader.x_train_reshaped, loader.y_train)\n",
    "y_pred = model.predict(loader.x_test_normalized)\n",
    "\n",
    "accuracy = accuracy_score(loader.y_test, y_pred)"
   ],
   "metadata": {
    "collapsed": false,
    "ExecuteTime": {
     "end_time": "2024-04-02T20:43:51.858426Z",
     "start_time": "2024-04-02T20:43:51.815707Z"
    }
   },
   "id": "24bc427bf2963701",
   "execution_count": 160
  }
 ],
 "metadata": {
  "kernelspec": {
   "display_name": "Python 3",
   "language": "python",
   "name": "python3"
  },
  "language_info": {
   "codemirror_mode": {
    "name": "ipython",
    "version": 2
   },
   "file_extension": ".py",
   "mimetype": "text/x-python",
   "name": "python",
   "nbconvert_exporter": "python",
   "pygments_lexer": "ipython2",
   "version": "2.7.6"
  }
 },
 "nbformat": 4,
 "nbformat_minor": 5
}
