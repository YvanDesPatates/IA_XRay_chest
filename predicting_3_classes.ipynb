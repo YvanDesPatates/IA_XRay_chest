{
 "cells": [
  {
   "cell_type": "markdown",
   "metadata": {},
   "source": [
    "#### Imports"
   ]
  },
  {
   "cell_type": "code",
   "execution_count": 1,
   "metadata": {
    "ExecuteTime": {
     "end_time": "2024-05-28T10:21:23.122791Z",
     "start_time": "2024-05-28T10:21:22.808327Z"
    }
   },
   "outputs": [],
   "source": [
    "import os \n",
    "import cv2\n",
    "import numpy as np\n",
    "import matplotlib.pyplot as plt\n",
    "import seaborn as sns\n",
    "\n",
    "from sklearn.model_selection import train_test_split\n",
    "from sklearn.metrics import make_scorer, recall_score, precision_score, f1_score, confusion_matrix\n",
    "\n",
    "from tensorflow.keras.preprocessing.image import ImageDataGenerator\n",
    "from skimage import transform\n"
   ]
  },
  {
   "cell_type": "markdown",
   "metadata": {},
   "source": [
    "#### Fonctions utilitaires pour parcourir les images"
   ]
  },
  {
   "cell_type": "code",
   "execution_count": 2,
   "metadata": {
    "ExecuteTime": {
     "end_time": "2024-05-28T10:21:23.129519Z",
     "start_time": "2024-05-28T10:21:23.123955Z"
    }
   },
   "outputs": [],
   "source": [
    "common_path = \"./chest_Xray\"\n",
    "images_files = os.listdir(common_path)\n",
    "subfolders = [\"train\",\"val\",\"test\"]\n",
    "categories = [\"NORMAL\",\"PNEUMONIA\"]\n",
    "\n",
    "def browse_imgs(img_callback, path_folder_callback = None, limit_size = None):\n",
    "    for subfolder in subfolders:\n",
    "        for category in categories:\n",
    "            folder_path = os.path.join(common_path, subfolder, category)\n",
    "            images_files = os.listdir(folder_path)\n",
    "            if path_folder_callback is not None:\n",
    "                path_folder_callback(folder_path, images_files)\n",
    "            array_limit = limit_size if limit_size is not None else len(images_files)\n",
    "            for file_name in images_files[:array_limit]:\n",
    "                if not file_name.endswith(\".jpeg\"):\n",
    "                    continue\n",
    "                image_path = os.path.join(folder_path,file_name)\n",
    "                img = cv2.imread(image_path,cv2.IMREAD_GRAYSCALE)\n",
    "                img_callback(img, category, file_name)  # Pass file_name as an additional argument"
   ]
  },
  {
   "cell_type": "code",
   "execution_count": 35,
   "metadata": {
    "ExecuteTime": {
     "end_time": "2024-05-28T10:22:02.593104Z",
     "start_time": "2024-05-28T10:21:23.778416Z"
    },
    "collapsed": false
   },
   "outputs": [],
   "source": [
    "all_images = []\n",
    "all_categories = []\n",
    "\n",
    "datasetX = []\n",
    "datasetY = []\n",
    "\n",
    "image_size = (200, 200)\n",
    "\n",
    "def load_datasets(img, category, file_name):\n",
    "    if category == \"PNEUMONIA\":\n",
    "        if \"virus\" in file_name:\n",
    "            category = \"VIRUS PNEUMONIA\"\n",
    "        elif \"bacteria\" in file_name:\n",
    "            category = \"BACTERIA PNEUMONIA\"\n",
    "    else:\n",
    "        category = \"NORMAL\"\n",
    "    \n",
    "    new_img = cv2.resize(img, image_size)\n",
    "    all_images.append(new_img)\n",
    "    all_categories.append(category)\n",
    "\n",
    "browse_imgs(load_datasets)"
   ]
  },
  {
   "cell_type": "markdown",
   "metadata": {},
   "source": [
    "##### Doubler le dataset d'images NORMAL"
   ]
  },
  {
   "cell_type": "code",
   "execution_count": 36,
   "metadata": {},
   "outputs": [
    {
     "name": "stdout",
     "output_type": "stream",
     "text": [
      "Normal indices size :  0\n",
      "Normal indices size :  1583\n",
      "Dataset all shape :  (9022, 200, 200)\n"
     ]
    }
   ],
   "source": [
    "# Définir une fonction pour effectuer une rotation d'image\n",
    "def rotate_image(image, angle):\n",
    "    return transform.rotate(image, angle)\n",
    "\n",
    "# Définir une fonction pour effectuer un retournement horizontal d'image\n",
    "def flip_image(image):\n",
    "    return image[:, ::-1]\n",
    "\n",
    "normal_indice = []\n",
    "print(\"Normal indices size : \", len(normal_indice))\n",
    "\n",
    "# Créer une liste pour stocker les indices des images \"NORMAL\"\n",
    "normal_indice = [i for i, category in enumerate(all_categories) if category == \"NORMAL\"]\n",
    "\n",
    "print(\"Normal indices size : \", len(normal_indice))\n",
    "\n",
    "# Pour chaque image \"NORMAL\"...\n",
    "for i in normal_indice:\n",
    "    img = all_images[i]\n",
    "\n",
    "    # Effectuer une rotation de 20 degrés, redimensionner l'image et l'ajouter à la liste de toutes les images\n",
    "    rotated_img = rotate_image(img, 20)\n",
    "    resized_rotated_img = cv2.resize(rotated_img, image_size)\n",
    "    all_images.append(resized_rotated_img)\n",
    "    all_categories.append(\"NORMAL\")\n",
    "\n",
    "    # Effectuer un retournement horizontal, redimensionner l'image et l'ajouter à la liste de toutes les images\n",
    "    flipped_img = flip_image(img)\n",
    "    resized_flipped_img = cv2.resize(flipped_img, image_size)\n",
    "    all_images.append(resized_flipped_img)\n",
    "    all_categories.append(\"NORMAL\")\n",
    "\n",
    "# Convert the list of all images to a numpy array\n",
    "datasetX = np.array(all_images)\n",
    "\n",
    "def use_all_dataset():\n",
    "    global datasetX, datasetY\n",
    "    datasetX = np.array(all_images)\n",
    "    datasetY = np.array(all_categories)\n",
    "\n",
    "use_all_dataset()\n",
    "print(\"Dataset all shape : \", datasetX.shape)"
   ]
  },
  {
   "cell_type": "markdown",
   "metadata": {},
   "source": [
    "#### Doubler le datase d'images \"virus pneumonia\""
   ]
  },
  {
   "cell_type": "code",
   "execution_count": 37,
   "metadata": {},
   "outputs": [
    {
     "name": "stdout",
     "output_type": "stream",
     "text": [
      "VIRUS PNEUMONIA indices size :  1493\n",
      "Dataset all shape :  (12008, 200, 200)\n"
     ]
    }
   ],
   "source": [
    "# # Créer une liste pour stocker les indices des images \"VIRUS PNEUMONIA\"\n",
    "# virus_pneumonia_indices = [i for i, category in enumerate(all_categories) if category == \"VIRUS PNEUMONIA\"]\n",
    "\n",
    "# print(\"VIRUS PNEUMONIA indices size : \", len(virus_pneumonia_indices))\n",
    "\n",
    "# # Pour chaque image \"VIRUS PNEUMONIA\"...\n",
    "# for i in virus_pneumonia_indices:\n",
    "#     img = all_images[i]\n",
    "\n",
    "#     # Effectuer une rotation de 20 degrés, redimensionner l'image et l'ajouter à la liste de toutes les images\n",
    "#     rotated_img = rotate_image(img, 20)\n",
    "#     resized_rotated_img = cv2.resize(rotated_img, image_size)\n",
    "#     all_images.append(resized_rotated_img)\n",
    "#     all_categories.append(\"VIRUS PNEUMONIA\")\n",
    "\n",
    "#     # Effectuer un retournement horizontal, redimensionner l'image et l'ajouter à la liste de toutes les images\n",
    "#     flipped_img = flip_image(img)\n",
    "#     resized_flipped_img = cv2.resize(flipped_img, image_size)\n",
    "#     all_images.append(resized_flipped_img)\n",
    "#     all_categories.append(\"VIRUS PNEUMONIA\")\n",
    "\n",
    "# # Convertir la liste de toutes les images en un tableau numpy\n",
    "# datasetX = np.array(all_images)\n",
    "# datasetY = np.array(all_categories)  # Assurez-vous que cette conversion est nécessaire pour votre cas d'utilisation\n",
    "\n",
    "# print(\"Dataset all shape : \", datasetX.shape)"
   ]
  },
  {
   "cell_type": "markdown",
   "metadata": {},
   "source": [
    "#### Doubler le dataset d'images \"BACTERIA PNEUMONIA\""
   ]
  },
  {
   "cell_type": "code",
   "execution_count": 38,
   "metadata": {},
   "outputs": [
    {
     "name": "stdout",
     "output_type": "stream",
     "text": [
      "BACTERIA PNEUMONIA indices size :  2780\n",
      "Dataset all shape :  (17568, 200, 200)\n"
     ]
    }
   ],
   "source": [
    "# # Créer une liste pour stocker les indices des images \"BACTERIA PNEUMONIA\"\n",
    "# bacteria_pneumonia_indices = [i for i, category in enumerate(all_categories) if category == \"BACTERIA PNEUMONIA\"]\n",
    "\n",
    "# print(\"BACTERIA PNEUMONIA indices size : \", len(bacteria_pneumonia_indices))\n",
    "\n",
    "# # Pour chaque image \"BACTERIA PNEUMONIA\"...\n",
    "# for i in bacteria_pneumonia_indices:\n",
    "#     img = all_images[i]\n",
    "\n",
    "#     # Effectuer une rotation de 20 degrés, redimensionner l'image et l'ajouter à la liste de toutes les images\n",
    "#     rotated_img = rotate_image(img, 20)\n",
    "#     resized_rotated_img = cv2.resize(rotated_img, image_size)\n",
    "#     all_images.append(resized_rotated_img)\n",
    "#     all_categories.append(\"BACTERIA PNEUMONIA\")\n",
    "\n",
    "#     # Effectuer un retournement horizontal, redimensionner l'image et l'ajouter à la liste de toutes les images\n",
    "#     flipped_img = flip_image(img)\n",
    "#     resized_flipped_img = cv2.resize(flipped_img, image_size)\n",
    "#     all_images.append(resized_flipped_img)\n",
    "#     all_categories.append(\"BACTERIA PNEUMONIA\")\n",
    "\n",
    "# # Convertir la liste de toutes les images en un tableau numpy\n",
    "# datasetX = np.array(all_images)\n",
    "# datasetY = np.array(all_categories)\n",
    "\n",
    "# print(\"Dataset all shape : \", datasetX.shape)"
   ]
  },
  {
   "cell_type": "markdown",
   "metadata": {},
   "source": [
    "#### Fonction Display distribution"
   ]
  },
  {
   "cell_type": "code",
   "execution_count": 39,
   "metadata": {},
   "outputs": [],
   "source": [
    "def display_distribution(ytrain, testy, label_encoder):\n",
    "    categories = ['NORMAL', 'VIRUS PNEUMONIA', 'BACTERIA PNEUMONIA']\n",
    "    # Convert numeric labels back to categorical for display\n",
    "    ytrain_cat = label_encoder.inverse_transform(ytrain)\n",
    "    testy_cat = label_encoder.inverse_transform(testy)\n",
    "    \n",
    "    test_counts = [np.count_nonzero(testy_cat == category) for category in categories]\n",
    "    train_counts = [np.count_nonzero(ytrain_cat == category) for category in categories]\n",
    "    \n",
    "    # Plot the distribution graphs\n",
    "    fig, ax = plt.subplots(1, 2, figsize=(15, 5))  # Adjusted subplot count to 2 as only two plots are needed\n",
    "    ax[0].bar(categories, train_counts)\n",
    "    ax[0].set_title(\"Train Distribution\")\n",
    "    ax[1].bar(categories, test_counts)  # Adjusted index to 1 for the second plot\n",
    "    ax[1].set_title(\"Test Distribution\")\n",
    "    plt.show()"
   ]
  },
  {
   "cell_type": "markdown",
   "metadata": {},
   "source": [
    "#### Machine Learning"
   ]
  },
  {
   "cell_type": "markdown",
   "metadata": {},
   "source": [
    "##### Resize and Flatten Transformers"
   ]
  },
  {
   "cell_type": "code",
   "execution_count": 27,
   "metadata": {},
   "outputs": [],
   "source": [
    "from sklearn.neighbors import KNeighborsClassifier\n",
    "from sklearn.pipeline import make_pipeline\n",
    "import pandas as pd\n",
    "from sklearn.model_selection import cross_validate\n",
    "from sklearn.preprocessing import LabelEncoder\n",
    "from sklearn.model_selection import GridSearchCV"
   ]
  },
  {
   "cell_type": "code",
   "execution_count": 28,
   "metadata": {},
   "outputs": [],
   "source": [
    "class ResizeImageTransformer():\n",
    "    def __init__(self, size):\n",
    "        self.size = size\n",
    "        \n",
    "    def fit(self, X, y=None):\n",
    "        return self\n",
    "\n",
    "    def transform(self, X, y=None):\n",
    "        X = np.array([cv2.resize(img, self.size) for img in X])\n",
    "        return X\n",
    "\n",
    "class FlattenTransformer():    \n",
    "    def fit(self, X, y=None):\n",
    "        return self\n",
    "\n",
    "    def transform(self, X, y=None):\n",
    "        X = X.reshape(len(X), -1)\n",
    "        return X"
   ]
  },
  {
   "cell_type": "code",
   "execution_count": 40,
   "metadata": {},
   "outputs": [],
   "source": [
    "general_scoring = {\n",
    "    \"recall\": make_scorer(recall_score, average='macro'),\n",
    "    \"precision\": make_scorer(precision_score, average='macro'),\n",
    "    # \"f1\": make_scorer(f1_score, average='macro')\n",
    "}"
   ]
  },
  {
   "cell_type": "code",
   "execution_count": 45,
   "metadata": {},
   "outputs": [],
   "source": [
    "def cross_val(model, scoring, nb_folds=3, verbose=3):\n",
    "    res = cross_validate(model, datasetX, datasetY, cv=nb_folds, scoring=scoring, error_score=\"raise\", return_train_score=True, verbose=verbose)\n",
    "    res.pop(\"fit_time\")\n",
    "    res.pop(\"score_time\")\n",
    "    return res"
   ]
  },
  {
   "cell_type": "code",
   "execution_count": 46,
   "metadata": {},
   "outputs": [
    {
     "name": "stdout",
     "output_type": "stream",
     "text": [
      "numeric labels :  [1 1 1 ... 0 0 0]\n",
      "Numeric labels shape :  (17568,)\n",
      "[CV] END  precision: (train=1.000, test=0.736) recall: (train=1.000, test=0.675) total time=  28.7s\n",
      "[CV] END  precision: (train=1.000, test=0.727) recall: (train=1.000, test=0.700) total time=  31.0s\n",
      "[CV] END  precision: (train=1.000, test=0.757) recall: (train=1.000, test=0.678) total time=  26.8s\n"
     ]
    },
    {
     "data": {
      "text/html": [
       "<div>\n",
       "<style scoped>\n",
       "    .dataframe tbody tr th:only-of-type {\n",
       "        vertical-align: middle;\n",
       "    }\n",
       "\n",
       "    .dataframe tbody tr th {\n",
       "        vertical-align: top;\n",
       "    }\n",
       "\n",
       "    .dataframe thead th {\n",
       "        text-align: right;\n",
       "    }\n",
       "</style>\n",
       "<table border=\"1\" class=\"dataframe\">\n",
       "  <thead>\n",
       "    <tr style=\"text-align: right;\">\n",
       "      <th></th>\n",
       "      <th>test_recall</th>\n",
       "      <th>train_recall</th>\n",
       "      <th>test_precision</th>\n",
       "      <th>train_precision</th>\n",
       "    </tr>\n",
       "  </thead>\n",
       "  <tbody>\n",
       "    <tr>\n",
       "      <th>0</th>\n",
       "      <td>0.674646</td>\n",
       "      <td>1.0</td>\n",
       "      <td>0.736024</td>\n",
       "      <td>1.0</td>\n",
       "    </tr>\n",
       "    <tr>\n",
       "      <th>1</th>\n",
       "      <td>0.700245</td>\n",
       "      <td>1.0</td>\n",
       "      <td>0.727256</td>\n",
       "      <td>1.0</td>\n",
       "    </tr>\n",
       "    <tr>\n",
       "      <th>2</th>\n",
       "      <td>0.678453</td>\n",
       "      <td>1.0</td>\n",
       "      <td>0.757440</td>\n",
       "      <td>1.0</td>\n",
       "    </tr>\n",
       "  </tbody>\n",
       "</table>\n",
       "</div>"
      ],
      "text/plain": [
       "   test_recall  train_recall  test_precision  train_precision\n",
       "0     0.674646           1.0        0.736024              1.0\n",
       "1     0.700245           1.0        0.727256              1.0\n",
       "2     0.678453           1.0        0.757440              1.0"
      ]
     },
     "execution_count": 46,
     "metadata": {},
     "output_type": "execute_result"
    }
   ],
   "source": [
    "model = make_pipeline(\n",
    "    ResizeImageTransformer(size=(200,200)),\n",
    "    FlattenTransformer(),\n",
    "    KNeighborsClassifier(n_neighbors=15, weights='distance', algorithm='brute')\n",
    ")\n",
    "\n",
    "# Encoder les étiquettes\n",
    "label_encoder = LabelEncoder()\n",
    "numeric_labels = label_encoder.fit_transform(all_categories)\n",
    "datasetY = np.array(numeric_labels)\n",
    "\n",
    "print(\"numeric labels : \", numeric_labels)\n",
    "print(\"Numeric labels shape : \", datasetY.shape)\n",
    "\n",
    "def use_all_dataset():\n",
    "    global datasetX, datasetY\n",
    "    datasetX = np.array(all_images)\n",
    "    datasetY = np.array(numeric_labels)\n",
    "\n",
    "scores = cross_val(model, general_scoring)\n",
    "df = pd.DataFrame(scores)\n",
    "df"
   ]
  },
  {
   "cell_type": "code",
   "execution_count": 49,
   "metadata": {},
   "outputs": [
    {
     "name": "stdout",
     "output_type": "stream",
     "text": [
      "test_recall        0.684448\n",
      "train_recall       1.000000\n",
      "test_precision     0.740240\n",
      "train_precision    1.000000\n",
      "dtype: float64\n"
     ]
    }
   ],
   "source": [
    "print(df.mean())"
   ]
  },
  {
   "cell_type": "code",
   "execution_count": 33,
   "metadata": {},
   "outputs": [
    {
     "name": "stdout",
     "output_type": "stream",
     "text": [
      "Train X shape :  (9606, 200, 200)\n",
      "Train Y shape :  (9606,)\n",
      "Test X shape :  (2402, 200, 200)\n",
      "Test Y shape :  (2402,)\n"
     ]
    }
   ],
   "source": [
    "trainx, testx, trainy, testy = train_test_split(datasetX, datasetY, test_size=0.2, random_state=1)\n",
    "\n",
    "print(\"Train X shape : \", trainx.shape)\n",
    "print(\"Train Y shape : \", trainy.shape)\n",
    "print(\"Test X shape : \", testx.shape)\n",
    "print(\"Test Y shape : \", testy.shape)"
   ]
  },
  {
   "cell_type": "code",
   "execution_count": 50,
   "metadata": {},
   "outputs": [
    {
     "data": {
      "image/png": "[encoded data removed]",
      "text/plain": [
       "<Figure size 1500x500 with 2 Axes>"
      ]
     },
     "metadata": {},
     "output_type": "display_data"
    },
    {
     "name": "stdout",
     "output_type": "stream",
     "text": [
      "Recall (macro) :  0.7992747722406522\n",
      "Precision (macro) :  0.7920018434724317\n"
     ]
    },
    {
     "data": {
      "image/png": "[encoded data removed]",
      "text/plain": [
       "<Figure size 640x480 with 2 Axes>"
      ]
     },
     "metadata": {},
     "output_type": "display_data"
    }
   ],
   "source": [
    "model.fit(trainx, trainy)\n",
    "\n",
    "print(trainx.shape)\n",
    "\n",
    "y_pred = model.predict(testx)\n",
    "\n",
    "display_distribution(trainy, testy, label_encoder)\n",
    "\n",
    "recall = recall_score(testy, y_pred, average='macro')\n",
    "precision = precision_score(testy, y_pred, average='macro')\n",
    "print(\"Recall (macro) : \", recall)\n",
    "print(\"Precision (macro) : \", precision)\n",
    "\n",
    "labels = ['NORMAL', 'VIRUS PNEUMONIA', 'BACTERIA PNEUMONIA']\n",
    "\n",
    "cm = confusion_matrix(testy, y_pred)\n",
    "\n",
    "sns.heatmap(cm, annot=True, fmt=\"d\", xticklabels=labels, yticklabels=labels)\n",
    "plt.xlabel('Predicted')\n",
    "plt.ylabel('True')\n",
    "plt.show()"
   ]
  },
  {
   "cell_type": "markdown",
   "metadata": {},
   "source": [
    "#### Classification Report"
   ]
  },
  {
   "cell_type": "code",
   "execution_count": 51,
   "metadata": {},
   "outputs": [
    {
     "name": "stdout",
     "output_type": "stream",
     "text": [
      "                    precision    recall  f1-score   support\n",
      "\n",
      "            NORMAL       0.69      0.82      0.75       549\n",
      "   VIRUS PNEUMONIA       0.94      0.80      0.87       956\n",
      "BACTERIA PNEUMONIA       0.74      0.77      0.76       897\n",
      "\n",
      "          accuracy                           0.80      2402\n",
      "         macro avg       0.79      0.80      0.79      2402\n",
      "      weighted avg       0.81      0.80      0.80      2402\n",
      "\n"
     ]
    }
   ],
   "source": [
    "from sklearn.metrics import classification_report\n",
    "\n",
    "# Génération du rapport de classification\n",
    "report = classification_report(testy, y_pred, target_names=labels)\n",
    "print(report)"
   ]
  },
  {
   "cell_type": "markdown",
   "metadata": {},
   "source": [
    "#### GridSearchCV"
   ]
  },
  {
   "cell_type": "code",
   "execution_count": 17,
   "metadata": {},
   "outputs": [],
   "source": [
    "param_grid = {\n",
    "    'kneighborsclassifier__n_neighbors': np.arange(1, 20, 1),\n",
    "    'kneighborsclassifier__weights': ['uniform', 'distance'],\n",
    "    'kneighborsclassifier__algorithm': ['brute', 'auto'] # , 'ball_tree', 'kd_tree'\n",
    "}"
   ]
  },
  {
   "cell_type": "code",
   "execution_count": 18,
   "metadata": {},
   "outputs": [
    {
     "name": "stdout",
     "output_type": "stream",
     "text": [
      "Fitting 4 folds for each of 76 candidates, totalling 304 fits\n",
      "[CV 1/4] END kneighborsclassifier__algorithm=brute, kneighborsclassifier__n_neighbors=1, kneighborsclassifier__weights=uniform;, score=0.629 total time=   4.8s\n",
      "[CV 2/4] END kneighborsclassifier__algorithm=brute, kneighborsclassifier__n_neighbors=1, kneighborsclassifier__weights=uniform;, score=0.630 total time=   5.0s\n",
      "[CV 3/4] END kneighborsclassifier__algorithm=brute, kneighborsclassifier__n_neighbors=1, kneighborsclassifier__weights=uniform;, score=0.736 total time=   4.6s\n",
      "[CV 4/4] END kneighborsclassifier__algorithm=brute, kneighborsclassifier__n_neighbors=1, kneighborsclassifier__weights=uniform;, score=0.702 total time=   4.4s\n",
      "[CV 1/4] END kneighborsclassifier__algorithm=brute, kneighborsclassifier__n_neighbors=1, kneighborsclassifier__weights=distance;, score=0.629 total time=   4.3s\n",
      "[CV 2/4] END kneighborsclassifier__algorithm=brute, kneighborsclassifier__n_neighbors=1, kneighborsclassifier__weights=distance;, score=0.630 total time=   4.2s\n",
      "[CV 3/4] END kneighborsclassifier__algorithm=brute, kneighborsclassifier__n_neighbors=1, kneighborsclassifier__weights=distance;, score=0.736 total time=   4.2s\n",
      "[CV 4/4] END kneighborsclassifier__algorithm=brute, kneighborsclassifier__n_neighbors=1, kneighborsclassifier__weights=distance;, score=0.702 total time=   4.2s\n",
      "[CV 1/4] END kneighborsclassifier__algorithm=brute, kneighborsclassifier__n_neighbors=2, kneighborsclassifier__weights=uniform;, score=0.600 total time=   4.3s\n",
      "[CV 2/4] END kneighborsclassifier__algorithm=brute, kneighborsclassifier__n_neighbors=2, kneighborsclassifier__weights=uniform;, score=0.637 total time=   4.2s\n",
      "[CV 3/4] END kneighborsclassifier__algorithm=brute, kneighborsclassifier__n_neighbors=2, kneighborsclassifier__weights=uniform;, score=0.704 total time=   4.2s\n",
      "[CV 4/4] END kneighborsclassifier__algorithm=brute, kneighborsclassifier__n_neighbors=2, kneighborsclassifier__weights=uniform;, score=0.674 total time=   4.3s\n",
      "[CV 1/4] END kneighborsclassifier__algorithm=brute, kneighborsclassifier__n_neighbors=2, kneighborsclassifier__weights=distance;, score=0.629 total time=   4.1s\n",
      "[CV 2/4] END kneighborsclassifier__algorithm=brute, kneighborsclassifier__n_neighbors=2, kneighborsclassifier__weights=distance;, score=0.630 total time=   4.2s\n",
      "[CV 3/4] END kneighborsclassifier__algorithm=brute, kneighborsclassifier__n_neighbors=2, kneighborsclassifier__weights=distance;, score=0.736 total time=   4.3s\n",
      "[CV 4/4] END kneighborsclassifier__algorithm=brute, kneighborsclassifier__n_neighbors=2, kneighborsclassifier__weights=distance;, score=0.702 total time=   4.2s\n",
      "[CV 1/4] END kneighborsclassifier__algorithm=brute, kneighborsclassifier__n_neighbors=3, kneighborsclassifier__weights=uniform;, score=0.642 total time=   4.2s\n",
      "[CV 2/4] END kneighborsclassifier__algorithm=brute, kneighborsclassifier__n_neighbors=3, kneighborsclassifier__weights=uniform;, score=0.645 total time=   4.2s\n",
      "[CV 3/4] END kneighborsclassifier__algorithm=brute, kneighborsclassifier__n_neighbors=3, kneighborsclassifier__weights=uniform;, score=0.751 total time=   4.2s\n",
      "[CV 4/4] END kneighborsclassifier__algorithm=brute, kneighborsclassifier__n_neighbors=3, kneighborsclassifier__weights=uniform;, score=0.718 total time=   5.8s\n",
      "[CV 1/4] END kneighborsclassifier__algorithm=brute, kneighborsclassifier__n_neighbors=3, kneighborsclassifier__weights=distance;, score=0.656 total time=  11.5s\n",
      "[CV 2/4] END kneighborsclassifier__algorithm=brute, kneighborsclassifier__n_neighbors=3, kneighborsclassifier__weights=distance;, score=0.654 total time=  10.8s\n",
      "[CV 3/4] END kneighborsclassifier__algorithm=brute, kneighborsclassifier__n_neighbors=3, kneighborsclassifier__weights=distance;, score=0.759 total time=   9.7s\n",
      "[CV 4/4] END kneighborsclassifier__algorithm=brute, kneighborsclassifier__n_neighbors=3, kneighborsclassifier__weights=distance;, score=0.726 total time=   9.8s\n",
      "[CV 1/4] END kneighborsclassifier__algorithm=brute, kneighborsclassifier__n_neighbors=4, kneighborsclassifier__weights=uniform;, score=0.656 total time=   9.9s\n",
      "[CV 2/4] END kneighborsclassifier__algorithm=brute, kneighborsclassifier__n_neighbors=4, kneighborsclassifier__weights=uniform;, score=0.658 total time=   9.9s\n",
      "[CV 3/4] END kneighborsclassifier__algorithm=brute, kneighborsclassifier__n_neighbors=4, kneighborsclassifier__weights=uniform;, score=0.741 total time=   9.8s\n",
      "[CV 4/4] END kneighborsclassifier__algorithm=brute, kneighborsclassifier__n_neighbors=4, kneighborsclassifier__weights=uniform;, score=0.728 total time=   9.8s\n",
      "[CV 1/4] END kneighborsclassifier__algorithm=brute, kneighborsclassifier__n_neighbors=4, kneighborsclassifier__weights=distance;, score=0.659 total time=   8.2s\n",
      "[CV 2/4] END kneighborsclassifier__algorithm=brute, kneighborsclassifier__n_neighbors=4, kneighborsclassifier__weights=distance;, score=0.655 total time=   6.3s\n",
      "[CV 3/4] END kneighborsclassifier__algorithm=brute, kneighborsclassifier__n_neighbors=4, kneighborsclassifier__weights=distance;, score=0.758 total time=   5.6s\n",
      "[CV 4/4] END kneighborsclassifier__algorithm=brute, kneighborsclassifier__n_neighbors=4, kneighborsclassifier__weights=distance;, score=0.729 total time=   7.3s\n",
      "[CV 1/4] END kneighborsclassifier__algorithm=brute, kneighborsclassifier__n_neighbors=5, kneighborsclassifier__weights=uniform;, score=0.663 total time=   5.5s\n",
      "[CV 2/4] END kneighborsclassifier__algorithm=brute, kneighborsclassifier__n_neighbors=5, kneighborsclassifier__weights=uniform;, score=0.663 total time=  10.6s\n",
      "[CV 3/4] END kneighborsclassifier__algorithm=brute, kneighborsclassifier__n_neighbors=5, kneighborsclassifier__weights=uniform;, score=0.756 total time=  10.7s\n",
      "[CV 4/4] END kneighborsclassifier__algorithm=brute, kneighborsclassifier__n_neighbors=5, kneighborsclassifier__weights=uniform;, score=0.736 total time=  11.0s\n",
      "[CV 1/4] END kneighborsclassifier__algorithm=brute, kneighborsclassifier__n_neighbors=5, kneighborsclassifier__weights=distance;, score=0.671 total time=  10.9s\n",
      "[CV 2/4] END kneighborsclassifier__algorithm=brute, kneighborsclassifier__n_neighbors=5, kneighborsclassifier__weights=distance;, score=0.669 total time=  11.9s\n",
      "[CV 3/4] END kneighborsclassifier__algorithm=brute, kneighborsclassifier__n_neighbors=5, kneighborsclassifier__weights=distance;, score=0.768 total time=  10.7s\n",
      "[CV 4/4] END kneighborsclassifier__algorithm=brute, kneighborsclassifier__n_neighbors=5, kneighborsclassifier__weights=distance;, score=0.745 total time=   7.7s\n",
      "[CV 1/4] END kneighborsclassifier__algorithm=brute, kneighborsclassifier__n_neighbors=6, kneighborsclassifier__weights=uniform;, score=0.673 total time=   8.7s\n",
      "[CV 2/4] END kneighborsclassifier__algorithm=brute, kneighborsclassifier__n_neighbors=6, kneighborsclassifier__weights=uniform;, score=0.662 total time=   9.9s\n",
      "[CV 3/4] END kneighborsclassifier__algorithm=brute, kneighborsclassifier__n_neighbors=6, kneighborsclassifier__weights=uniform;, score=0.749 total time=   5.6s\n",
      "[CV 4/4] END kneighborsclassifier__algorithm=brute, kneighborsclassifier__n_neighbors=6, kneighborsclassifier__weights=uniform;, score=0.738 total time=   6.9s\n",
      "[CV 1/4] END kneighborsclassifier__algorithm=brute, kneighborsclassifier__n_neighbors=6, kneighborsclassifier__weights=distance;, score=0.679 total time=  13.6s\n",
      "[CV 2/4] END kneighborsclassifier__algorithm=brute, kneighborsclassifier__n_neighbors=6, kneighborsclassifier__weights=distance;, score=0.664 total time=  17.3s\n",
      "[CV 3/4] END kneighborsclassifier__algorithm=brute, kneighborsclassifier__n_neighbors=6, kneighborsclassifier__weights=distance;, score=0.767 total time=  15.1s\n",
      "[CV 4/4] END kneighborsclassifier__algorithm=brute, kneighborsclassifier__n_neighbors=6, kneighborsclassifier__weights=distance;, score=0.749 total time=  13.4s\n",
      "[CV 1/4] END kneighborsclassifier__algorithm=brute, kneighborsclassifier__n_neighbors=7, kneighborsclassifier__weights=uniform;, score=0.694 total time=  11.1s\n",
      "[CV 2/4] END kneighborsclassifier__algorithm=brute, kneighborsclassifier__n_neighbors=7, kneighborsclassifier__weights=uniform;, score=0.665 total time=   9.5s\n",
      "[CV 3/4] END kneighborsclassifier__algorithm=brute, kneighborsclassifier__n_neighbors=7, kneighborsclassifier__weights=uniform;, score=0.759 total time=   7.5s\n",
      "[CV 4/4] END kneighborsclassifier__algorithm=brute, kneighborsclassifier__n_neighbors=7, kneighborsclassifier__weights=uniform;, score=0.745 total time=   4.9s\n",
      "[CV 1/4] END kneighborsclassifier__algorithm=brute, kneighborsclassifier__n_neighbors=7, kneighborsclassifier__weights=distance;, score=0.696 total time=   4.7s\n",
      "[CV 2/4] END kneighborsclassifier__algorithm=brute, kneighborsclassifier__n_neighbors=7, kneighborsclassifier__weights=distance;, score=0.670 total time=   4.8s\n",
      "[CV 3/4] END kneighborsclassifier__algorithm=brute, kneighborsclassifier__n_neighbors=7, kneighborsclassifier__weights=distance;, score=0.766 total time=   4.8s\n",
      "[CV 4/4] END kneighborsclassifier__algorithm=brute, kneighborsclassifier__n_neighbors=7, kneighborsclassifier__weights=distance;, score=0.752 total time=   4.7s\n",
      "[CV 1/4] END kneighborsclassifier__algorithm=brute, kneighborsclassifier__n_neighbors=8, kneighborsclassifier__weights=uniform;, score=0.679 total time=   4.7s\n",
      "[CV 2/4] END kneighborsclassifier__algorithm=brute, kneighborsclassifier__n_neighbors=8, kneighborsclassifier__weights=uniform;, score=0.667 total time=   5.2s\n",
      "[CV 3/4] END kneighborsclassifier__algorithm=brute, kneighborsclassifier__n_neighbors=8, kneighborsclassifier__weights=uniform;, score=0.753 total time=   5.1s\n",
      "[CV 4/4] END kneighborsclassifier__algorithm=brute, kneighborsclassifier__n_neighbors=8, kneighborsclassifier__weights=uniform;, score=0.742 total time=   5.3s\n",
      "[CV 1/4] END kneighborsclassifier__algorithm=brute, kneighborsclassifier__n_neighbors=8, kneighborsclassifier__weights=distance;, score=0.691 total time=   4.7s\n",
      "[CV 2/4] END kneighborsclassifier__algorithm=brute, kneighborsclassifier__n_neighbors=8, kneighborsclassifier__weights=distance;, score=0.673 total time=   4.5s\n",
      "[CV 3/4] END kneighborsclassifier__algorithm=brute, kneighborsclassifier__n_neighbors=8, kneighborsclassifier__weights=distance;, score=0.766 total time=   4.7s\n",
      "[CV 4/4] END kneighborsclassifier__algorithm=brute, kneighborsclassifier__n_neighbors=8, kneighborsclassifier__weights=distance;, score=0.753 total time=   4.6s\n",
      "[CV 1/4] END kneighborsclassifier__algorithm=brute, kneighborsclassifier__n_neighbors=9, kneighborsclassifier__weights=uniform;, score=0.687 total time=   4.7s\n",
      "[CV 2/4] END kneighborsclassifier__algorithm=brute, kneighborsclassifier__n_neighbors=9, kneighborsclassifier__weights=uniform;, score=0.668 total time=   4.9s\n",
      "[CV 3/4] END kneighborsclassifier__algorithm=brute, kneighborsclassifier__n_neighbors=9, kneighborsclassifier__weights=uniform;, score=0.759 total time=   5.1s\n",
      "[CV 4/4] END kneighborsclassifier__algorithm=brute, kneighborsclassifier__n_neighbors=9, kneighborsclassifier__weights=uniform;, score=0.753 total time=   5.3s\n",
      "[CV 1/4] END kneighborsclassifier__algorithm=brute, kneighborsclassifier__n_neighbors=9, kneighborsclassifier__weights=distance;, score=0.695 total time=   6.0s\n",
      "[CV 2/4] END kneighborsclassifier__algorithm=brute, kneighborsclassifier__n_neighbors=9, kneighborsclassifier__weights=distance;, score=0.671 total time=   6.1s\n",
      "[CV 3/4] END kneighborsclassifier__algorithm=brute, kneighborsclassifier__n_neighbors=9, kneighborsclassifier__weights=distance;, score=0.766 total time=   6.0s\n",
      "[CV 4/4] END kneighborsclassifier__algorithm=brute, kneighborsclassifier__n_neighbors=9, kneighborsclassifier__weights=distance;, score=0.761 total time=   5.9s\n",
      "[CV 1/4] END kneighborsclassifier__algorithm=brute, kneighborsclassifier__n_neighbors=10, kneighborsclassifier__weights=uniform;, score=0.680 total time=   5.9s\n",
      "[CV 2/4] END kneighborsclassifier__algorithm=brute, kneighborsclassifier__n_neighbors=10, kneighborsclassifier__weights=uniform;, score=0.668 total time=   5.7s\n",
      "[CV 3/4] END kneighborsclassifier__algorithm=brute, kneighborsclassifier__n_neighbors=10, kneighborsclassifier__weights=uniform;, score=0.756 total time=   5.5s\n",
      "[CV 4/4] END kneighborsclassifier__algorithm=brute, kneighborsclassifier__n_neighbors=10, kneighborsclassifier__weights=uniform;, score=0.753 total time=   5.6s\n",
      "[CV 1/4] END kneighborsclassifier__algorithm=brute, kneighborsclassifier__n_neighbors=10, kneighborsclassifier__weights=distance;, score=0.690 total time=   5.6s\n",
      "[CV 2/4] END kneighborsclassifier__algorithm=brute, kneighborsclassifier__n_neighbors=10, kneighborsclassifier__weights=distance;, score=0.670 total time=   5.6s\n",
      "[CV 3/4] END kneighborsclassifier__algorithm=brute, kneighborsclassifier__n_neighbors=10, kneighborsclassifier__weights=distance;, score=0.772 total time=   5.1s\n",
      "[CV 4/4] END kneighborsclassifier__algorithm=brute, kneighborsclassifier__n_neighbors=10, kneighborsclassifier__weights=distance;, score=0.760 total time=   4.6s\n",
      "[CV 1/4] END kneighborsclassifier__algorithm=brute, kneighborsclassifier__n_neighbors=11, kneighborsclassifier__weights=uniform;, score=0.681 total time=   4.6s\n",
      "[CV 2/4] END kneighborsclassifier__algorithm=brute, kneighborsclassifier__n_neighbors=11, kneighborsclassifier__weights=uniform;, score=0.678 total time=   5.6s\n",
      "[CV 3/4] END kneighborsclassifier__algorithm=brute, kneighborsclassifier__n_neighbors=11, kneighborsclassifier__weights=uniform;, score=0.766 total time=   4.4s\n",
      "[CV 4/4] END kneighborsclassifier__algorithm=brute, kneighborsclassifier__n_neighbors=11, kneighborsclassifier__weights=uniform;, score=0.754 total time=   5.0s\n",
      "[CV 1/4] END kneighborsclassifier__algorithm=brute, kneighborsclassifier__n_neighbors=11, kneighborsclassifier__weights=distance;, score=0.687 total time=   5.8s\n",
      "[CV 2/4] END kneighborsclassifier__algorithm=brute, kneighborsclassifier__n_neighbors=11, kneighborsclassifier__weights=distance;, score=0.675 total time=   6.1s\n",
      "[CV 3/4] END kneighborsclassifier__algorithm=brute, kneighborsclassifier__n_neighbors=11, kneighborsclassifier__weights=distance;, score=0.771 total time=   5.6s\n",
      "[CV 4/4] END kneighborsclassifier__algorithm=brute, kneighborsclassifier__n_neighbors=11, kneighborsclassifier__weights=distance;, score=0.762 total time=   5.9s\n",
      "[CV 1/4] END kneighborsclassifier__algorithm=brute, kneighborsclassifier__n_neighbors=12, kneighborsclassifier__weights=uniform;, score=0.679 total time= 1.5min\n",
      "[CV 2/4] END kneighborsclassifier__algorithm=brute, kneighborsclassifier__n_neighbors=12, kneighborsclassifier__weights=uniform;, score=0.676 total time= 2.9min\n",
      "[CV 3/4] END kneighborsclassifier__algorithm=brute, kneighborsclassifier__n_neighbors=12, kneighborsclassifier__weights=uniform;, score=0.758 total time=  23.7s\n",
      "[CV 4/4] END kneighborsclassifier__algorithm=brute, kneighborsclassifier__n_neighbors=12, kneighborsclassifier__weights=uniform;, score=0.758 total time= 1.3min\n",
      "[CV 1/4] END kneighborsclassifier__algorithm=brute, kneighborsclassifier__n_neighbors=12, kneighborsclassifier__weights=distance;, score=0.682 total time=  24.1s\n",
      "[CV 2/4] END kneighborsclassifier__algorithm=brute, kneighborsclassifier__n_neighbors=12, kneighborsclassifier__weights=distance;, score=0.681 total time=  13.5s\n",
      "[CV 3/4] END kneighborsclassifier__algorithm=brute, kneighborsclassifier__n_neighbors=12, kneighborsclassifier__weights=distance;, score=0.773 total time=   5.8s\n",
      "[CV 4/4] END kneighborsclassifier__algorithm=brute, kneighborsclassifier__n_neighbors=12, kneighborsclassifier__weights=distance;, score=0.763 total time=   5.3s\n",
      "[CV 1/4] END kneighborsclassifier__algorithm=brute, kneighborsclassifier__n_neighbors=13, kneighborsclassifier__weights=uniform;, score=0.683 total time=   5.2s\n",
      "[CV 2/4] END kneighborsclassifier__algorithm=brute, kneighborsclassifier__n_neighbors=13, kneighborsclassifier__weights=uniform;, score=0.674 total time=   5.0s\n",
      "[CV 3/4] END kneighborsclassifier__algorithm=brute, kneighborsclassifier__n_neighbors=13, kneighborsclassifier__weights=uniform;, score=0.757 total time=   5.1s\n",
      "[CV 4/4] END kneighborsclassifier__algorithm=brute, kneighborsclassifier__n_neighbors=13, kneighborsclassifier__weights=uniform;, score=0.756 total time=   4.8s\n",
      "[CV 1/4] END kneighborsclassifier__algorithm=brute, kneighborsclassifier__n_neighbors=13, kneighborsclassifier__weights=distance;, score=0.683 total time=   5.4s\n",
      "[CV 2/4] END kneighborsclassifier__algorithm=brute, kneighborsclassifier__n_neighbors=13, kneighborsclassifier__weights=distance;, score=0.678 total time=   5.1s\n",
      "[CV 3/4] END kneighborsclassifier__algorithm=brute, kneighborsclassifier__n_neighbors=13, kneighborsclassifier__weights=distance;, score=0.768 total time=   4.9s\n",
      "[CV 4/4] END kneighborsclassifier__algorithm=brute, kneighborsclassifier__n_neighbors=13, kneighborsclassifier__weights=distance;, score=0.765 total time=   4.6s\n",
      "[CV 1/4] END kneighborsclassifier__algorithm=brute, kneighborsclassifier__n_neighbors=14, kneighborsclassifier__weights=uniform;, score=0.678 total time=   4.8s\n",
      "[CV 2/4] END kneighborsclassifier__algorithm=brute, kneighborsclassifier__n_neighbors=14, kneighborsclassifier__weights=uniform;, score=0.678 total time=   5.6s\n",
      "[CV 3/4] END kneighborsclassifier__algorithm=brute, kneighborsclassifier__n_neighbors=14, kneighborsclassifier__weights=uniform;, score=0.758 total time=   7.4s\n",
      "[CV 4/4] END kneighborsclassifier__algorithm=brute, kneighborsclassifier__n_neighbors=14, kneighborsclassifier__weights=uniform;, score=0.759 total time=   8.1s\n",
      "[CV 1/4] END kneighborsclassifier__algorithm=brute, kneighborsclassifier__n_neighbors=14, kneighborsclassifier__weights=distance;, score=0.684 total time=   6.9s\n",
      "[CV 2/4] END kneighborsclassifier__algorithm=brute, kneighborsclassifier__n_neighbors=14, kneighborsclassifier__weights=distance;, score=0.680 total time=   6.3s\n",
      "[CV 3/4] END kneighborsclassifier__algorithm=brute, kneighborsclassifier__n_neighbors=14, kneighborsclassifier__weights=distance;, score=0.769 total time=   7.7s\n",
      "[CV 4/4] END kneighborsclassifier__algorithm=brute, kneighborsclassifier__n_neighbors=14, kneighborsclassifier__weights=distance;, score=0.765 total time=   8.0s\n",
      "[CV 1/4] END kneighborsclassifier__algorithm=brute, kneighborsclassifier__n_neighbors=15, kneighborsclassifier__weights=uniform;, score=0.683 total time=   9.8s\n",
      "[CV 2/4] END kneighborsclassifier__algorithm=brute, kneighborsclassifier__n_neighbors=15, kneighborsclassifier__weights=uniform;, score=0.674 total time=   8.3s\n",
      "[CV 3/4] END kneighborsclassifier__algorithm=brute, kneighborsclassifier__n_neighbors=15, kneighborsclassifier__weights=uniform;, score=0.754 total time= 1.3min\n",
      "[CV 4/4] END kneighborsclassifier__algorithm=brute, kneighborsclassifier__n_neighbors=15, kneighborsclassifier__weights=uniform;, score=0.759 total time=  13.6s\n",
      "[CV 1/4] END kneighborsclassifier__algorithm=brute, kneighborsclassifier__n_neighbors=15, kneighborsclassifier__weights=distance;, score=0.686 total time=  18.1s\n",
      "[CV 2/4] END kneighborsclassifier__algorithm=brute, kneighborsclassifier__n_neighbors=15, kneighborsclassifier__weights=distance;, score=0.679 total time=  26.2s\n",
      "[CV 3/4] END kneighborsclassifier__algorithm=brute, kneighborsclassifier__n_neighbors=15, kneighborsclassifier__weights=distance;, score=0.767 total time=  32.9s\n",
      "[CV 4/4] END kneighborsclassifier__algorithm=brute, kneighborsclassifier__n_neighbors=15, kneighborsclassifier__weights=distance;, score=0.768 total time=  16.2s\n",
      "[CV 1/4] END kneighborsclassifier__algorithm=brute, kneighborsclassifier__n_neighbors=16, kneighborsclassifier__weights=uniform;, score=0.682 total time=  20.0s\n"
     ]
    }
   ],
   "source": [
    "model_grid_search = GridSearchCV(\n",
    "    model,\n",
    "    param_grid=param_grid,\n",
    "    cv=4, scoring=make_scorer(recall_score, average='macro'),\n",
    "    verbose=3)\n",
    "use_all_dataset()\n",
    "model_grid_search.fit(datasetX, datasetY)\n",
    "model_grid_search.best_params_"
   ]
  },
  {
   "cell_type": "code",
   "execution_count": 33,
   "metadata": {},
   "outputs": [
    {
     "name": "stdout",
     "output_type": "stream",
     "text": [
      "recall :  1.0\n",
      "precision :  1.0\n",
      "f1score :  1.0\n"
     ]
    },
    {
     "data": {
      "image/png": "[encoded data removed]",
      "text/plain": [
       "<Figure size 640x480 with 2 Axes>"
      ]
     },
     "metadata": {},
     "output_type": "display_data"
    }
   ],
   "source": [
    "y_pred = model_grid_search.predict(testx)\n",
    "recall = recall_score(testy, y_pred, average='macro')\n",
    "precision = precision_score(testy, y_pred, average='macro')\n",
    "f1score = f1_score(testy, y_pred, average='macro')\n",
    "print(\"recall : \", recall)\n",
    "print(\"precision : \", precision)\n",
    "print(\"f1score : \", f1score)\n",
    "\n",
    "labels = ['NORMAL', 'VIRUS PNEUMONIA', 'BACTERIA PNEUMONIA']  # Remplacez 'Label1', 'Label2', 'Label3' par vos vrais labels\n",
    "\n",
    "# Calcul de la matrice de confusion\n",
    "cm = confusion_matrix(testy, y_pred)\n",
    "\n",
    "# Affichage de la matrice de confusion avec les vrais labels\n",
    "sns.heatmap(cm, annot=True, fmt=\"d\", xticklabels=labels, yticklabels=labels)\n",
    "plt.xlabel('Predicted')\n",
    "plt.ylabel('True')\n",
    "plt.show()"
   ]
  },
  {
   "cell_type": "code",
   "execution_count": 50,
   "metadata": {},
   "outputs": [
    {
     "data": {
      "text/plain": [
       "{'memory': None,\n",
       " 'steps': [('resizeimagetransformer',\n",
       "   <__main__.ResizeImageTransformer at 0x25ed8f5f110>),\n",
       "  ('flattentransformer', <__main__.FlattenTransformer at 0x25ed901dfa0>),\n",
       "  ('kneighborsclassifier', KNeighborsClassifier(n_neighbors=11))],\n",
       " 'verbose': False,\n",
       " 'resizeimagetransformer': <__main__.ResizeImageTransformer at 0x25ed8f5f110>,\n",
       " 'flattentransformer': <__main__.FlattenTransformer at 0x25ed901dfa0>,\n",
       " 'kneighborsclassifier': KNeighborsClassifier(n_neighbors=11),\n",
       " 'kneighborsclassifier__algorithm': 'auto',\n",
       " 'kneighborsclassifier__leaf_size': 30,\n",
       " 'kneighborsclassifier__metric': 'minkowski',\n",
       " 'kneighborsclassifier__metric_params': None,\n",
       " 'kneighborsclassifier__n_jobs': None,\n",
       " 'kneighborsclassifier__n_neighbors': 11,\n",
       " 'kneighborsclassifier__p': 2,\n",
       " 'kneighborsclassifier__weights': 'uniform'}"
      ]
     },
     "execution_count": 50,
     "metadata": {},
     "output_type": "execute_result"
    }
   ],
   "source": [
    "model.get_params()"
   ]
  },
  {
   "cell_type": "markdown",
   "metadata": {},
   "source": [
    "#### Learning Curve"
   ]
  },
  {
   "cell_type": "code",
   "execution_count": 52,
   "metadata": {},
   "outputs": [
    {
     "name": "stdout",
     "output_type": "stream",
     "text": [
      "[learning_curve] Training set sizes: [ 640 1280 1921 2561 3202 3842 4482 5123 5763 6404]\n",
      "[CV] END ..................., score=(train=1.000, test=0.719) total time=   2.1s\n",
      "[CV] END ..................., score=(train=1.000, test=0.745) total time=   2.7s\n",
      "[CV] END ..................., score=(train=1.000, test=0.758) total time=   3.7s\n",
      "[CV] END ..................., score=(train=1.000, test=0.760) total time=   4.3s\n",
      "[CV] END ..................., score=(train=1.000, test=0.767) total time=   5.5s\n",
      "[CV] END ..................., score=(train=1.000, test=0.773) total time=   6.0s\n",
      "[CV] END ..................., score=(train=1.000, test=0.780) total time=   7.3s\n",
      "[CV] END ..................., score=(train=1.000, test=0.790) total time=   8.1s\n",
      "[CV] END ..................., score=(train=1.000, test=0.789) total time=   8.6s\n",
      "[CV] END ..................., score=(train=1.000, test=0.792) total time=  10.0s\n",
      "[CV] END ..................., score=(train=1.000, test=0.717) total time=   2.1s\n",
      "[CV] END ..................., score=(train=1.000, test=0.729) total time=   2.8s\n",
      "[CV] END ..................., score=(train=1.000, test=0.757) total time=   3.6s\n",
      "[CV] END ..................., score=(train=1.000, test=0.767) total time=   4.6s\n",
      "[CV] END ..................., score=(train=1.000, test=0.775) total time=   5.4s\n",
      "[CV] END ..................., score=(train=1.000, test=0.776) total time=   5.9s\n",
      "[CV] END ..................., score=(train=1.000, test=0.781) total time=   7.3s\n",
      "[CV] END ..................., score=(train=1.000, test=0.788) total time=   7.8s\n",
      "[CV] END ..................., score=(train=1.000, test=0.795) total time=   8.0s\n",
      "[CV] END ..................., score=(train=1.000, test=0.797) total time=   9.6s\n",
      "[CV] END ..................., score=(train=1.000, test=0.724) total time=   2.0s\n",
      "[CV] END ..................., score=(train=1.000, test=0.738) total time=   2.9s\n",
      "[CV] END ..................., score=(train=1.000, test=0.768) total time=   3.8s\n",
      "[CV] END ..................., score=(train=1.000, test=0.780) total time=   5.1s\n",
      "[CV] END ..................., score=(train=1.000, test=0.790) total time=   6.3s\n",
      "[CV] END ..................., score=(train=1.000, test=0.790) total time=   6.6s\n",
      "[CV] END ..................., score=(train=1.000, test=0.793) total time=   7.7s\n",
      "[CV] END ..................., score=(train=1.000, test=0.796) total time=   8.5s\n",
      "[CV] END ..................., score=(train=1.000, test=0.796) total time=   9.1s\n",
      "[CV] END ..................., score=(train=1.000, test=0.800) total time=  10.2s\n"
     ]
    },
    {
     "data": {
      "image/png": "[encoded data removed]",
      "text/plain": [
       "<Figure size 640x480 with 1 Axes>"
      ]
     },
     "metadata": {},
     "output_type": "display_data"
    }
   ],
   "source": [
    "from sklearn.model_selection import learning_curve\n",
    "import numpy as np\n",
    "import matplotlib.pyplot as plt\n",
    "\n",
    "def plot_learning_curve(estimator, title, X, y, ylim=None, cv=None,\n",
    "                        n_jobs=None, train_sizes=np.linspace(.1, 1.0, 10), verbose=3):\n",
    "    plt.figure()\n",
    "    plt.title(title)\n",
    "    if ylim is not None:\n",
    "        plt.ylim(*ylim)\n",
    "    plt.xlabel(\"Training examples\")\n",
    "    plt.ylabel(\"Score\")\n",
    "    train_sizes, train_scores, test_scores = learning_curve(\n",
    "        estimator, X, y, cv=cv, n_jobs=n_jobs, train_sizes=train_sizes, verbose=verbose)\n",
    "    train_scores_mean = np.mean(train_scores, axis=1)\n",
    "    train_scores_std = np.std(train_scores, axis=1)\n",
    "    test_scores_mean = np.mean(test_scores, axis=1)\n",
    "    test_scores_std = np.std(test_scores, axis=1)\n",
    "    plt.grid()\n",
    "\n",
    "    plt.fill_between(train_sizes, train_scores_mean - train_scores_std,\n",
    "                     train_scores_mean + train_scores_std, alpha=0.1,\n",
    "                     color=\"r\")\n",
    "    plt.fill_between(train_sizes, test_scores_mean - test_scores_std,\n",
    "                     test_scores_mean + test_scores_std, alpha=0.1, color=\"g\")\n",
    "    plt.plot(train_sizes, train_scores_mean, 'o-', color=\"r\",\n",
    "             label=\"Training score\")\n",
    "    plt.plot(train_sizes, test_scores_mean, 'o-', color=\"g\",\n",
    "             label=\"Cross-validation score\")\n",
    "\n",
    "    plt.legend(loc=\"best\")\n",
    "    return plt\n",
    "\n",
    "# Tracer les courbes d'apprentissage\n",
    "plot_learning_curve(model, \"Learning Curves (KNeighborsClassifier)\", trainx, trainy, cv=3, verbose=3)\n",
    "plt.show()"
   ]
  }
 ],
 "metadata": {
  "kernelspec": {
   "display_name": "Python 3",
   "language": "python",
   "name": "python3"
  },
  "language_info": {
   "codemirror_mode": {
    "name": "ipython",
    "version": 3
   },
   "file_extension": ".py",
   "mimetype": "text/x-python",
   "name": "python",
   "nbconvert_exporter": "python",
   "pygments_lexer": "ipython3",
   "version": "3.12.2"
  }
 },
 "nbformat": 4,
 "nbformat_minor": 2
}
